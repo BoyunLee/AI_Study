{
 "cells": [
  {
   "cell_type": "code",
   "execution_count": 1,
   "id": "abe2b2f6-fc04-477c-b25f-c43380b32c53",
   "metadata": {},
   "outputs": [
    {
     "data": {
      "text/plain": [
       "'\\n - 사용기관 : http://www.data.go.kr 공공데이터포털\\n - 검색어   : 한국공항공사 전국공항 주차장 혼잡도\\n - 회원로그인 필요 \\n'"
      ]
     },
     "execution_count": 1,
     "metadata": {},
     "output_type": "execute_result"
    }
   ],
   "source": [
    "\"\"\"\n",
    " - 사용기관 : http://www.data.go.kr 공공데이터포털\n",
    " - 검색어   : 한국공항공사 전국공항 주차장 혼잡도\n",
    " - 회원로그인 필요 \n",
    "\"\"\""
   ]
  },
  {
   "cell_type": "code",
   "execution_count": 2,
   "id": "a68e8df7-c371-4ea3-8e1f-c7f5840d7dab",
   "metadata": {},
   "outputs": [],
   "source": [
    "### 오픈 API 요청 URL 인증키 \n",
    "#http://openapi.airport.co.kr/service/rest/AirportParkingCongestion/airportParkingCongestionRT\n",
    "\n",
    "### 일반 인증Key(Encoding)\n",
    "#n2TG7kGV4IreKGGlybdVA0aoL8329dOx5dH0ohMb5vC1h0TdQqC3mPeZqUiW%2FwCA1uBstV5YQAAalYD6qtnh8w%3D%3D"
   ]
  },
  {
   "cell_type": "code",
   "execution_count": 3,
   "id": "18a10b8c-6d83-4770-b812-54dca9d3833b",
   "metadata": {},
   "outputs": [
    {
     "data": {
      "text/plain": [
       "'\\n<오픈API 데이터 수집 방법> \\n - 요청 URL에 요청 속성값 정의 \\n - 서비스 요청하기 : request 객체 사용하여 요청함 (http 웹 전송방식을 따름) \\n - 응답 받은 데이터 추출하기 : 추출한 데이터는 text 형태의 문자열 데이터임\\n - 응답 받은 데이터를 의미있는 document 형태의 xml 태그 형태로 변환하기(parser 해석)\\n - 추출할 text 데이터가 있는 태그를 이용하여 추출\\n\\n'"
      ]
     },
     "execution_count": 3,
     "metadata": {},
     "output_type": "execute_result"
    }
   ],
   "source": [
    "\"\"\"\n",
    "<오픈API 데이터 수집 방법> \n",
    " - 요청 URL에 요청 속성값 정의 \n",
    " - 서비스 요청하기 : request 객체 사용하여 요청함 (http 웹 전송방식을 따름) \n",
    " - 응답 받은 데이터 추출하기 : 추출한 데이터는 text 형태의 문자열 데이터임\n",
    " - 응답 받은 데이터를 의미있는 document 형태의 xml 태그 형태로 변환하기(parser 해석)\n",
    " - 추출할 text 데이터가 있는 태그를 이용하여 추출\n",
    "\n",
    "\"\"\""
   ]
  },
  {
   "cell_type": "code",
   "execution_count": 4,
   "id": "79396731-9c53-495c-aafc-3d7452305446",
   "metadata": {},
   "outputs": [],
   "source": [
    "### 사용되는 라이브러리 \n",
    "# 웹 요청/응답을 처리하는 라이브러리 \n",
    "import requests \n",
    "\n",
    "# 응답받은 문자열 데이터를 태그로 인식될 수 있도록 의미를 부여시키는 라이브러리 \n",
    "# - 정적페이지 처리 라이브러리라고 칭합니다.\n",
    "from bs4 import BeautifulSoup\n",
    "\n",
    "# 데이터 처리\n",
    "import pandas as pd"
   ]
  },
  {
   "cell_type": "code",
   "execution_count": 5,
   "id": "d58a4526-1655-401c-9d19-c191a5602d94",
   "metadata": {},
   "outputs": [
    {
     "data": {
      "text/plain": [
       "'http://openapi.airport.co.kr/service/rest/AirportParkingCongestion/airportParkingCongestionRT?schAirportCode={AirCode}&serviceKey={key}&numOfRows={nrow}&pageNo={pno}'"
      ]
     },
     "execution_count": 5,
     "metadata": {},
     "output_type": "execute_result"
    }
   ],
   "source": [
    "### 요청 URL 변수 정의 (우리가 가져온 API) \n",
    "url = \"http://openapi.airport.co.kr/service/rest/AirportParkingCongestion/airportParkingCongestionRT\"\n",
    "url += \"?schAirportCode={AirCode}&serviceKey={key}&numOfRows={nrow}&pageNo={pno}\"\n",
    "url"
   ]
  },
  {
   "cell_type": "code",
   "execution_count": 6,
   "id": "3594a064-f76b-42e8-a95b-25866e6d1e0f",
   "metadata": {},
   "outputs": [
    {
     "data": {
      "text/plain": [
       "'VKOokZNmL7Xf4KkA%2FYOcmDH2Vu9MvYQ73fWjVQRilruvMZ6BwHRwFfRg%2B4R%2BrXCbQNZAh1sSUqLzrFtbtkTN%2BA%3D%3D'"
      ]
     },
     "execution_count": 6,
     "metadata": {},
     "output_type": "execute_result"
    }
   ],
   "source": [
    "### serviceKey(인증키) 변수 정의\n",
    "apikey = \"VKOokZNmL7Xf4KkA%2FYOcmDH2Vu9MvYQ73fWjVQRilruvMZ6BwHRwFfRg%2B4R%2BrXCbQNZAh1sSUqLzrFtbtkTN%2BA%3D%3D\"\n",
    "apikey"
   ]
  },
  {
   "cell_type": "code",
   "execution_count": 7,
   "id": "629d15f7-34bd-49ff-8c5d-69c99d59d999",
   "metadata": {},
   "outputs": [
    {
     "data": {
      "text/plain": [
       "['GMP', 'PUS', 'CJU', 'TAE', 'KWJ', 'RSU', 'USN', 'KUV']"
      ]
     },
     "execution_count": 7,
     "metadata": {},
     "output_type": "execute_result"
    }
   ],
   "source": [
    "### 공항코드 변수 정의\n",
    "schAirportCode_list = [\"GMP\", \"PUS\", \"CJU\", \"TAE\", \"KWJ\", \"RSU\", \"USN\", \"KUV\"] \n",
    "schAirportCode_list"
   ]
  },
  {
   "cell_type": "code",
   "execution_count": 8,
   "id": "2b3ddf34-5216-43c9-945e-feb55b6fb089",
   "metadata": {},
   "outputs": [
    {
     "data": {
      "text/plain": [
       "(10, 1)"
      ]
     },
     "execution_count": 8,
     "metadata": {},
     "output_type": "execute_result"
    }
   ],
   "source": [
    "### 행의 갯수 변수 정의\n",
    "numOfRows = 10\n",
    "\n",
    "### 페이지 번호 변수 정의\n",
    "pageNo = 1 \n",
    "\n",
    "numOfRows, pageNo"
   ]
  },
  {
   "cell_type": "code",
   "execution_count": 9,
   "id": "f42abe7d-fed4-4288-b0d7-8fd2cdf7f456",
   "metadata": {},
   "outputs": [
    {
     "data": {
      "text/plain": [
       "'http://openapi.airport.co.kr/service/rest/AirportParkingCongestion/airportParkingCongestionRT?schAirportCode=GMP&serviceKey=VKOokZNmL7Xf4KkA%2FYOcmDH2Vu9MvYQ73fWjVQRilruvMZ6BwHRwFfRg%2B4R%2BrXCbQNZAh1sSUqLzrFtbtkTN%2BA%3D%3D&numOfRows=10&pageNo=1'"
      ]
     },
     "execution_count": 9,
     "metadata": {},
     "output_type": "execute_result"
    }
   ],
   "source": [
    "### API 요청 URL 완성하기\n",
    "# - 공항코드는 0번째 공항 사용\n",
    "api_url = url.format(AirCode = schAirportCode_list[0],\n",
    "                     key = apikey,\n",
    "                     nrow = numOfRows,\n",
    "                     pno = pageNo)\n",
    "api_url"
   ]
  },
  {
   "cell_type": "code",
   "execution_count": 10,
   "id": "a15208d7-4379-4977-adce-11fe64cdbb14",
   "metadata": {},
   "outputs": [
    {
     "data": {
      "text/plain": [
       "'<?xml version=\"1.0\" encoding=\"UTF-8\" standalone=\"yes\"?><response><header><resultCode>00</resultCode><resultMsg>NORMAL SERVICE.</resultMsg></header><body><items><item><airportEng>GIMPO INTERNATIONAL AIRPORT</airportEng><airportKor>김포국제공항</airportKor><parkingAirportCodeName>국내선 제1주차장</parkingAirportCodeName><parkingCongestion>만차</parkingCongestion><parkingCongestionDegree>100%</parkingCongestionDegree><parkingOccupiedSpace>2279</parkingOccupiedSpace><parkingTotalSpace>2279</parkingTotalSpace><sysGetdate>2024-04-18</sysGetdate><sysGettime>13:08:02</sysGettime></item><item><airportEng>GIMPO INTERNATIONAL AIRPORT</airportEng><airportKor>김포국제공항</airportKor><parkingAirportCodeName>국내선 제2주차장</parkingAirportCodeName><parkingCongestion>원활</parkingCongestion><parkingCongestionDegree>54.99%</parkingCongestionDegree><parkingOccupiedSpace>953</parkingOccupiedSpace><parkingTotalSpace>1733</parkingTotalSpace><sysGetdate>2024-04-18</sysGetdate><sysGettime>13:08:02</sysGettime></item><item><airportEng>GIMPO INTERNATIONAL AIRPORT</airportEng><airportKor>김포국제공항</airportKor><parkingAirportCodeName>국제선 주차빌딩</parkingAirportCodeName><parkingCongestion>원활</parkingCongestion><parkingCongestionDegree>86.95%</parkingCongestionDegree><parkingOccupiedSpace>493</parkingOccupiedSpace><parkingTotalSpace>567</parkingTotalSpace><sysGetdate>2024-04-18</sysGetdate><sysGettime>13:08:02</sysGettime></item><item><airportEng>GIMPO INTERNATIONAL AIRPORT</airportEng><airportKor>김포국제공항</airportKor><parkingAirportCodeName>국제선 지하</parkingAirportCodeName><parkingCongestion>만차</parkingCongestion><parkingCongestionDegree>100%</parkingCongestionDegree><parkingOccupiedSpace>1200</parkingOccupiedSpace><parkingTotalSpace>1200</parkingTotalSpace><sysGetdate>2024-04-18</sysGetdate><sysGettime>13:08:02</sysGettime></item><item><airportEng>GIMPO INTERNATIONAL AIRPORT</airportEng><airportKor>김포국제공항</airportKor><parkingAirportCodeName>화물청사</parkingAirportCodeName><parkingCongestion>만차</parkingCongestion><parkingCongestionDegree>100%</parkingCongestionDegree><parkingOccupiedSpace>737</parkingOccupiedSpace><parkingTotalSpace>737</parkingTotalSpace><sysGetdate>2024-04-18</sysGetdate><sysGettime>13:08:02</sysGettime></item></items><numOfRows>10</numOfRows><pageNo>1</pageNo><totalCount>5</totalCount></body></response>'"
      ]
     },
     "execution_count": 10,
     "metadata": {},
     "output_type": "execute_result"
    }
   ],
   "source": [
    "rs_data = requests.get(api_url) \n",
    "rs_data.text"
   ]
  },
  {
   "cell_type": "code",
   "execution_count": 11,
   "id": "45bf6c35-d63d-4cea-9749-c68dfcb29639",
   "metadata": {},
   "outputs": [
    {
     "data": {
      "text/plain": [
       "'\\n-lxml 라이브러리 설치하기 : parser 변환기\\n - pip install lxml \\n'"
      ]
     },
     "execution_count": 11,
     "metadata": {},
     "output_type": "execute_result"
    }
   ],
   "source": [
    "###\n",
    "\"\"\"\n",
    "-lxml 라이브러리 설치하기 : parser 변환기\n",
    " - pip install lxml \n",
    "\"\"\""
   ]
  },
  {
   "cell_type": "code",
   "execution_count": 12,
   "id": "dda2a182-3af7-4050-9726-b926ac69d2e9",
   "metadata": {},
   "outputs": [
    {
     "name": "stderr",
     "output_type": "stream",
     "text": [
      "C:\\Users\\Administrator\\AppData\\Local\\Temp\\ipykernel_4596\\4294131780.py:2: XMLParsedAsHTMLWarning: It looks like you're parsing an XML document using an HTML parser. If this really is an HTML document (maybe it's XHTML?), you can ignore or filter this warning. If it's XML, you should know that using an XML parser will be more reliable. To parse this document as XML, make sure you have the lxml package installed, and pass the keyword argument `features=\"xml\"` into the BeautifulSoup constructor.\n",
      "  rs_xml = BeautifulSoup(rs_data.text, \"lxml\")\n"
     ]
    },
    {
     "data": {
      "text/plain": [
       "<?xml version=\"1.0\" encoding=\"UTF-8\" standalone=\"yes\"?><html><body><response><header><resultcode>00</resultcode><resultmsg>NORMAL SERVICE.</resultmsg></header><items><item><airporteng>GIMPO INTERNATIONAL AIRPORT</airporteng><airportkor>김포국제공항</airportkor><parkingairportcodename>국내선 제1주차장</parkingairportcodename><parkingcongestion>만차</parkingcongestion><parkingcongestiondegree>100%</parkingcongestiondegree><parkingoccupiedspace>2279</parkingoccupiedspace><parkingtotalspace>2279</parkingtotalspace><sysgetdate>2024-04-18</sysgetdate><sysgettime>13:08:02</sysgettime></item><item><airporteng>GIMPO INTERNATIONAL AIRPORT</airporteng><airportkor>김포국제공항</airportkor><parkingairportcodename>국내선 제2주차장</parkingairportcodename><parkingcongestion>원활</parkingcongestion><parkingcongestiondegree>54.99%</parkingcongestiondegree><parkingoccupiedspace>953</parkingoccupiedspace><parkingtotalspace>1733</parkingtotalspace><sysgetdate>2024-04-18</sysgetdate><sysgettime>13:08:02</sysgettime></item><item><airporteng>GIMPO INTERNATIONAL AIRPORT</airporteng><airportkor>김포국제공항</airportkor><parkingairportcodename>국제선 주차빌딩</parkingairportcodename><parkingcongestion>원활</parkingcongestion><parkingcongestiondegree>86.95%</parkingcongestiondegree><parkingoccupiedspace>493</parkingoccupiedspace><parkingtotalspace>567</parkingtotalspace><sysgetdate>2024-04-18</sysgetdate><sysgettime>13:08:02</sysgettime></item><item><airporteng>GIMPO INTERNATIONAL AIRPORT</airporteng><airportkor>김포국제공항</airportkor><parkingairportcodename>국제선 지하</parkingairportcodename><parkingcongestion>만차</parkingcongestion><parkingcongestiondegree>100%</parkingcongestiondegree><parkingoccupiedspace>1200</parkingoccupiedspace><parkingtotalspace>1200</parkingtotalspace><sysgetdate>2024-04-18</sysgetdate><sysgettime>13:08:02</sysgettime></item><item><airporteng>GIMPO INTERNATIONAL AIRPORT</airporteng><airportkor>김포국제공항</airportkor><parkingairportcodename>화물청사</parkingairportcodename><parkingcongestion>만차</parkingcongestion><parkingcongestiondegree>100%</parkingcongestiondegree><parkingoccupiedspace>737</parkingoccupiedspace><parkingtotalspace>737</parkingtotalspace><sysgetdate>2024-04-18</sysgetdate><sysgettime>13:08:02</sysgettime></item></items><numofrows>10</numofrows><pageno>1</pageno><totalcount>5</totalcount></response></body></html>"
      ]
     },
     "execution_count": 12,
     "metadata": {},
     "output_type": "execute_result"
    }
   ],
   "source": [
    "### 태그에 의미 부여시키기 : parser 사용 \n",
    "rs_xml = BeautifulSoup(rs_data.text, \"lxml\")\n",
    "rs_xml"
   ]
  },
  {
   "cell_type": "code",
   "execution_count": 13,
   "id": "21ccecac-3c03-4764-9723-1bfb0ce65bb2",
   "metadata": {},
   "outputs": [
    {
     "data": {
      "text/plain": [
       "[<airportkor>김포국제공항</airportkor>,\n",
       " <airportkor>김포국제공항</airportkor>,\n",
       " <airportkor>김포국제공항</airportkor>,\n",
       " <airportkor>김포국제공항</airportkor>,\n",
       " <airportkor>김포국제공항</airportkor>]"
      ]
     },
     "execution_count": 13,
     "metadata": {},
     "output_type": "execute_result"
    }
   ],
   "source": [
    "### 추출할 부분의 태그 확인하기 \n",
    "rs_xml.find_all(\"airportkor\")"
   ]
  },
  {
   "cell_type": "code",
   "execution_count": 14,
   "id": "b61d9288-2c0e-4c27-bbe2-a6b25a1b4f03",
   "metadata": {},
   "outputs": [
    {
     "data": {
      "text/plain": [
       "<airportkor>김포국제공항</airportkor>"
      ]
     },
     "execution_count": 14,
     "metadata": {},
     "output_type": "execute_result"
    }
   ],
   "source": [
    "rs_xml.find(\"airportkor\")"
   ]
  },
  {
   "cell_type": "code",
   "execution_count": 15,
   "id": "8dd1e3fa-67d9-471c-b65b-4d43f0e6e084",
   "metadata": {},
   "outputs": [
    {
     "data": {
      "text/plain": [
       "'김포국제공항'"
      ]
     },
     "execution_count": 15,
     "metadata": {},
     "output_type": "execute_result"
    }
   ],
   "source": [
    "### 실제 수집할 데이터 : 태그와 태그사이의 text 추출하기\n",
    "# - 태그 사이에서 공항이름 추출 \n",
    "rs_xml.find_all(\"airportkor\")[0].text"
   ]
  },
  {
   "cell_type": "code",
   "execution_count": 16,
   "id": "feea2523-36d8-401b-9bbb-404e2b353e1d",
   "metadata": {},
   "outputs": [
    {
     "data": {
      "text/plain": [
       "'국내선 제1주차장'"
      ]
     },
     "execution_count": 16,
     "metadata": {},
     "output_type": "execute_result"
    }
   ],
   "source": [
    "### 주차장 이름 추출하기\n",
    "# - 태그 사이에서 주차장 이름 추출\n",
    "rs_xml.find_all(\"parkingairportcodename\")[0].text"
   ]
  },
  {
   "cell_type": "code",
   "execution_count": 17,
   "id": "2e7369cc-7c38-4b89-aeba-e099cc210c90",
   "metadata": {},
   "outputs": [
    {
     "data": {
      "text/plain": [
       "'만차'"
      ]
     },
     "execution_count": 17,
     "metadata": {},
     "output_type": "execute_result"
    }
   ],
   "source": [
    "### 주차장 혼잡정도 추출하기 \n",
    "# - 태그 사이에서 혼잡정도 추출 \n",
    "rs_xml.find_all(\"parkingcongestion\")[0].text"
   ]
  },
  {
   "cell_type": "code",
   "execution_count": 18,
   "id": "5591a241-9a3e-45c2-a78f-152c7588ae5d",
   "metadata": {},
   "outputs": [
    {
     "data": {
      "text/plain": [
       "'100%'"
      ]
     },
     "execution_count": 18,
     "metadata": {},
     "output_type": "execute_result"
    }
   ],
   "source": [
    "### 주차장 혼잡률 추출하기\n",
    "rs_xml.find_all(\"parkingcongestiondegree\")[0].text\n",
    "\n",
    "# ---김포국제공항 국내선 제1주차장 만차(혼잡률 100%)라는것을 확인가능---"
   ]
  },
  {
   "cell_type": "code",
   "execution_count": 19,
   "id": "e52d43c4-e8d7-4655-8c8e-1a51a4d24369",
   "metadata": {},
   "outputs": [
    {
     "data": {
      "text/plain": [
       "'2279'"
      ]
     },
     "execution_count": 19,
     "metadata": {},
     "output_type": "execute_result"
    }
   ],
   "source": [
    "### 주차장 주차면수 추출하기\n",
    "rs_xml.find_all(\"parkingtotalspace\")[0].text"
   ]
  },
  {
   "cell_type": "code",
   "execution_count": 20,
   "id": "4b83c5fc-6c07-482b-901c-d8b1f88f7ad4",
   "metadata": {},
   "outputs": [
    {
     "data": {
      "text/plain": [
       "'2279'"
      ]
     },
     "execution_count": 20,
     "metadata": {},
     "output_type": "execute_result"
    }
   ],
   "source": [
    "### 주차되어 있는 차량 수  추출하기\n",
    "rs_xml.find_all(\"parkingoccupiedspace\")[0].text"
   ]
  },
  {
   "cell_type": "code",
   "execution_count": 21,
   "id": "e741739b-1362-4c0e-ad1f-4f4e975f3b14",
   "metadata": {},
   "outputs": [
    {
     "data": {
      "text/plain": [
       "'2024-04-18'"
      ]
     },
     "execution_count": 21,
     "metadata": {},
     "output_type": "execute_result"
    }
   ],
   "source": [
    "### 데이터 발생 기준일 추출하기\n",
    "rs_xml.find_all(\"sysgetdate\")[0].text"
   ]
  },
  {
   "cell_type": "code",
   "execution_count": 22,
   "id": "8ef590b8-95fa-44b4-b191-f2dd6feaa60a",
   "metadata": {},
   "outputs": [
    {
     "data": {
      "text/plain": [
       "'13:08:02'"
      ]
     },
     "execution_count": 22,
     "metadata": {},
     "output_type": "execute_result"
    }
   ],
   "source": [
    "### 데이터 발생 기준 시간 추출하기 \n",
    "rs_xml.find_all(\"sysgettime\")[0].text"
   ]
  },
  {
   "cell_type": "code",
   "execution_count": 23,
   "id": "82272217-6be9-4a8f-90ce-4cce9cfa6789",
   "metadata": {},
   "outputs": [
    {
     "data": {
      "text/plain": [
       "'13:08:02'"
      ]
     },
     "execution_count": 23,
     "metadata": {},
     "output_type": "execute_result"
    }
   ],
   "source": [
    "### 데이터 발생 기준 시간 추출하기 \n",
    "rs_xml.find_all(\"sysgettime\")[0].text"
   ]
  },
  {
   "cell_type": "code",
   "execution_count": 24,
   "id": "8f5477b1-0325-42e2-98d5-200cd0194c96",
   "metadata": {},
   "outputs": [
    {
     "name": "stdout",
     "output_type": "stream",
     "text": [
      "\n",
      "        - 공항명         : 김포국제공항\n",
      "        - 주차장명       : 국내선 제1주차장\n",
      "        - 기준일시       : 2024-04-18 13:08:02\n",
      "        - 혼잡도(혼잡률) : 만차(100%) \n",
      "        - 여유주차대수 : 0\n",
      "        \n",
      "        \n",
      "\n",
      "        - 공항명         : 김포국제공항\n",
      "        - 주차장명       : 국내선 제2주차장\n",
      "        - 기준일시       : 2024-04-18 13:08:02\n",
      "        - 혼잡도(혼잡률) : 원활(54.99%) \n",
      "        - 여유주차대수 : 780\n",
      "        \n",
      "        \n",
      "\n",
      "        - 공항명         : 김포국제공항\n",
      "        - 주차장명       : 국제선 주차빌딩\n",
      "        - 기준일시       : 2024-04-18 13:08:02\n",
      "        - 혼잡도(혼잡률) : 원활(86.95%) \n",
      "        - 여유주차대수 : 74\n",
      "        \n",
      "        \n",
      "\n",
      "        - 공항명         : 김포국제공항\n",
      "        - 주차장명       : 국제선 지하\n",
      "        - 기준일시       : 2024-04-18 13:08:02\n",
      "        - 혼잡도(혼잡률) : 만차(100%) \n",
      "        - 여유주차대수 : 0\n",
      "        \n",
      "        \n",
      "\n",
      "        - 공항명         : 김포국제공항\n",
      "        - 주차장명       : 화물청사\n",
      "        - 기준일시       : 2024-04-18 13:08:02\n",
      "        - 혼잡도(혼잡률) : 만차(100%) \n",
      "        - 여유주차대수 : 0\n",
      "        \n",
      "        \n"
     ]
    }
   ],
   "source": [
    "\"\"\"\n",
    "<1개 공항에 대한 전체 주차장별로 데이터 추출하기> \n",
    " - 수집 데이터 : 공항명, 주차장명, 기준일자, 기준시간, 혼잡도, 혼잡률, 여유주차장수 \n",
    " --> 주차장별로 출력해주세요. \n",
    "\"\"\"\n",
    "\n",
    "for i in range(0, len(rs_xml.find_all(\"airportkor\")), 1) :\n",
    "    msg = f\"\"\"\n",
    "        - 공항명         : {rs_xml.find_all(\"airportkor\")[i].text}\n",
    "        - 주차장명       : {rs_xml.find_all(\"parkingairportcodename\")[i].text}\n",
    "        - 기준일시       : {rs_xml.find_all(\"sysgetdate\")[i].text} {rs_xml.find_all(\"sysgettime\")[i].text}\n",
    "        - 혼잡도(혼잡률) : {rs_xml.find_all(\"parkingcongestion\")[i].text}({rs_xml.find_all(\"parkingcongestiondegree\")[i].text}) \n",
    "        - 여유주차대수 : {int(rs_xml.find_all(\"parkingtotalspace\")[i].text) - int(rs_xml.find_all(\"parkingoccupiedspace\")[i].text)}\n",
    "        \n",
    "        \"\"\"\n",
    "    print(msg)"
   ]
  },
  {
   "cell_type": "code",
   "execution_count": 25,
   "id": "fa80f9d7-f65c-4635-aa37-345631898f02",
   "metadata": {},
   "outputs": [
    {
     "data": {
      "text/plain": [
       "'\\n--> 공항코드가 바뀌면 requests.get()\\n--> 이후 parser 변환\\n'"
      ]
     },
     "execution_count": 25,
     "metadata": {},
     "output_type": "execute_result"
    }
   ],
   "source": [
    "### 모든 공항별 주차장 정보 조회하기\n",
    "\"\"\"\n",
    "--> 공항코드가 바뀌면 requests.get()\n",
    "--> 이후 parser 변환\n",
    "\"\"\""
   ]
  },
  {
   "cell_type": "code",
   "execution_count": 26,
   "id": "d5d8336f-b029-4bdc-a4b0-2f576cb8cefd",
   "metadata": {},
   "outputs": [
    {
     "name": "stdout",
     "output_type": "stream",
     "text": [
      "\n",
      "            - 공항명         : 김포국제공항\n",
      "            - 주차장명       : 국내선 제1주차장\n",
      "            - 기준일시       : 2024-04-18 13:08:02\n",
      "            - 혼잡도(혼잡률) : 만차(100%) \n",
      "            - 여유주차대수 : 0\n",
      "            \n",
      "\n",
      "            - 공항명         : 김포국제공항\n",
      "            - 주차장명       : 국내선 제2주차장\n",
      "            - 기준일시       : 2024-04-18 13:08:02\n",
      "            - 혼잡도(혼잡률) : 원활(54.99%) \n",
      "            - 여유주차대수 : 780\n",
      "            \n",
      "\n",
      "            - 공항명         : 김포국제공항\n",
      "            - 주차장명       : 국제선 주차빌딩\n",
      "            - 기준일시       : 2024-04-18 13:08:02\n",
      "            - 혼잡도(혼잡률) : 원활(86.95%) \n",
      "            - 여유주차대수 : 74\n",
      "            \n",
      "\n",
      "            - 공항명         : 김포국제공항\n",
      "            - 주차장명       : 국제선 지하\n",
      "            - 기준일시       : 2024-04-18 13:08:02\n",
      "            - 혼잡도(혼잡률) : 만차(100%) \n",
      "            - 여유주차대수 : 0\n",
      "            \n",
      "\n",
      "            - 공항명         : 김포국제공항\n",
      "            - 주차장명       : 화물청사\n",
      "            - 기준일시       : 2024-04-18 13:08:02\n",
      "            - 혼잡도(혼잡률) : 만차(100%) \n",
      "            - 여유주차대수 : 0\n",
      "            \n",
      "\n",
      "\n",
      "            - 공항명         : 김해국제공항\n",
      "            - 주차장명       : P3 여객(화물)\n",
      "            - 기준일시       : 2024-04-18 13:08:02\n",
      "            - 혼잡도(혼잡률) : 만차(99.7%) \n",
      "            - 여유주차대수 : 3\n",
      "            \n",
      "\n",
      "            - 공항명         : 김해국제공항\n",
      "            - 주차장명       : 여객주차장(P1+P2)\n",
      "            - 기준일시       : 2024-04-18 13:08:02\n",
      "            - 혼잡도(혼잡률) : 만차(99.49%) \n",
      "            - 여유주차대수 : 23\n",
      "            \n",
      "\n",
      "\n",
      "            - 공항명         : 제주국제공항\n",
      "            - 주차장명       : P1주차장\n",
      "            - 기준일시       : 2024-04-18 13:08:02\n",
      "            - 혼잡도(혼잡률) : 혼잡(90.77%) \n",
      "            - 여유주차대수 : 161\n",
      "            \n",
      "\n",
      "            - 공항명         : 제주국제공항\n",
      "            - 주차장명       : P2장기주차장\n",
      "            - 기준일시       : 2024-04-18 13:08:02\n",
      "            - 혼잡도(혼잡률) : 원활(66.19%) \n",
      "            - 여유주차대수 : 165\n",
      "            \n",
      "\n",
      "            - 공항명         : 제주국제공항\n",
      "            - 주차장명       : 화물주차장\n",
      "            - 기준일시       : 2024-04-18 13:08:02\n",
      "            - 혼잡도(혼잡률) : 만차(100%) \n",
      "            - 여유주차대수 : 0\n",
      "            \n",
      "\n"
     ]
    },
    {
     "name": "stderr",
     "output_type": "stream",
     "text": [
      "C:\\Users\\Administrator\\AppData\\Local\\Temp\\ipykernel_4596\\2760173028.py:16: XMLParsedAsHTMLWarning: It looks like you're parsing an XML document using an HTML parser. If this really is an HTML document (maybe it's XHTML?), you can ignore or filter this warning. If it's XML, you should know that using an XML parser will be more reliable. To parse this document as XML, make sure you have the lxml package installed, and pass the keyword argument `features=\"xml\"` into the BeautifulSoup constructor.\n",
      "  rs_xml = BeautifulSoup(rs_data.text, \"lxml\")\n"
     ]
    },
    {
     "name": "stdout",
     "output_type": "stream",
     "text": [
      "\n",
      "            - 공항명         : 대구국제공항\n",
      "            - 주차장명       : 여객주차장\n",
      "            - 기준일시       : 2024-04-18 13:08:02\n",
      "            - 혼잡도(혼잡률) : 만차(98.46%) \n",
      "            - 여유주차대수 : 21\n",
      "            \n",
      "\n",
      "            - 공항명         : 대구국제공항\n",
      "            - 주차장명       : 화물주차장\n",
      "            - 기준일시       : 2024-04-18 13:08:02\n",
      "            - 혼잡도(혼잡률) : 만차(100%) \n",
      "            - 여유주차대수 : 0\n",
      "            \n",
      "\n",
      "\n",
      "            - 공항명         : 광주공항\n",
      "            - 주차장명       : 여객주차장(제1+제2)\n",
      "            - 기준일시       : 2024-04-18 13:08:02\n",
      "            - 혼잡도(혼잡률) : 만차(98.64%) \n",
      "            - 여유주차대수 : 15\n",
      "            \n",
      "\n",
      "\n",
      "            - 공항명         : 여수공항\n",
      "            - 주차장명       : 여객주차장\n",
      "            - 기준일시       : 2024-04-18 13:08:02\n",
      "            - 혼잡도(혼잡률) : 원활(50.47%) \n",
      "            - 여유주차대수 : 422\n",
      "            \n",
      "\n",
      "\n",
      "            - 공항명         : 울산공항\n",
      "            - 주차장명       : 여객주차장\n",
      "            - 기준일시       : 2024-04-18 13:08:02\n",
      "            - 혼잡도(혼잡률) : 원활(27.97%) \n",
      "            - 여유주차대수 : 327\n",
      "            \n",
      "\n",
      "\n",
      "            - 공항명         : 군산공항\n",
      "            - 주차장명       : 여객주차장\n",
      "            - 기준일시       : 2024-04-18 13:08:02\n",
      "            - 혼잡도(혼잡률) : 원활(73.45%) \n",
      "            - 여유주차대수 : 124\n",
      "            \n",
      "\n"
     ]
    }
   ],
   "source": [
    "### 공항코드의 갯수만큼 반복 시키기\n",
    "for airCode in schAirportCode_list:\n",
    "    \n",
    "    ### API 요청 URL 완성하기\n",
    "\n",
    "    # - 기존 url에 공항코드만 변경\n",
    "    api_url = url.format(AirCode = airCode,\n",
    "                         key = apikey,\n",
    "                         nrow = numOfRows,\n",
    "                         pno = pageNo)\n",
    "    \n",
    "    # - 공항코드별로 requests.get() 실행\n",
    "    rs_data = requests.get(api_url)\n",
    "\n",
    "    # - 응답받은 태그 정보를 parser로 태그에 의미 부여시키기\n",
    "    rs_xml = BeautifulSoup(rs_data.text, \"lxml\")\n",
    "\n",
    "    # - 각 주차장별로 데이터 추출하기 \n",
    "    \n",
    "    for i in range(0, len(rs_xml.find_all(\"airportkor\")), 1) :\n",
    "        msg = f\"\"\"\n",
    "            - 공항명         : {rs_xml.find_all(\"airportkor\")[i].text}\n",
    "            - 주차장명       : {rs_xml.find_all(\"parkingairportcodename\")[i].text}\n",
    "            - 기준일시       : {rs_xml.find_all(\"sysgetdate\")[i].text} {rs_xml.find_all(\"sysgettime\")[i].text}\n",
    "            - 혼잡도(혼잡률) : {rs_xml.find_all(\"parkingcongestion\")[i].text}({rs_xml.find_all(\"parkingcongestiondegree\")[i].text}) \n",
    "            - 여유주차대수 : {int(rs_xml.find_all(\"parkingtotalspace\")[i].text) - int(rs_xml.find_all(\"parkingoccupiedspace\")[i].text)}\n",
    "            \"\"\"\n",
    "        print(msg)\n",
    "    print()\n",
    "\n"
   ]
  },
  {
   "cell_type": "code",
   "execution_count": 29,
   "id": "1bd907f3-8611-4d5c-8075-5b44545b1736",
   "metadata": {},
   "outputs": [
    {
     "name": "stderr",
     "output_type": "stream",
     "text": [
      "C:\\Users\\Administrator\\AppData\\Local\\Temp\\ipykernel_4596\\505363486.py:18: XMLParsedAsHTMLWarning: It looks like you're parsing an XML document using an HTML parser. If this really is an HTML document (maybe it's XHTML?), you can ignore or filter this warning. If it's XML, you should know that using an XML parser will be more reliable. To parse this document as XML, make sure you have the lxml package installed, and pass the keyword argument `features=\"xml\"` into the BeautifulSoup constructor.\n",
      "  rs_xml = BeautifulSoup(rs_data.text, \"lxml\")\n",
      "C:\\Users\\Administrator\\AppData\\Local\\Temp\\ipykernel_4596\\505363486.py:18: XMLParsedAsHTMLWarning: It looks like you're parsing an XML document using an HTML parser. If this really is an HTML document (maybe it's XHTML?), you can ignore or filter this warning. If it's XML, you should know that using an XML parser will be more reliable. To parse this document as XML, make sure you have the lxml package installed, and pass the keyword argument `features=\"xml\"` into the BeautifulSoup constructor.\n",
      "  rs_xml = BeautifulSoup(rs_data.text, \"lxml\")\n",
      "C:\\Users\\Administrator\\AppData\\Local\\Temp\\ipykernel_4596\\505363486.py:18: XMLParsedAsHTMLWarning: It looks like you're parsing an XML document using an HTML parser. If this really is an HTML document (maybe it's XHTML?), you can ignore or filter this warning. If it's XML, you should know that using an XML parser will be more reliable. To parse this document as XML, make sure you have the lxml package installed, and pass the keyword argument `features=\"xml\"` into the BeautifulSoup constructor.\n",
      "  rs_xml = BeautifulSoup(rs_data.text, \"lxml\")\n",
      "C:\\Users\\Administrator\\AppData\\Local\\Temp\\ipykernel_4596\\505363486.py:18: XMLParsedAsHTMLWarning: It looks like you're parsing an XML document using an HTML parser. If this really is an HTML document (maybe it's XHTML?), you can ignore or filter this warning. If it's XML, you should know that using an XML parser will be more reliable. To parse this document as XML, make sure you have the lxml package installed, and pass the keyword argument `features=\"xml\"` into the BeautifulSoup constructor.\n",
      "  rs_xml = BeautifulSoup(rs_data.text, \"lxml\")\n",
      "C:\\Users\\Administrator\\AppData\\Local\\Temp\\ipykernel_4596\\505363486.py:18: XMLParsedAsHTMLWarning: It looks like you're parsing an XML document using an HTML parser. If this really is an HTML document (maybe it's XHTML?), you can ignore or filter this warning. If it's XML, you should know that using an XML parser will be more reliable. To parse this document as XML, make sure you have the lxml package installed, and pass the keyword argument `features=\"xml\"` into the BeautifulSoup constructor.\n",
      "  rs_xml = BeautifulSoup(rs_data.text, \"lxml\")\n",
      "C:\\Users\\Administrator\\AppData\\Local\\Temp\\ipykernel_4596\\505363486.py:18: XMLParsedAsHTMLWarning: It looks like you're parsing an XML document using an HTML parser. If this really is an HTML document (maybe it's XHTML?), you can ignore or filter this warning. If it's XML, you should know that using an XML parser will be more reliable. To parse this document as XML, make sure you have the lxml package installed, and pass the keyword argument `features=\"xml\"` into the BeautifulSoup constructor.\n",
      "  rs_xml = BeautifulSoup(rs_data.text, \"lxml\")\n",
      "C:\\Users\\Administrator\\AppData\\Local\\Temp\\ipykernel_4596\\505363486.py:18: XMLParsedAsHTMLWarning: It looks like you're parsing an XML document using an HTML parser. If this really is an HTML document (maybe it's XHTML?), you can ignore or filter this warning. If it's XML, you should know that using an XML parser will be more reliable. To parse this document as XML, make sure you have the lxml package installed, and pass the keyword argument `features=\"xml\"` into the BeautifulSoup constructor.\n",
      "  rs_xml = BeautifulSoup(rs_data.text, \"lxml\")\n",
      "C:\\Users\\Administrator\\AppData\\Local\\Temp\\ipykernel_4596\\505363486.py:18: XMLParsedAsHTMLWarning: It looks like you're parsing an XML document using an HTML parser. If this really is an HTML document (maybe it's XHTML?), you can ignore or filter this warning. If it's XML, you should know that using an XML parser will be more reliable. To parse this document as XML, make sure you have the lxml package installed, and pass the keyword argument `features=\"xml\"` into the BeautifulSoup constructor.\n",
      "  rs_xml = BeautifulSoup(rs_data.text, \"lxml\")\n"
     ]
    },
    {
     "data": {
      "text/html": [
       "<div>\n",
       "<style scoped>\n",
       "    .dataframe tbody tr th:only-of-type {\n",
       "        vertical-align: middle;\n",
       "    }\n",
       "\n",
       "    .dataframe tbody tr th {\n",
       "        vertical-align: top;\n",
       "    }\n",
       "\n",
       "    .dataframe thead th {\n",
       "        text-align: right;\n",
       "    }\n",
       "</style>\n",
       "<table border=\"1\" class=\"dataframe\">\n",
       "  <thead>\n",
       "    <tr style=\"text-align: right;\">\n",
       "      <th></th>\n",
       "      <th>공항명</th>\n",
       "      <th>일자</th>\n",
       "      <th>시간</th>\n",
       "      <th>주차장명</th>\n",
       "      <th>주차장혼잡도</th>\n",
       "      <th>주차장혼잡율(%)</th>\n",
       "      <th>전체주차면수</th>\n",
       "      <th>입고된차량수</th>\n",
       "      <th>일 자</th>\n",
       "      <th>시 간</th>\n",
       "    </tr>\n",
       "  </thead>\n",
       "  <tbody>\n",
       "    <tr>\n",
       "      <th>0</th>\n",
       "      <td>김포국제공항</td>\n",
       "      <td>NaN</td>\n",
       "      <td>NaN</td>\n",
       "      <td>국내선 제1주차장</td>\n",
       "      <td>만차</td>\n",
       "      <td>100%</td>\n",
       "      <td>2279</td>\n",
       "      <td>2279</td>\n",
       "      <td>2024-04-18</td>\n",
       "      <td>13:08:02</td>\n",
       "    </tr>\n",
       "    <tr>\n",
       "      <th>1</th>\n",
       "      <td>김포국제공항</td>\n",
       "      <td>NaN</td>\n",
       "      <td>NaN</td>\n",
       "      <td>국내선 제2주차장</td>\n",
       "      <td>원활</td>\n",
       "      <td>54.99%</td>\n",
       "      <td>1733</td>\n",
       "      <td>953</td>\n",
       "      <td>2024-04-18</td>\n",
       "      <td>13:08:02</td>\n",
       "    </tr>\n",
       "    <tr>\n",
       "      <th>2</th>\n",
       "      <td>김포국제공항</td>\n",
       "      <td>NaN</td>\n",
       "      <td>NaN</td>\n",
       "      <td>국제선 주차빌딩</td>\n",
       "      <td>원활</td>\n",
       "      <td>86.95%</td>\n",
       "      <td>567</td>\n",
       "      <td>493</td>\n",
       "      <td>2024-04-18</td>\n",
       "      <td>13:08:02</td>\n",
       "    </tr>\n",
       "    <tr>\n",
       "      <th>3</th>\n",
       "      <td>김포국제공항</td>\n",
       "      <td>NaN</td>\n",
       "      <td>NaN</td>\n",
       "      <td>국제선 지하</td>\n",
       "      <td>만차</td>\n",
       "      <td>100%</td>\n",
       "      <td>1200</td>\n",
       "      <td>1200</td>\n",
       "      <td>2024-04-18</td>\n",
       "      <td>13:08:02</td>\n",
       "    </tr>\n",
       "    <tr>\n",
       "      <th>4</th>\n",
       "      <td>김포국제공항</td>\n",
       "      <td>NaN</td>\n",
       "      <td>NaN</td>\n",
       "      <td>화물청사</td>\n",
       "      <td>만차</td>\n",
       "      <td>100%</td>\n",
       "      <td>737</td>\n",
       "      <td>737</td>\n",
       "      <td>2024-04-18</td>\n",
       "      <td>13:08:02</td>\n",
       "    </tr>\n",
       "    <tr>\n",
       "      <th>5</th>\n",
       "      <td>김해국제공항</td>\n",
       "      <td>NaN</td>\n",
       "      <td>NaN</td>\n",
       "      <td>P3 여객(화물)</td>\n",
       "      <td>만차</td>\n",
       "      <td>99.7%</td>\n",
       "      <td>984</td>\n",
       "      <td>981</td>\n",
       "      <td>2024-04-18</td>\n",
       "      <td>13:08:02</td>\n",
       "    </tr>\n",
       "    <tr>\n",
       "      <th>6</th>\n",
       "      <td>김해국제공항</td>\n",
       "      <td>NaN</td>\n",
       "      <td>NaN</td>\n",
       "      <td>여객주차장(P1+P2)</td>\n",
       "      <td>만차</td>\n",
       "      <td>99.49%</td>\n",
       "      <td>4468</td>\n",
       "      <td>4445</td>\n",
       "      <td>2024-04-18</td>\n",
       "      <td>13:08:02</td>\n",
       "    </tr>\n",
       "    <tr>\n",
       "      <th>7</th>\n",
       "      <td>제주국제공항</td>\n",
       "      <td>NaN</td>\n",
       "      <td>NaN</td>\n",
       "      <td>P1주차장</td>\n",
       "      <td>혼잡</td>\n",
       "      <td>90.77%</td>\n",
       "      <td>1744</td>\n",
       "      <td>1583</td>\n",
       "      <td>2024-04-18</td>\n",
       "      <td>13:08:02</td>\n",
       "    </tr>\n",
       "    <tr>\n",
       "      <th>8</th>\n",
       "      <td>제주국제공항</td>\n",
       "      <td>NaN</td>\n",
       "      <td>NaN</td>\n",
       "      <td>P2장기주차장</td>\n",
       "      <td>원활</td>\n",
       "      <td>66.19%</td>\n",
       "      <td>488</td>\n",
       "      <td>323</td>\n",
       "      <td>2024-04-18</td>\n",
       "      <td>13:08:02</td>\n",
       "    </tr>\n",
       "    <tr>\n",
       "      <th>9</th>\n",
       "      <td>제주국제공항</td>\n",
       "      <td>NaN</td>\n",
       "      <td>NaN</td>\n",
       "      <td>화물주차장</td>\n",
       "      <td>만차</td>\n",
       "      <td>100%</td>\n",
       "      <td>732</td>\n",
       "      <td>732</td>\n",
       "      <td>2024-04-18</td>\n",
       "      <td>13:08:02</td>\n",
       "    </tr>\n",
       "    <tr>\n",
       "      <th>10</th>\n",
       "      <td>대구국제공항</td>\n",
       "      <td>NaN</td>\n",
       "      <td>NaN</td>\n",
       "      <td>여객주차장</td>\n",
       "      <td>만차</td>\n",
       "      <td>98.46%</td>\n",
       "      <td>1361</td>\n",
       "      <td>1340</td>\n",
       "      <td>2024-04-18</td>\n",
       "      <td>13:08:02</td>\n",
       "    </tr>\n",
       "    <tr>\n",
       "      <th>11</th>\n",
       "      <td>대구국제공항</td>\n",
       "      <td>NaN</td>\n",
       "      <td>NaN</td>\n",
       "      <td>화물주차장</td>\n",
       "      <td>만차</td>\n",
       "      <td>100%</td>\n",
       "      <td>13</td>\n",
       "      <td>13</td>\n",
       "      <td>2024-04-18</td>\n",
       "      <td>13:08:02</td>\n",
       "    </tr>\n",
       "    <tr>\n",
       "      <th>12</th>\n",
       "      <td>광주공항</td>\n",
       "      <td>NaN</td>\n",
       "      <td>NaN</td>\n",
       "      <td>여객주차장(제1+제2)</td>\n",
       "      <td>만차</td>\n",
       "      <td>98.64%</td>\n",
       "      <td>1103</td>\n",
       "      <td>1088</td>\n",
       "      <td>2024-04-18</td>\n",
       "      <td>13:08:02</td>\n",
       "    </tr>\n",
       "    <tr>\n",
       "      <th>13</th>\n",
       "      <td>여수공항</td>\n",
       "      <td>NaN</td>\n",
       "      <td>NaN</td>\n",
       "      <td>여객주차장</td>\n",
       "      <td>원활</td>\n",
       "      <td>50.47%</td>\n",
       "      <td>852</td>\n",
       "      <td>430</td>\n",
       "      <td>2024-04-18</td>\n",
       "      <td>13:08:02</td>\n",
       "    </tr>\n",
       "    <tr>\n",
       "      <th>14</th>\n",
       "      <td>울산공항</td>\n",
       "      <td>NaN</td>\n",
       "      <td>NaN</td>\n",
       "      <td>여객주차장</td>\n",
       "      <td>원활</td>\n",
       "      <td>27.97%</td>\n",
       "      <td>454</td>\n",
       "      <td>127</td>\n",
       "      <td>2024-04-18</td>\n",
       "      <td>13:08:02</td>\n",
       "    </tr>\n",
       "    <tr>\n",
       "      <th>15</th>\n",
       "      <td>군산공항</td>\n",
       "      <td>NaN</td>\n",
       "      <td>NaN</td>\n",
       "      <td>여객주차장</td>\n",
       "      <td>원활</td>\n",
       "      <td>73.45%</td>\n",
       "      <td>467</td>\n",
       "      <td>343</td>\n",
       "      <td>2024-04-18</td>\n",
       "      <td>13:08:02</td>\n",
       "    </tr>\n",
       "  </tbody>\n",
       "</table>\n",
       "</div>"
      ],
      "text/plain": [
       "       공항명   일자   시간          주차장명 주차장혼잡도 주차장혼잡율(%) 전체주차면수 입고된차량수         일 자  \\\n",
       "0   김포국제공항  NaN  NaN     국내선 제1주차장     만차      100%   2279   2279  2024-04-18   \n",
       "1   김포국제공항  NaN  NaN     국내선 제2주차장     원활    54.99%   1733    953  2024-04-18   \n",
       "2   김포국제공항  NaN  NaN      국제선 주차빌딩     원활    86.95%    567    493  2024-04-18   \n",
       "3   김포국제공항  NaN  NaN        국제선 지하     만차      100%   1200   1200  2024-04-18   \n",
       "4   김포국제공항  NaN  NaN          화물청사     만차      100%    737    737  2024-04-18   \n",
       "5   김해국제공항  NaN  NaN     P3 여객(화물)     만차     99.7%    984    981  2024-04-18   \n",
       "6   김해국제공항  NaN  NaN  여객주차장(P1+P2)     만차    99.49%   4468   4445  2024-04-18   \n",
       "7   제주국제공항  NaN  NaN         P1주차장     혼잡    90.77%   1744   1583  2024-04-18   \n",
       "8   제주국제공항  NaN  NaN       P2장기주차장     원활    66.19%    488    323  2024-04-18   \n",
       "9   제주국제공항  NaN  NaN         화물주차장     만차      100%    732    732  2024-04-18   \n",
       "10  대구국제공항  NaN  NaN         여객주차장     만차    98.46%   1361   1340  2024-04-18   \n",
       "11  대구국제공항  NaN  NaN         화물주차장     만차      100%     13     13  2024-04-18   \n",
       "12    광주공항  NaN  NaN  여객주차장(제1+제2)     만차    98.64%   1103   1088  2024-04-18   \n",
       "13    여수공항  NaN  NaN         여객주차장     원활    50.47%    852    430  2024-04-18   \n",
       "14    울산공항  NaN  NaN         여객주차장     원활    27.97%    454    127  2024-04-18   \n",
       "15    군산공항  NaN  NaN         여객주차장     원활    73.45%    467    343  2024-04-18   \n",
       "\n",
       "         시 간  \n",
       "0   13:08:02  \n",
       "1   13:08:02  \n",
       "2   13:08:02  \n",
       "3   13:08:02  \n",
       "4   13:08:02  \n",
       "5   13:08:02  \n",
       "6   13:08:02  \n",
       "7   13:08:02  \n",
       "8   13:08:02  \n",
       "9   13:08:02  \n",
       "10  13:08:02  \n",
       "11  13:08:02  \n",
       "12  13:08:02  \n",
       "13  13:08:02  \n",
       "14  13:08:02  \n",
       "15  13:08:02  "
      ]
     },
     "execution_count": 29,
     "metadata": {},
     "output_type": "execute_result"
    }
   ],
   "source": [
    "air_df = pd.DataFrame() # 데이터 프레임으로 만들기\n",
    "\n",
    "### 공항코드의 갯수만큼 반복 시키기\n",
    "for airCode in schAirportCode_list:\n",
    "    \n",
    "    ### API 요청 URL 완성하기\n",
    "\n",
    "    # - 기존 url에 공항코드만 변경\n",
    "    api_url = url.format(AirCode = airCode,\n",
    "                         key = apikey,\n",
    "                         nrow = numOfRows,\n",
    "                         pno = pageNo)\n",
    "    \n",
    "    # - 공항코드별로 requests.get() 실행\n",
    "    rs_data = requests.get(api_url)\n",
    "\n",
    "    # - 응답받은 태그 정보를 parser로 태그에 의미 부여시키기\n",
    "    rs_xml = BeautifulSoup(rs_data.text, \"lxml\")\n",
    "\n",
    "    # - 각 주차장별로 데이터 추출하기 \n",
    "    \n",
    "    for i in range(0, len(rs_xml.find_all(\"airportkor\")), 1) :\n",
    "        msg = f\"\"\"\n",
    "            - 공항명         : {rs_xml.find_all(\"airportkor\")[i].text}\n",
    "            - 주차장명       : {rs_xml.find_all(\"parkingairportcodename\")[i].text}\n",
    "            - 기준일시       : {rs_xml.find_all(\"sysgetdate\")[i].text} {rs_xml.find_all(\"sysgettime\")[i].text}\n",
    "            - 혼잡도(혼잡률) : {rs_xml.find_all(\"parkingcongestion\")[i].text}({rs_xml.find_all(\"parkingcongestiondegree\")[i].text}) \n",
    "            - 여유주차대수 : {int(rs_xml.find_all(\"parkingtotalspace\")[i].text) - int(rs_xml.find_all(\"parkingoccupiedspace\")[i].text)}\n",
    "            \"\"\"\n",
    "        # print(msg)\n",
    "        ### 데이터 프레임 생성 후 깨끗한 데이터프레임에 추가 \n",
    "        # - 컬럼명 생성\n",
    "        temp_df = pd.DataFrame(columns=[\"공항명\", \"일자\", \"시간\", \"주차장명\", \"주차장혼잡도\", \"주차장혼잡율(%)\",\n",
    "                                        \"전체주차면수\", \"입고된차량수\"])\n",
    "        # - 데이터 넣을때는 리스트로 넣어야함.\n",
    "        temp_df[\"공항명\"]          = [rs_xml.find_all(\"airportkor\")[i].text] \n",
    "        temp_df[\"일 자\"]           = [rs_xml.find_all(\"sysgetdate\")[i].text] \n",
    "        temp_df[\"시 간\"]           = [rs_xml.find_all(\"sysgettime\")[i].text] \n",
    "        temp_df[\"주차장명\"]        = [rs_xml.find_all(\"parkingairportcodename\")[i].text] \n",
    "        temp_df[\"주차장혼잡도\"]    = [rs_xml.find_all(\"parkingcongestion\")[i].text] \n",
    "        temp_df[\"주차장혼잡율(%)\"] = [rs_xml.find_all(\"parkingcongestiondegree\")[i].text] \n",
    "        temp_df[\"전체주차면수\"]    = [rs_xml.find_all(\"parkingtotalspace\")[i].text] \n",
    "        temp_df[\"입고된차량수\"]    = [rs_xml.find_all(\"parkingoccupiedspace\")[i].text] \n",
    "\n",
    "        # 깨끗한 데이터프레임에 추가하기\n",
    "        air_df = pd.concat([air_df, temp_df], ignore_index=True)\n",
    "air_df\n",
    "        \n",
    "\n"
   ]
  },
  {
   "cell_type": "code",
   "execution_count": null,
   "id": "08e20121-254f-4103-b7c4-949d5185e106",
   "metadata": {},
   "outputs": [],
   "source": []
  }
 ],
 "metadata": {
  "kernelspec": {
   "display_name": "pk_base_kernel",
   "language": "python",
   "name": "pk_base"
  },
  "language_info": {
   "codemirror_mode": {
    "name": "ipython",
    "version": 3
   },
   "file_extension": ".py",
   "mimetype": "text/x-python",
   "name": "python",
   "nbconvert_exporter": "python",
   "pygments_lexer": "ipython3",
   "version": "3.9.18"
  }
 },
 "nbformat": 4,
 "nbformat_minor": 5
}
