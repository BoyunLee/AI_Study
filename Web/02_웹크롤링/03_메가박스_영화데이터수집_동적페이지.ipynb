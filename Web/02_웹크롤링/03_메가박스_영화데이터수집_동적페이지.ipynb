{
 "cells": [
  {
   "cell_type": "code",
   "execution_count": null,
   "id": "dc5cd483-7eeb-4e74-b4c2-859fbc926953",
   "metadata": {},
   "outputs": [],
   "source": [
    "\"\"\"\n",
    "<동적페이지>\n",
    "- selenium 라이브러리 사용하여 html 태그 내 데이터 수집\n",
    "- 수집 URL : 메가박스(https://www.megabox.co.kr/movie)\n",
    "- 사용라이브러리 : webdriver, selenium의 By, time\n",
    "\"\"\""
   ]
  },
  {
   "cell_type": "code",
   "execution_count": 2,
   "id": "763ab3ea-b0fe-4860-8e7a-fb77b62f6b50",
   "metadata": {},
   "outputs": [],
   "source": [
    "### 라이브러리 정의\n",
    "# 웹 페이지 컨트롤\n",
    "from selenium import webdriver\n",
    "\n",
    "# 웹페이지 내에 태그 및 데이터 추출\n",
    "from selenium.webdriver.common.by import By\n",
    "\n",
    "# 페이지 전환 이벤트 발생시(클릭 이벤트) 대기시간을 설정하기 위해 사용\n",
    "import time"
   ]
  },
  {
   "cell_type": "code",
   "execution_count": null,
   "id": "ea166077-c4cd-4094-9eb4-082bf791a114",
   "metadata": {},
   "outputs": [],
   "source": [
    "############ [메가박스 영화 1편 샘플로 정보 추출해보기] #############"
   ]
  },
  {
   "cell_type": "code",
   "execution_count": 3,
   "id": "a64329ac-e4db-4289-82e1-982b0682f1b9",
   "metadata": {},
   "outputs": [],
   "source": [
    "### 웹페이지를 제어할 크롬브라우저 띄우기\n",
    "# 변수명 driver\n",
    "driver = webdriver.Chrome()"
   ]
  },
  {
   "cell_type": "code",
   "execution_count": null,
   "id": "cf52df3a-4767-4fe1-8776-08d610d4f2fe",
   "metadata": {},
   "outputs": [],
   "source": [
    "### 수집할 웹페이지로 접속하기\n",
    "url = \"https://www.megabox.co.kr/movie\"\n",
    "driver.get(url)\n",
    "\n",
    "### 별도의 parser(태그에 의미부여)는 하지 않아도 됩니다.\n",
    "# 동적페이지 처리 시에는 webdriver의 라이브러리를 직접사용\n",
    "# webdriver 자체가 html 코드를 가지고 있습니다."
   ]
  },
  {
   "cell_type": "code",
   "execution_count": null,
   "id": "c2db3c58-6294-4575-97b3-55eee1da25d4",
   "metadata": {},
   "outputs": [],
   "source": [
    "### 영화목록 추출하기"
   ]
  },
  {
   "cell_type": "code",
   "execution_count": 7,
   "id": "d5b5398e-3eb6-4c99-876a-4f63c1a4e7ea",
   "metadata": {},
   "outputs": [
    {
     "name": "stdout",
     "output_type": "stream",
     "text": [
      "20\n"
     ]
    },
    {
     "data": {
      "text/plain": [
       "<selenium.webdriver.remote.webelement.WebElement (session=\"3e660ebed30442dac49cff8cc31baf01\", element=\"f.A1D208F86F72CE4BEDA048E72E7AC392.d.FADBA46506A84BBD70050FC5CF46230C.e.78\")>"
      ]
     },
     "execution_count": 7,
     "metadata": {},
     "output_type": "execute_result"
    }
   ],
   "source": [
    "### 화면에 보이는 전체 영화목록\n",
    "# 링크 전체 영역의 태그 경로 : #movieList > li:nth-child(1) > div.movie-list-info\n",
    "                             #movieList > li:nth-child(2) > div.movie-list-info\n",
    "                             #movieList > li:nth-child(3) > div.movie-list-info\n",
    "# 공통부분 : div.movie-list-info 로 전체 영화목록에 접근 가능할 것이라 예상\n",
    "movie_list_path = \"div.movie-list-info\"\n",
    "\n",
    "### 전체 목록에 대한 태그정보 추출하기\n",
    "# find_element() : 1개 태그 정보 추출시 사용\n",
    "# find_elements() : 2개 이상의 태그 정보 추출시 사용 -> 리스트 타입으로 반환됨\n",
    "movie_elements = driver.find_elements(By.CSS_SELECTOR, movie_list_path)\n",
    "\n",
    "print(len(movie_elements))\n",
    "movie_elements[0]"
   ]
  },
  {
   "cell_type": "code",
   "execution_count": 18,
   "id": "9f413fe8-4e2a-4425-ae38-99c811b583bf",
   "metadata": {},
   "outputs": [
    {
     "name": "stdout",
     "output_type": "stream",
     "text": [
      "20\n",
      "0번째 영화제목 : 범죄도시4\n",
      "1번째 영화제목 : 쿵푸팬더4\n",
      "2번째 영화제목 : 스턴트맨\n",
      "3번째 영화제목 : [메가-당원영] 레옹\n",
      "4번째 영화제목 : 듄\n",
      "5번째 영화제목 : 파묘\n",
      "6번째 영화제목 : 듄: 파트2\n",
      "7번째 영화제목 : 남은 인생 10년\n",
      "8번째 영화제목 : [메가-당원영] 8월의 크리스마스\n",
      "9번째 영화제목 : 고스트버스터즈: 오싹한 뉴욕\n",
      "10번째 영화제목 : 기동전사 건담 SEED FREEDOM\n",
      "11번째 영화제목 : 댓글부대\n",
      "12번째 영화제목 : [2024 시네도슨트 in 코엑스] 팝아트가 보여준 현대\n",
      "13번째 영화제목 : 오멘: 저주의 시작\n",
      "14번째 영화제목 : 로봇 드림\n",
      "15번째 영화제목 : 극장판 울려라! 유포니엄: 앙상블 콘테스트\n",
      "16번째 영화제목 : 은하수\n",
      "17번째 영화제목 : [Live] 2024 베를린 필하모닉 유로파콘서트\n",
      "18번째 영화제목 : 골드핑거\n",
      "19번째 영화제목 : 차이콥스키의 아내\n"
     ]
    }
   ],
   "source": [
    "### 화면에 보이는 전체 영화 제목 추출하기\n",
    "# 영화 제목이 있는 태그 경로 : #movieList > li:nth-child(1) > div.tit-area > p.tit\n",
    "                             #movieList > li:nth-child(2) > div.tit-area > p.tit\n",
    "                             #movieList > li:nth-child(3) > div.tit-area > p.tit\n",
    "movie_title_path = \"div.tit-area > p.tit\"\n",
    "\n",
    "# 영화 제목 element 전체 추출하기\n",
    "movie_titles_elements = driver.find_elements(By.CSS_SELECTOR, movie_title_path)\n",
    "\n",
    "### 태그와 태그 사이의 제목 추출하기\n",
    "# 0번쨰 영화 제목 추출해보기\n",
    "# print(f\"0번째 영화제목 : {movie_titles_elements[0].text}\")\n",
    "\n",
    "print(len(movie_titles_elements))\n",
    "# movie_titles_elements\n",
    "\n",
    "# 20개 영화 제목 추출해보기\n",
    "for i in range(len(movie_titles_elements)):\n",
    "    print(f\"{i}번째 영화제목 : {movie_titles_elements[i].text}\")"
   ]
  },
  {
   "cell_type": "code",
   "execution_count": 19,
   "id": "28e5b837-53b3-4105-8455-2f6942538a56",
   "metadata": {},
   "outputs": [],
   "source": [
    "### 1번쨰 영화에 대한 -> 상세페이지로 이동하기\n",
    "# 1번쨰 영화 이미지 클릭하면 상세페이지로 이동되도록 처리 #movieList > li:nth-child(2) > div.movie-list-info > div.movie-score > a > div.summary\n",
    "# 자바스크립트의 버튼 클릭 시점\n",
    "movie_elements[1].click()\n",
    "\n",
    "### 페이지를 직접 핸들링하기\n",
    "# 클릭이 일어나면, 페이지의 히스토리가 클릭 이후의 페이지로 하나 만들어집니다.\n",
    "# 히스토리를 리스트로 driver가 관리합니다. (마지막 리스트에 이후 페이지 정보가 추가됩니다.)\n",
    "# 클릭이후 페이지 정보 가지고 오기(리스트의 마지막 값 추출)\n",
    "# 자바스크립트의 history.go(1) 다음 페이지\n",
    "movie_handle = driver.window_handles[-1]\n",
    "\n",
    "### 클릭 이후 새로 열릴 페이지로 브라우저 페이지 전환시키기(페이지가 열립니다.)\n",
    "# 자바스크립트의 submit()\n",
    "driver.switch_to.window(movie_handle)\n",
    "\n",
    "### 페이지가 열리는 동안(로딩 되는 동안) 시간을 벌어줍니다.\n",
    "# 보통 1초 정도 (네트워크 속도가 느린 경우 2~3초)\n",
    "time.sleep(1)"
   ]
  },
  {
   "cell_type": "code",
   "execution_count": 41,
   "id": "7f2083bb-fd6d-4d3a-b451-32a0f2b02429",
   "metadata": {},
   "outputs": [
    {
     "name": "stdout",
     "output_type": "stream",
     "text": [
      "영화제목 : 쿵푸팬더4\n"
     ]
    }
   ],
   "source": [
    "### 1번 영화에 대한 \"영화제목\" 수집\n",
    "# title 변수명에 영화제목 담기 #contents > div.movie-detail-page > div.movie-detail-cont > p.title\n",
    "title_path = \"div.movie-detail-cont > p.title\"\n",
    "\n",
    "# 예외처리 : 찾는 자료가 없을 수도 있기에 사용\n",
    "try : \n",
    "    title_element = driver.find_element(By.CSS_SELECTOR, title_path)\n",
    "    title = title_element.text\n",
    "\n",
    "except Exception as e:\n",
    "    title = \"\"\n",
    "\n",
    "print(f\"영화제목 : {title}\")"
   ]
  },
  {
   "cell_type": "code",
   "execution_count": 42,
   "id": "0fd92cd9-5aed-4bab-96fb-f067ee948248",
   "metadata": {},
   "outputs": [
    {
     "name": "stdout",
     "output_type": "stream",
     "text": [
      "실관람 평점 : 8.6\n"
     ]
    }
   ],
   "source": [
    "### 1번 영화에 대한 \"실관람 평점\" 수집\n",
    "# score 변수명에 실관람 평점 담기 #mainMegaScore > p > em\n",
    "score_path = \"#mainMegaScore > p > em\"\n",
    "\n",
    "# 예외처리 : 찾는 자료가 없을 수도 있기에 사용\n",
    "try : \n",
    "    score_element = driver.find_element(By.CSS_SELECTOR, score_path)\n",
    "    score = score_element.text\n",
    "\n",
    "except Exception as e:\n",
    "    score = 0\n",
    "\n",
    "print(f\"실관람 평점 : {score}\")"
   ]
  },
  {
   "cell_type": "code",
   "execution_count": 43,
   "id": "973777ff-0919-4535-a1f4-9aa3b486468f",
   "metadata": {},
   "outputs": [
    {
     "name": "stdout",
     "output_type": "stream",
     "text": [
      "예매율 : 2(8.8%)\n"
     ]
    }
   ],
   "source": [
    "### 1번 영화에 대한 \"예매율\" 수집\n",
    "# rate 변수명에 예매율 담기 #contents > div.movie-detail-page > div.movie-detail-cont > div.info > div.rate > p.cont > em\n",
    "# rate2 변수명에 예매율(%) 담기 #rkTag\n",
    "rate_path =  \"p.cont > em\"\n",
    "rate_path2 = \"#rkTag\"\n",
    "\n",
    "# 예외처리 : 찾는 자료가 없을 수도 있기에 사용\n",
    "try : \n",
    "    rate_element = driver.find_element(By.CSS_SELECTOR, rate_path)\n",
    "    rate_element2 = driver.find_element(By.CSS_SELECTOR, rate_path2)\n",
    "    \n",
    "    rate = rate_element.text\n",
    "    rate2 = rate_element2.text\n",
    "\n",
    "except Exception as e:\n",
    "    rate = 0;\n",
    "    rate2 = \"0.0%\"\n",
    "    \n",
    "print(f\"예매율 : {rate}({rate2})\")"
   ]
  },
  {
   "cell_type": "code",
   "execution_count": 44,
   "id": "05b83a7b-725a-47fa-acf7-c648a4e6cad1",
   "metadata": {},
   "outputs": [
    {
     "name": "stdout",
     "output_type": "stream",
     "text": [
      "누적 관광객수 : 965,930\n"
     ]
    }
   ],
   "source": [
    "### 1번 영화에 대한 \"누적 관광객수\" 수집\n",
    "# audience 변수명에 누적 관광객수 담기 #contents > div.movie-detail-page > div.movie-detail-cont > div.info > div.audience > p > em\n",
    "audience_path =  \"div.audience > p > em\"\n",
    "\n",
    "# 예외처리 : 찾는 자료가 없을 수도 있기에 사용\n",
    "try : \n",
    "    audience_element = driver.find_element(By.CSS_SELECTOR, audience_path)\n",
    "    audience = audience_element.text\n",
    "    \n",
    "except Exception as e:\n",
    "    audience = 0\n",
    "\n",
    "print(f\"누적 관광객수 : {audience}\")"
   ]
  },
  {
   "cell_type": "code",
   "execution_count": null,
   "id": "f9189e16-ca6c-4c6e-946e-4937973f77c2",
   "metadata": {},
   "outputs": [],
   "source": [
    "### 영화 [실관람평] Tab 클릭 후 페이지 정보 추출하기"
   ]
  },
  {
   "cell_type": "code",
   "execution_count": 46,
   "id": "d385905f-93ff-4b6d-a4a6-60b2cd251120",
   "metadata": {},
   "outputs": [
    {
     "data": {
      "text/plain": [
       "'https://www.megabox.co.kr/on/oh/oha/Movie/selectMovieOneDetail.do'"
      ]
     },
     "execution_count": 46,
     "metadata": {},
     "output_type": "execute_result"
    }
   ],
   "source": [
    "### [실관람평] Tab 클릭 처리하기\n",
    "\"\"\"\n",
    "* tap으로 구성된 페이지의 경우에는 페이지가 로딩되지 않고 화면만 전환되는 경우가 많음\n",
    " - driver가 가지고 오는 태그 코드들은 페이지가 로딩되는 시점에 가지고 오게 됩니다.\n",
    "   (화면만 전환, 즉 내용만 바뀌는 경우에는 로딩이 안되기에 driver가 화면의 태그 정보를 모름)\n",
    " - 실제 링크 주소(url)를 추출하여, driver를 통해 url을 직접 넣어서 페이지 이동해야함\n",
    "   (driver.get(url))\n",
    "\"\"\"\n",
    "\n",
    "# 탭 태그 경로 확인하기 \n",
    "movie_tab_path = \"#contentData > div:nth-child(5) > div.tab-list.fixed > ul > li:nth-child(2) > a\"\n",
    "\n",
    "# element 추출하기\n",
    "movie_tab_element = driver.find_element(By.CSS_SELECTOR, movie_tab_path)\n",
    "\n",
    "# 탭의 url 경로 추출하기 : href 속성값 추출\n",
    "url = movie_tab_element.get_attribute(\"href\")\n",
    "url"
   ]
  },
  {
   "cell_type": "code",
   "execution_count": null,
   "id": "fc6eed8c-567b-4203-be7f-4c9732f57488",
   "metadata": {},
   "outputs": [],
   "source": [
    "### 탭을 클릭했을 때 이벤트 처리하기 -> 페이지 이동시키기\n",
    "movie_tab_element.click()\n",
    "movie_handle = driver.window_handles[-1]\n",
    "driver.switch_to.window(movie_handle)\n",
    "time.sleep(1)"
   ]
  },
  {
   "cell_type": "code",
   "execution_count": 48,
   "id": "251091d7-1e08-491b-a378-16a0f82ce2f8",
   "metadata": {},
   "outputs": [
    {
     "data": {
      "text/plain": [
       "'https://www.megabox.co.kr/movie-detail/comment?rpstMovieNo=23094900'"
      ]
     },
     "execution_count": 48,
     "metadata": {},
     "output_type": "execute_result"
    }
   ],
   "source": [
    "### 실관람평 탭을 클릭 했을 떄 실제 URL 주소 추출하기\n",
    "url = driver.current_url\n",
    "url"
   ]
  },
  {
   "cell_type": "code",
   "execution_count": 50,
   "id": "87775406-00cd-44e0-8fd5-24653f8b308b",
   "metadata": {},
   "outputs": [],
   "source": [
    "### 실관람평 실제 URL을 이용하여 페이지 로딩 시키기\n",
    "driver.get(url)"
   ]
  },
  {
   "cell_type": "code",
   "execution_count": 60,
   "id": "f18190b2-4726-4702-9c0e-5d24288e9354",
   "metadata": {},
   "outputs": [
    {
     "name": "stdout",
     "output_type": "stream",
     "text": [
      "개별 관람 평점 - [0] : 7점\n",
      "개별 관람 평점 - [1] : 7점\n",
      "개별 관람 평점 - [2] : 8점\n",
      "개별 관람 평점 - [3] : 8점\n",
      "개별 관람 평점 - [4] : 10점\n",
      "개별 관람 평점 - [5] : 10점\n",
      "개별 관람 평점 - [6] : 10점\n",
      "개별 관람 평점 - [7] : 10점\n",
      "개별 관람 평점 - [8] : 8점\n",
      "개별 관람 평점 - [9] : 8점\n"
     ]
    }
   ],
   "source": [
    "### 영화 개별 관람평 점수 모두 추출하기\n",
    "# 개별 관람평점 태그 경로 \n",
    "# #contentData > div > div.movie-idv-story > ul > li:nth-child(2) > div.story-area > div.story-box > div > div.story-cont > div.story-point > span\n",
    "user_score_path = \"div.story-point > span\"\n",
    "\n",
    "# 태그정보 추출\n",
    "try :\n",
    "    user_score_elements = driver.find_elements(By.CSS_SELECTOR, user_score_path)\n",
    "\n",
    "except Exception as e :\n",
    "    user_score_elements = \"\"\n",
    "\n",
    "len(user_score_elements)\n",
    "# user_score_elements[0].text\n",
    "\n",
    "for i in range(len(user_score_elements)):\n",
    "    print(f\"개별 관람 평점 - [{i}] : {user_score_elements[i].text}점\")"
   ]
  },
  {
   "cell_type": "code",
   "execution_count": 80,
   "id": "41076701-8f49-44fe-9a0d-75b542e4bed9",
   "metadata": {},
   "outputs": [
    {
     "name": "stdout",
     "output_type": "stream",
     "text": [
      "<개별관람평>\n",
      "0. [joonba**] : 7점 | 연출배우 | 잭블랙의 원맨쇼. 심지어 주제곡까지!\n",
      "1. [dltmfgml**] : 7점 | 연출 외+2 | 너모 귀엽고 너모 사랑스러워\n",
      "2. [dlswhd**] : 8점 | 배우OST | 전작 빌런들 오랜만에보니 반갑네요\n",
      "3. [haram20**] : 8점 | 스토리 | 아이랑 보기 무난했어요~\n",
      "4. [seong0105**] : 10점 | 연출 외+2 | 그냥 저냥 재밌었던\n",
      "5. [djzolla**] : 10점 | 연출 외+3 | 조카와 재미나게 보았어요\n",
      "6. [hanman1**] : 10점 | 영상미 | 아쉬운듯 좋았습니딘.\n",
      "7. [lhs770**] : 10점 | 영상미 | 이전꺼보단 못했지만 볼만했어요\n",
      "8. [hayoung35**] : 8점 | 연출스토리 | 초딩딸아이가 재미있었다는데 엄마는 조금 지루했습니다\n",
      "9. [saberf19**] : 8점 | 영상미 | 아이랑보기에 괜찮네요\n"
     ]
    }
   ],
   "source": [
    "### 영화 개별 관람평 리뷰 내용 모두 추출하기\n",
    "# #contentData > div > div.movie-idv-story > ul > li:nth-child(2) > div.story-area > div.user-prof > p\n",
    "# #contentData > div > div.movie-idv-story > ul > li:nth-child(9) > div.story-area > div.story-box > div > div.story-cont > div.story-recommend\n",
    "# #contentData > div > div.movie-idv-story > ul > li:nth-child(9) > div.story-area > div.story-box > div > div.story-cont > div.story-txt\n",
    "# 모두 출력 \n",
    "user_name = \"div.story-area > div.user-prof > p\"\n",
    "user_text_path = \"div.story-cont > div.story-recommend\"\n",
    "user_text_path2 = \"div.story-cont > div.story-txt\"\n",
    "\n",
    "# 태그정보 추출\n",
    "try :\n",
    "    user_name_elements = driver.find_elements(By.CSS_SELECTOR, user_name)\n",
    "    user_text_elements = driver.find_elements(By.CSS_SELECTOR, user_text_path)\n",
    "    user_text_elements2 = driver.find_elements(By.CSS_SELECTOR, user_text_path2)\n",
    "\n",
    "except Exception as e :\n",
    "    user_name_elements = \"\"\n",
    "    user_text_elements = \"\"\n",
    "    user_text_elements2 = \"\"\n",
    "\n",
    "len(user_text_elements)\n",
    "print(\"<개별관람평>\")\n",
    "for i in range(len(user_text_elements)):\n",
    "    print(f\"{i}. [{user_name_elements[i+1].text}] : {user_score_elements[i].text}점 | {user_text_elements[i].text} | {user_text_elements2[i].text}\")"
   ]
  },
  {
   "cell_type": "code",
   "execution_count": 81,
   "id": "bc1b4d1e-5e09-43a2-9f98-23d6a165c972",
   "metadata": {},
   "outputs": [],
   "source": [
    "### 영화 목록 1개가 모두 끝나면 , 상세페이지에서 목록페이지로 이동해야합니다.\n",
    "# 이전페이지로 이동 시킵니다.\n",
    "# 탭을 클릭했을 떄의 페이지 정보는 히스토리에 포함되지 않습니다.\n",
    "# (상세 페이지까지의 히스토리 정보만 가지고 있음)\n",
    "# execute_script(\"자바스크립트 코드\") : 자바스크립트 코드를 넣을 수 있는 함수\n",
    "# tab은 히스토리(history) 정보에 들어가지 않음\n",
    "driver.execute_script(\"window.history.go(-1)\")"
   ]
  },
  {
   "cell_type": "code",
   "execution_count": null,
   "id": "08fb9f5f-8e2d-4f14-92b5-ead20a24ab21",
   "metadata": {},
   "outputs": [],
   "source": [
    "### [더보기] 버튼이 안보일 때까지 목록 모두 펼치기 처리"
   ]
  },
  {
   "cell_type": "code",
   "execution_count": 85,
   "id": "e6e60560-67c0-4d77-986d-88481933ba19",
   "metadata": {},
   "outputs": [],
   "source": [
    "### [더보기] 버튼의 태그 정보 추출하기\n",
    "more_view_path = \"#btnAddMovie\"\n",
    "more_view_element = driver.find_element(By.CSS_SELECTOR, more_view_path)\n",
    "# more_view_element.text"
   ]
  },
  {
   "cell_type": "code",
   "execution_count": 86,
   "id": "8328a27c-0c9c-453e-a34d-55e08bafc8a7",
   "metadata": {},
   "outputs": [],
   "source": [
    "### 탭을 클릭했을 때 이벤트 처리하기 -> 페이지 이동시키기\n",
    "while True :\n",
    "    try :\n",
    "        more_view_element.click()\n",
    "        movie_handle = driver.window_handles[-1]\n",
    "        driver.switch_to.window(movie_handle)\n",
    "        time.sleep(1)\n",
    "    except Exception as e :\n",
    "        # 더 이상 클릭할 버튼이 페이지에 안보이면, 예외를 발생시킵니다.\n",
    "        # 예외가 발생될 때까지 반복 시킵니다.\n",
    "        break;"
   ]
  },
  {
   "cell_type": "code",
   "execution_count": 87,
   "id": "1c65c9e2-694e-4a4c-bec9-dae6a3a82ecf",
   "metadata": {},
   "outputs": [
    {
     "name": "stdout",
     "output_type": "stream",
     "text": [
      "125\n"
     ]
    }
   ],
   "source": [
    "### 영화 목록 전체 태그 정보 추출하기\n",
    "movie_list_path = \"div.movie-list-info\"\n",
    "\n",
    "movie_elements = driver.find_elements(By.CSS_SELECTOR, movie_list_path)\n",
    "\n",
    "print(len(movie_elements))"
   ]
  },
  {
   "cell_type": "code",
   "execution_count": 125,
   "id": "a44b703c-67a5-4ffa-b768-9ccba4c41b79",
   "metadata": {},
   "outputs": [],
   "source": [
    "### 수집이 모두 완료되면, 제어하는 브라우저 닫기\n",
    "driver.quit()"
   ]
  },
  {
   "cell_type": "code",
   "execution_count": null,
   "id": "5aba238c-ebe5-47cd-a44e-c4732d7a15b0",
   "metadata": {},
   "outputs": [],
   "source": [
    "### 총실관람평점\n"
   ]
  },
  {
   "cell_type": "code",
   "execution_count": null,
   "id": "3c8c83c2-9632-4472-9822-352f09749687",
   "metadata": {},
   "outputs": [],
   "source": []
  },
  {
   "cell_type": "code",
   "execution_count": null,
   "id": "95a9ebb0-6cd4-4c78-a617-432c22a3ab09",
   "metadata": {},
   "outputs": [],
   "source": []
  },
  {
   "cell_type": "code",
   "execution_count": null,
   "id": "23b15788-c4c1-4fab-adce-05c1b229eae1",
   "metadata": {},
   "outputs": [],
   "source": []
  },
  {
   "cell_type": "code",
   "execution_count": null,
   "id": "78bd5dac-2afe-45f1-a8dc-9c1bf0eee860",
   "metadata": {},
   "outputs": [],
   "source": []
  },
  {
   "cell_type": "code",
   "execution_count": null,
   "id": "8ab8da7c-1292-4cd6-9b07-0017ce65704c",
   "metadata": {},
   "outputs": [],
   "source": []
  },
  {
   "cell_type": "code",
   "execution_count": null,
   "id": "3e8ac7e4-9a2c-4ca0-b7b9-af2468ae3692",
   "metadata": {},
   "outputs": [],
   "source": []
  },
  {
   "cell_type": "code",
   "execution_count": null,
   "id": "b7829035-af69-416f-908c-ad4543439ca2",
   "metadata": {},
   "outputs": [],
   "source": []
  },
  {
   "cell_type": "code",
   "execution_count": null,
   "id": "b939c47d-ab18-47ee-9c4b-7379ade3e802",
   "metadata": {},
   "outputs": [],
   "source": []
  },
  {
   "cell_type": "code",
   "execution_count": null,
   "id": "81adeae9-d7ad-4b23-8d22-7bac1c8ac617",
   "metadata": {},
   "outputs": [],
   "source": []
  },
  {
   "cell_type": "code",
   "execution_count": null,
   "id": "a198d589-f83f-4911-b882-117da9b7838c",
   "metadata": {},
   "outputs": [],
   "source": []
  },
  {
   "cell_type": "code",
   "execution_count": null,
   "id": "7a2fc968-c8c3-413c-920f-15241123a879",
   "metadata": {},
   "outputs": [],
   "source": []
  },
  {
   "cell_type": "code",
   "execution_count": null,
   "id": "0073112b-4962-4232-9bb2-23499b595156",
   "metadata": {},
   "outputs": [],
   "source": []
  },
  {
   "cell_type": "code",
   "execution_count": null,
   "id": "4f9f7a9a-97e3-4ba1-9a03-57a9eff666b2",
   "metadata": {},
   "outputs": [],
   "source": []
  },
  {
   "cell_type": "code",
   "execution_count": null,
   "id": "c6422c32-9be6-4282-b095-a9cda650d55e",
   "metadata": {},
   "outputs": [],
   "source": []
  },
  {
   "cell_type": "code",
   "execution_count": null,
   "id": "91440798-065d-42f7-8100-bf91a1dbb8cc",
   "metadata": {},
   "outputs": [],
   "source": []
  },
  {
   "cell_type": "code",
   "execution_count": null,
   "id": "413a2b82-a4b1-40cb-914a-296e0df26c7d",
   "metadata": {},
   "outputs": [],
   "source": []
  }
 ],
 "metadata": {
  "kernelspec": {
   "display_name": "pk_base_kernel",
   "language": "python",
   "name": "pk_base"
  },
  "language_info": {
   "codemirror_mode": {
    "name": "ipython",
    "version": 3
   },
   "file_extension": ".py",
   "mimetype": "text/x-python",
   "name": "python",
   "nbconvert_exporter": "python",
   "pygments_lexer": "ipython3",
   "version": "3.9.18"
  }
 },
 "nbformat": 4,
 "nbformat_minor": 5
}
