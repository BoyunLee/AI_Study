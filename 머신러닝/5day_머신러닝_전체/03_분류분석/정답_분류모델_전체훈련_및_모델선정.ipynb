{
 "cells": [
  {
   "cell_type": "code",
   "execution_count": 1,
   "id": "4d6f9398-db17-4011-831e-ab88e015559c",
   "metadata": {
    "executionInfo": {
     "elapsed": 2075,
     "status": "ok",
     "timestamp": 1711527876951,
     "user": {
      "displayName": "성무선",
      "userId": "05116888031882588149"
     },
     "user_tz": -540
    },
    "id": "4d6f9398-db17-4011-831e-ab88e015559c"
   },
   "outputs": [],
   "source": [
    "### 사용할 라이브러리\n",
    "# - 데이터처리\n",
    "import pandas as pd\n",
    "import numpy as np\n",
    "\n",
    "# - 정규화\n",
    "from sklearn.preprocessing import StandardScaler\n",
    "\n",
    "# - 데이터분류\n",
    "from sklearn.model_selection import train_test_split\n",
    "\n",
    "# - 하이퍼파라메터 튜닝\n",
    "from sklearn.model_selection import GridSearchCV\n",
    "\n",
    "# - 분류모델\n",
    "from sklearn.ensemble import RandomForestClassifier\n",
    "from sklearn.ensemble import ExtraTreesClassifier\n",
    "from sklearn.ensemble import GradientBoostingClassifier\n",
    "from sklearn.ensemble import HistGradientBoostingClassifier\n",
    "from xgboost import XGBClassifier\n",
    "\n",
    "# - 평가\n",
    "from sklearn.metrics import accuracy_score\n",
    "from sklearn.metrics import precision_score\n",
    "from sklearn.metrics import recall_score\n",
    "from sklearn.metrics import f1_score\n",
    "\n",
    "# - 오차행렬 매트릭스 및 오차행렬도\n",
    "from sklearn.metrics import confusion_matrix\n",
    "from sklearn.metrics import ConfusionMatrixDisplay"
   ]
  },
  {
   "cell_type": "code",
   "execution_count": 2,
   "id": "2a9c3385-cefb-4ae3-8114-58599ef823be",
   "metadata": {
    "colab": {
     "base_uri": "https://localhost:8080/",
     "height": 90
    },
    "executionInfo": {
     "elapsed": 6,
     "status": "ok",
     "timestamp": 1711527881199,
     "user": {
      "displayName": "성무선",
      "userId": "05116888031882588149"
     },
     "user_tz": -540
    },
    "id": "2a9c3385-cefb-4ae3-8114-58599ef823be",
    "outputId": "b7f95684-5e1e-4c6d-ecba-67b402188e82"
   },
   "outputs": [
    {
     "data": {
      "text/plain": [
       "'\\n* 주제 : 와인분류하기\\n - 사용데이터 : 08_wine.csv\\n\\n* 분석방법\\n - 스케일링 : 스탠다드 스케일러 사용\\n - 데이터 분류 : 훈련/검증/테스트 = 6:2:2로 분류하여 사용\\n - 하이퍼파라메터 튜닝 진행\\n\\n <튜닝 속성>\\n  - HGB : max_iter = [50, 100]\\n        : max_depth = [None, 10]\\n        : min_samples_leaf = [1, 2, 4]\\n\\n  - XGB : n_estimators = [50, 100]\\n        : max_depth = [None, 10]\\n        : min_child_weight = [1, 2, 4]\\n\\n  - 나머지 모델 : n_estimators = [50, 100]\\n               : max_depth = [None, 10]\\n               : min_samples_split = [2, 5]\\n               : min_samples_leaf = [1, 2, 4]\\n\\n  - scoring = accuracy 사용\\n  - cv = 5 사용\\n  - refit은 사용안해도 됨\\n\\n<최종결과>\\n - 데이터프레임에 담아서 출력\\n   * 컬럼명 : 모델명, 훈련정확도, 검증정확도, (훈련-검증), 정밀도, 재현율, F1-score\\n\\n - 최종모델 선정 후\\n   * 테스트정확도, 정밀도, 재현율, F1-score 확인\\n - 하이퍼파라메터 튜닝 전과 튜닝 후로 구분하여 모델 선정\\n\\n'"
      ]
     },
     "execution_count": 2,
     "metadata": {},
     "output_type": "execute_result"
    }
   ],
   "source": [
    "\"\"\"\n",
    "* 주제 : 와인분류하기\n",
    " - 사용데이터 : 08_wine.csv\n",
    "\n",
    "* 분석방법\n",
    " - 스케일링 : 스탠다드 스케일러 사용\n",
    " - 데이터 분류 : 훈련/검증/테스트 = 6:2:2로 분류하여 사용\n",
    " - 하이퍼파라메터 튜닝 진행\n",
    "\n",
    " <튜닝 속성>\n",
    "  - HGB : max_iter = [50, 100]\n",
    "        : max_depth = [None, 10]\n",
    "        : min_samples_leaf = [1, 2, 4]\n",
    "\n",
    "  - XGB : n_estimators = [50, 100]\n",
    "        : max_depth = [None, 10]\n",
    "        : min_child_weight = [1, 2, 4]\n",
    "\n",
    "  - 나머지 모델 : n_estimators = [50, 100]\n",
    "               : max_depth = [None, 10]\n",
    "               : min_samples_split = [2, 5]\n",
    "               : min_samples_leaf = [1, 2, 4]\n",
    "\n",
    "  - scoring = accuracy 사용\n",
    "  - cv = 5 사용\n",
    "  - refit은 사용안해도 됨\n",
    "\n",
    "<최종결과>\n",
    " - 데이터프레임에 담아서 출력\n",
    "   * 컬럼명 : 모델명, 훈련정확도, 검증정확도, (훈련-검증), 정밀도, 재현율, F1-score\n",
    "\n",
    " - 최종모델 선정 후\n",
    "   * 테스트정확도, 정밀도, 재현율, F1-score 확인\n",
    " - 하이퍼파라메터 튜닝 전과 튜닝 후로 구분하여 모델 선정\n",
    "\n",
    "\"\"\""
   ]
  },
  {
   "cell_type": "code",
   "execution_count": 3,
   "id": "7c12cac2-51f3-47db-9f8c-8a1e07d548f0",
   "metadata": {
    "colab": {
     "base_uri": "https://localhost:8080/",
     "height": 336
    },
    "executionInfo": {
     "elapsed": 3,
     "status": "error",
     "timestamp": 1711527939862,
     "user": {
      "displayName": "성무선",
      "userId": "05116888031882588149"
     },
     "user_tz": -540
    },
    "id": "7c12cac2-51f3-47db-9f8c-8a1e07d548f0",
    "outputId": "558f0f6d-6b8e-4633-d698-800315796fab"
   },
   "outputs": [
    {
     "data": {
      "text/html": [
       "<div>\n",
       "<style scoped>\n",
       "    .dataframe tbody tr th:only-of-type {\n",
       "        vertical-align: middle;\n",
       "    }\n",
       "\n",
       "    .dataframe tbody tr th {\n",
       "        vertical-align: top;\n",
       "    }\n",
       "\n",
       "    .dataframe thead th {\n",
       "        text-align: right;\n",
       "    }\n",
       "</style>\n",
       "<table border=\"1\" class=\"dataframe\">\n",
       "  <thead>\n",
       "    <tr style=\"text-align: right;\">\n",
       "      <th></th>\n",
       "      <th>alcohol</th>\n",
       "      <th>sugar</th>\n",
       "      <th>pH</th>\n",
       "      <th>class</th>\n",
       "    </tr>\n",
       "  </thead>\n",
       "  <tbody>\n",
       "    <tr>\n",
       "      <th>0</th>\n",
       "      <td>9.4</td>\n",
       "      <td>1.9</td>\n",
       "      <td>3.51</td>\n",
       "      <td>0.0</td>\n",
       "    </tr>\n",
       "    <tr>\n",
       "      <th>1</th>\n",
       "      <td>9.8</td>\n",
       "      <td>2.6</td>\n",
       "      <td>3.20</td>\n",
       "      <td>0.0</td>\n",
       "    </tr>\n",
       "    <tr>\n",
       "      <th>2</th>\n",
       "      <td>9.8</td>\n",
       "      <td>2.3</td>\n",
       "      <td>3.26</td>\n",
       "      <td>0.0</td>\n",
       "    </tr>\n",
       "    <tr>\n",
       "      <th>3</th>\n",
       "      <td>9.8</td>\n",
       "      <td>1.9</td>\n",
       "      <td>3.16</td>\n",
       "      <td>0.0</td>\n",
       "    </tr>\n",
       "    <tr>\n",
       "      <th>4</th>\n",
       "      <td>9.4</td>\n",
       "      <td>1.9</td>\n",
       "      <td>3.51</td>\n",
       "      <td>0.0</td>\n",
       "    </tr>\n",
       "    <tr>\n",
       "      <th>...</th>\n",
       "      <td>...</td>\n",
       "      <td>...</td>\n",
       "      <td>...</td>\n",
       "      <td>...</td>\n",
       "    </tr>\n",
       "    <tr>\n",
       "      <th>6492</th>\n",
       "      <td>11.2</td>\n",
       "      <td>1.6</td>\n",
       "      <td>3.27</td>\n",
       "      <td>1.0</td>\n",
       "    </tr>\n",
       "    <tr>\n",
       "      <th>6493</th>\n",
       "      <td>9.6</td>\n",
       "      <td>8.0</td>\n",
       "      <td>3.15</td>\n",
       "      <td>1.0</td>\n",
       "    </tr>\n",
       "    <tr>\n",
       "      <th>6494</th>\n",
       "      <td>9.4</td>\n",
       "      <td>1.2</td>\n",
       "      <td>2.99</td>\n",
       "      <td>1.0</td>\n",
       "    </tr>\n",
       "    <tr>\n",
       "      <th>6495</th>\n",
       "      <td>12.8</td>\n",
       "      <td>1.1</td>\n",
       "      <td>3.34</td>\n",
       "      <td>1.0</td>\n",
       "    </tr>\n",
       "    <tr>\n",
       "      <th>6496</th>\n",
       "      <td>11.8</td>\n",
       "      <td>0.8</td>\n",
       "      <td>3.26</td>\n",
       "      <td>1.0</td>\n",
       "    </tr>\n",
       "  </tbody>\n",
       "</table>\n",
       "<p>6497 rows × 4 columns</p>\n",
       "</div>"
      ],
      "text/plain": [
       "      alcohol  sugar    pH  class\n",
       "0         9.4    1.9  3.51    0.0\n",
       "1         9.8    2.6  3.20    0.0\n",
       "2         9.8    2.3  3.26    0.0\n",
       "3         9.8    1.9  3.16    0.0\n",
       "4         9.4    1.9  3.51    0.0\n",
       "...       ...    ...   ...    ...\n",
       "6492     11.2    1.6  3.27    1.0\n",
       "6493      9.6    8.0  3.15    1.0\n",
       "6494      9.4    1.2  2.99    1.0\n",
       "6495     12.8    1.1  3.34    1.0\n",
       "6496     11.8    0.8  3.26    1.0\n",
       "\n",
       "[6497 rows x 4 columns]"
      ]
     },
     "execution_count": 3,
     "metadata": {},
     "output_type": "execute_result"
    }
   ],
   "source": [
    "file_path = \"./data/08_wine.csv\"\n",
    "data = pd.read_csv(file_path)\n",
    "data"
   ]
  },
  {
   "cell_type": "code",
   "execution_count": 4,
   "id": "68495a5e-5a27-4e87-9297-040692c76474",
   "metadata": {
    "executionInfo": {
     "elapsed": 4,
     "status": "aborted",
     "timestamp": 1711527881200,
     "user": {
      "displayName": "성무선",
      "userId": "05116888031882588149"
     },
     "user_tz": -540
    },
    "id": "68495a5e-5a27-4e87-9297-040692c76474"
   },
   "outputs": [
    {
     "data": {
      "text/plain": [
       "(6497, 6497)"
      ]
     },
     "execution_count": 4,
     "metadata": {},
     "output_type": "execute_result"
    }
   ],
   "source": [
    "X = data.iloc[:, :-1]\n",
    "y = data[\"class\"]\n",
    "len(X), len(y)"
   ]
  },
  {
   "cell_type": "code",
   "execution_count": 5,
   "id": "c70c44fd-00f7-4721-9494-6f312293376a",
   "metadata": {
    "executionInfo": {
     "elapsed": 4,
     "status": "aborted",
     "timestamp": 1711527881200,
     "user": {
      "displayName": "성무선",
      "userId": "05116888031882588149"
     },
     "user_tz": -540
    },
    "id": "c70c44fd-00f7-4721-9494-6f312293376a"
   },
   "outputs": [
    {
     "data": {
      "text/plain": [
       "(6497, 3)"
      ]
     },
     "execution_count": 5,
     "metadata": {},
     "output_type": "execute_result"
    }
   ],
   "source": [
    "ss = StandardScaler()\n",
    "ss.fit(X)\n",
    "\n",
    "X_scaler = ss.transform(X)\n",
    "X_scaler.shape"
   ]
  },
  {
   "cell_type": "code",
   "execution_count": 6,
   "id": "6d60b315-5ba8-4c3d-8ed3-04e3e7bdd31d",
   "metadata": {
    "executionInfo": {
     "elapsed": 4,
     "status": "aborted",
     "timestamp": 1711527881200,
     "user": {
      "displayName": "성무선",
      "userId": "05116888031882588149"
     },
     "user_tz": -540
    },
    "id": "6d60b315-5ba8-4c3d-8ed3-04e3e7bdd31d"
   },
   "outputs": [
    {
     "data": {
      "text/plain": [
       "(((3898, 3), (3898,)), ((2599, 3), (2599,)))"
      ]
     },
     "execution_count": 6,
     "metadata": {},
     "output_type": "execute_result"
    }
   ],
   "source": [
    "X_train, X_temp, y_train, y_temp = train_test_split(X_scaler, y, test_size=0.4, random_state=42)\n",
    "(X_train.shape, y_train.shape), (X_temp.shape, y_temp.shape)"
   ]
  },
  {
   "cell_type": "code",
   "execution_count": 7,
   "id": "9b977d05-6781-4a62-b78b-cb8491499bac",
   "metadata": {
    "colab": {
     "base_uri": "https://localhost:8080/",
     "height": 166
    },
    "executionInfo": {
     "elapsed": 5,
     "status": "error",
     "timestamp": 1711527881969,
     "user": {
      "displayName": "성무선",
      "userId": "05116888031882588149"
     },
     "user_tz": -540
    },
    "id": "9b977d05-6781-4a62-b78b-cb8491499bac",
    "outputId": "dfea357a-3bcc-4caa-c9a4-896a0e5aaa58"
   },
   "outputs": [
    {
     "data": {
      "text/plain": [
       "(((1299, 3), (1299,)), ((1300, 3), (1300,)))"
      ]
     },
     "execution_count": 7,
     "metadata": {},
     "output_type": "execute_result"
    }
   ],
   "source": [
    "X_val, X_test, y_val, y_test = train_test_split(X_temp, y_temp, test_size=0.5, random_state=42)\n",
    "(X_val.shape, y_val.shape), (X_test.shape, y_test.shape)"
   ]
  },
  {
   "cell_type": "code",
   "execution_count": 8,
   "id": "3d96c00b-1d1c-4bc0-9dd4-8b13a622ca94",
   "metadata": {
    "executionInfo": {
     "elapsed": 5,
     "status": "aborted",
     "timestamp": 1711527881970,
     "user": {
      "displayName": "성무선",
      "userId": "05116888031882588149"
     },
     "user_tz": -540
    },
    "id": "3d96c00b-1d1c-4bc0-9dd4-8b13a622ca94"
   },
   "outputs": [],
   "source": [
    "### 오차행렬 및 오차행렬도 그리기를 함수로 정의\n",
    "def conf_matrix_display(X_target, y_pred, model) :\n",
    "    cm = confusion_matrix(X_target, y_pred, labels=model.classes_)\n",
    "    disp = ConfusionMatrixDisplay(confusion_matrix=cm, display_labels=model.classes_)\n",
    "    disp.plot()"
   ]
  },
  {
   "cell_type": "code",
   "execution_count": 9,
   "id": "cddb4839-d7d7-4b38-bfeb-7a4bfd578754",
   "metadata": {
    "executionInfo": {
     "elapsed": 5,
     "status": "aborted",
     "timestamp": 1711527881970,
     "user": {
      "displayName": "성무선",
      "userId": "05116888031882588149"
     },
     "user_tz": -540
    },
    "id": "cddb4839-d7d7-4b38-bfeb-7a4bfd578754"
   },
   "outputs": [],
   "source": [
    "### 하이퍼파라메터 튜닝 전 처리............................"
   ]
  },
  {
   "cell_type": "code",
   "execution_count": 10,
   "id": "f51627b5-ff08-44c6-95b2-afa2e3c74e1f",
   "metadata": {
    "executionInfo": {
     "elapsed": 5,
     "status": "aborted",
     "timestamp": 1711527881970,
     "user": {
      "displayName": "성무선",
      "userId": "05116888031882588149"
     },
     "user_tz": -540
    },
    "id": "f51627b5-ff08-44c6-95b2-afa2e3c74e1f"
   },
   "outputs": [],
   "source": [
    "### 훈련 시키기, 정확도확인, 예측, 평가를 하나의 함수로 정의해 놓기(기능 정의)\n",
    "# - 함수 이름 : train_and_evalute_model\n",
    "\n",
    "def train_and_evalute_model(model, train_input, train_target, val_input, val_target) :\n",
    "\n",
    "    ### 모델 훈련 시키기\n",
    "    model.fit(train_input, train_target)\n",
    "\n",
    "    ### 훈련 및 검증 독립변수로 정확도 확인하기\n",
    "    train_score = model.score(train_input, train_target)\n",
    "    val_score   = model.score(val_input, val_target)\n",
    "\n",
    "    ### 훈련 및 검증 데이터를 이용해서 예측 및 평가하기\n",
    "    # - 훈련 예측 및 평가\n",
    "    train_pred = model.predict(train_input)\n",
    "    ### 정확도(accuracy_score)\n",
    "    train_acc = accuracy_score(train_target, train_pred)\n",
    "    ### 정밀도(precision_score)\n",
    "    train_pre = precision_score(train_target, train_pred)\n",
    "    ### 재현율(recall_score)\n",
    "    train_rec = recall_score(train_target, train_pred)\n",
    "    ### F1-score\n",
    "    train_f1 = f1_score(train_target, train_pred)\n",
    "    ### 오차행렬도\n",
    "    # conf_matrix_display(train_target, train_pred, model)\n",
    "\n",
    "    # - 검증 예측 및 평가\n",
    "    val_pred = model.predict(val_input)\n",
    "    ### 정확도(accuracy_score)\n",
    "    val_acc = accuracy_score(val_target, val_pred)\n",
    "    ### 정밀도(precision_score)\n",
    "    val_pre = precision_score(val_target, val_pred)\n",
    "    ### 재현율(recall_score)\n",
    "    val_rec = recall_score(val_target, val_pred)\n",
    "    ### F1-score\n",
    "    val_f1 = f1_score(val_target, val_pred)\n",
    "    ### 오차행렬도\n",
    "    # conf_matrix_display(val_target, val_pred, model)\n",
    "\n",
    "    # print(\"--------------[종료]--------------\")\n",
    "    return model, train_score, train_pre, train_rec, train_f1, val_score, val_pre, val_rec, val_f1"
   ]
  },
  {
   "cell_type": "code",
   "execution_count": 11,
   "id": "df3e1baa-ecbc-48c7-90bc-0ae32c4cdec0",
   "metadata": {
    "executionInfo": {
     "elapsed": 5,
     "status": "aborted",
     "timestamp": 1711527881970,
     "user": {
      "displayName": "성무선",
      "userId": "05116888031882588149"
     },
     "user_tz": -540
    },
    "id": "df3e1baa-ecbc-48c7-90bc-0ae32c4cdec0"
   },
   "outputs": [
    {
     "data": {
      "text/plain": [
       "[RandomForestClassifier(),\n",
       " ExtraTreesClassifier(),\n",
       " GradientBoostingClassifier(),\n",
       " HistGradientBoostingClassifier(),\n",
       " XGBClassifier(base_score=None, booster=None, callbacks=None,\n",
       "               colsample_bylevel=None, colsample_bynode=None,\n",
       "               colsample_bytree=None, device=None, early_stopping_rounds=None,\n",
       "               enable_categorical=False, eval_metric=None, feature_types=None,\n",
       "               gamma=None, grow_policy=None, importance_type=None,\n",
       "               interaction_constraints=None, learning_rate=None, max_bin=None,\n",
       "               max_cat_threshold=None, max_cat_to_onehot=None,\n",
       "               max_delta_step=None, max_depth=None, max_leaves=None,\n",
       "               min_child_weight=None, missing=nan, monotone_constraints=None,\n",
       "               multi_strategy=None, n_estimators=None, n_jobs=None,\n",
       "               num_parallel_tree=None, random_state=None, ...)]"
      ]
     },
     "execution_count": 11,
     "metadata": {},
     "output_type": "execute_result"
    }
   ],
   "source": [
    "rf = RandomForestClassifier()\n",
    "et = ExtraTreesClassifier()\n",
    "gb = GradientBoostingClassifier()\n",
    "hgb = HistGradientBoostingClassifier()\n",
    "xgb = XGBClassifier()\n",
    "\n",
    "models = [rf, et, gb, hgb, xgb]\n",
    "models"
   ]
  },
  {
   "cell_type": "code",
   "execution_count": 12,
   "id": "70f9f7d2-6f4d-4d8c-a328-c360c3d231b4",
   "metadata": {
    "colab": {
     "base_uri": "https://localhost:8080/",
     "height": 221
    },
    "executionInfo": {
     "elapsed": 6,
     "status": "error",
     "timestamp": 1711527881971,
     "user": {
      "displayName": "성무선",
      "userId": "05116888031882588149"
     },
     "user_tz": -540
    },
    "id": "70f9f7d2-6f4d-4d8c-a328-c360c3d231b4",
    "outputId": "8eb07e12-6252-4a09-8b25-dbee8cadaa4e"
   },
   "outputs": [
    {
     "name": "stdout",
     "output_type": "stream",
     "text": [
      "----------------[RandomForestClassifier]----------------\n",
      "----------------[ExtraTreesClassifier]----------------\n",
      "----------------[GradientBoostingClassifier]----------------\n",
      "----------------[HistGradientBoostingClassifier]----------------\n",
      "----------------[XGBClassifier]----------------\n"
     ]
    }
   ],
   "source": [
    "### 함수 반복 호출하기 ..............................\n",
    "results = {}\n",
    "\n",
    "# - 각 모델의 실행결과를 데이터프레임에 담을 변수 정의\n",
    "rs_df = pd.DataFrame()\n",
    "\n",
    "for m in models :\n",
    "    ### 모델은 클래스로 되었기 때문에-> 클래스 이름을 추출 할 수 있습니다.\n",
    "    modelName = m.__class__.__name__\n",
    "    print(f\"----------------[{modelName}]----------------\")\n",
    "\n",
    "    ### 함수 호출하기\n",
    "    model, train_score, train_pre, train_rec, train_f1, val_score, val_pre, val_rec, val_f1 = train_and_evalute_model(\n",
    "                                                                                                m, X_train, y_train, X_val, y_val)\n",
    "\n",
    "    ### 딕셔너리에 모델 별로 결과값 담기\n",
    "    results[modelName] = [model, train_score, train_pre, train_rec, train_f1, val_score, val_pre, val_rec, val_f1]\n",
    "\n",
    "    ### 데이터프레임에 모델 별로 결과값 담기\n",
    "    rs_temp = pd.DataFrame([[modelName, train_score, train_pre, train_rec, train_f1, val_score, val_pre, val_rec, val_f1, train_score-val_score]],\n",
    "                            columns=[\"modelName\", \"train_score\", \"train_pre\", \"train_rec\", \"train_f1\",\n",
    "                                        \"val_score\", \"val_pre\", \"val_rec\", \"val_f1\", \"train_score-val_score\"])\n",
    "\n",
    "    ### 원본 데이터프레임에 rs_temp 데이터를 행단위로 추가하기\n",
    "    rs_df = pd.concat([rs_df, rs_temp], ignore_index=True)\n",
    "\n",
    "    # print()"
   ]
  },
  {
   "cell_type": "code",
   "execution_count": 13,
   "id": "c97f8fe2-5074-40a8-9595-1a73a36e4bc7",
   "metadata": {
    "colab": {
     "base_uri": "https://localhost:8080/"
    },
    "executionInfo": {
     "elapsed": 5,
     "status": "ok",
     "timestamp": 1711527881971,
     "user": {
      "displayName": "성무선",
      "userId": "05116888031882588149"
     },
     "user_tz": -540
    },
    "id": "c97f8fe2-5074-40a8-9595-1a73a36e4bc7",
    "outputId": "450db2f2-d92f-4d2d-ced3-9657bacd3c9f",
    "scrolled": true
   },
   "outputs": [
    {
     "data": {
      "text/plain": [
       "{'RandomForestClassifier': [RandomForestClassifier(),\n",
       "  0.9974345818368394,\n",
       "  0.9973181361045927,\n",
       "  0.9993281827342962,\n",
       "  0.9983221476510067,\n",
       "  0.8806774441878368,\n",
       "  0.922360248447205,\n",
       "  0.917610710607621,\n",
       "  0.9199793495095508],\n",
       " 'ExtraTreesClassifier': [ExtraTreesClassifier(),\n",
       "  0.9974345818368394,\n",
       "  0.9996631862579993,\n",
       "  0.9969768223043333,\n",
       "  0.9983181971072991,\n",
       "  0.8883756735950731,\n",
       "  0.9240246406570842,\n",
       "  0.9268795056642637,\n",
       "  0.9254498714652957],\n",
       " 'GradientBoostingClassifier': [GradientBoostingClassifier(),\n",
       "  0.8917393535146229,\n",
       "  0.9225934502150182,\n",
       "  0.9368491770238495,\n",
       "  0.9296666666666666,\n",
       "  0.8629715165511932,\n",
       "  0.9117341640706127,\n",
       "  0.9042224510813595,\n",
       "  0.9079627714581179],\n",
       " 'HistGradientBoostingClassifier': [HistGradientBoostingClassifier(),\n",
       "  0.9402257567983582,\n",
       "  0.9635135135135136,\n",
       "  0.958011420893517,\n",
       "  0.9607545898601988,\n",
       "  0.8768283294842186,\n",
       "  0.928194297782471,\n",
       "  0.9052523171987642,\n",
       "  0.9165797705943691],\n",
       " 'XGBClassifier': [XGBClassifier(base_score=None, booster=None, callbacks=None,\n",
       "                colsample_bylevel=None, colsample_bynode=None,\n",
       "                colsample_bytree=None, device=None, early_stopping_rounds=None,\n",
       "                enable_categorical=False, eval_metric=None, feature_types=None,\n",
       "                gamma=None, grow_policy=None, importance_type=None,\n",
       "                interaction_constraints=None, learning_rate=None, max_bin=None,\n",
       "                max_cat_threshold=None, max_cat_to_onehot=None,\n",
       "                max_delta_step=None, max_depth=None, max_leaves=None,\n",
       "                min_child_weight=None, missing=nan, monotone_constraints=None,\n",
       "                multi_strategy=None, n_estimators=None, n_jobs=None,\n",
       "                num_parallel_tree=None, random_state=None, ...),\n",
       "  0.9599794766546947,\n",
       "  0.9722129226648811,\n",
       "  0.9754786698018139,\n",
       "  0.9738430583501007,\n",
       "  0.8722093918398768,\n",
       "  0.9223504721930745,\n",
       "  0.9052523171987642,\n",
       "  0.9137214137214137]}"
      ]
     },
     "execution_count": 13,
     "metadata": {},
     "output_type": "execute_result"
    }
   ],
   "source": [
    "results"
   ]
  },
  {
   "cell_type": "code",
   "execution_count": 14,
   "id": "e38bf27e-0fbc-4beb-8cf9-d1031449db56",
   "metadata": {
    "id": "e38bf27e-0fbc-4beb-8cf9-d1031449db56",
    "outputId": "00314588-22cd-486d-fb71-83bf09e1c6fb"
   },
   "outputs": [
    {
     "data": {
      "text/html": [
       "<div>\n",
       "<style scoped>\n",
       "    .dataframe tbody tr th:only-of-type {\n",
       "        vertical-align: middle;\n",
       "    }\n",
       "\n",
       "    .dataframe tbody tr th {\n",
       "        vertical-align: top;\n",
       "    }\n",
       "\n",
       "    .dataframe thead th {\n",
       "        text-align: right;\n",
       "    }\n",
       "</style>\n",
       "<table border=\"1\" class=\"dataframe\">\n",
       "  <thead>\n",
       "    <tr style=\"text-align: right;\">\n",
       "      <th></th>\n",
       "      <th>modelName</th>\n",
       "      <th>train_score</th>\n",
       "      <th>train_pre</th>\n",
       "      <th>train_rec</th>\n",
       "      <th>train_f1</th>\n",
       "      <th>val_score</th>\n",
       "      <th>val_pre</th>\n",
       "      <th>val_rec</th>\n",
       "      <th>val_f1</th>\n",
       "      <th>train_score-val_score</th>\n",
       "    </tr>\n",
       "  </thead>\n",
       "  <tbody>\n",
       "    <tr>\n",
       "      <th>0</th>\n",
       "      <td>RandomForestClassifier</td>\n",
       "      <td>0.997435</td>\n",
       "      <td>0.997318</td>\n",
       "      <td>0.999328</td>\n",
       "      <td>0.998322</td>\n",
       "      <td>0.880677</td>\n",
       "      <td>0.922360</td>\n",
       "      <td>0.917611</td>\n",
       "      <td>0.919979</td>\n",
       "      <td>0.116757</td>\n",
       "    </tr>\n",
       "    <tr>\n",
       "      <th>1</th>\n",
       "      <td>ExtraTreesClassifier</td>\n",
       "      <td>0.997435</td>\n",
       "      <td>0.999663</td>\n",
       "      <td>0.996977</td>\n",
       "      <td>0.998318</td>\n",
       "      <td>0.888376</td>\n",
       "      <td>0.924025</td>\n",
       "      <td>0.926880</td>\n",
       "      <td>0.925450</td>\n",
       "      <td>0.109059</td>\n",
       "    </tr>\n",
       "    <tr>\n",
       "      <th>2</th>\n",
       "      <td>GradientBoostingClassifier</td>\n",
       "      <td>0.891739</td>\n",
       "      <td>0.922593</td>\n",
       "      <td>0.936849</td>\n",
       "      <td>0.929667</td>\n",
       "      <td>0.862972</td>\n",
       "      <td>0.911734</td>\n",
       "      <td>0.904222</td>\n",
       "      <td>0.907963</td>\n",
       "      <td>0.028768</td>\n",
       "    </tr>\n",
       "    <tr>\n",
       "      <th>3</th>\n",
       "      <td>HistGradientBoostingClassifier</td>\n",
       "      <td>0.940226</td>\n",
       "      <td>0.963514</td>\n",
       "      <td>0.958011</td>\n",
       "      <td>0.960755</td>\n",
       "      <td>0.876828</td>\n",
       "      <td>0.928194</td>\n",
       "      <td>0.905252</td>\n",
       "      <td>0.916580</td>\n",
       "      <td>0.063397</td>\n",
       "    </tr>\n",
       "    <tr>\n",
       "      <th>4</th>\n",
       "      <td>XGBClassifier</td>\n",
       "      <td>0.959979</td>\n",
       "      <td>0.972213</td>\n",
       "      <td>0.975479</td>\n",
       "      <td>0.973843</td>\n",
       "      <td>0.872209</td>\n",
       "      <td>0.922350</td>\n",
       "      <td>0.905252</td>\n",
       "      <td>0.913721</td>\n",
       "      <td>0.087770</td>\n",
       "    </tr>\n",
       "  </tbody>\n",
       "</table>\n",
       "</div>"
      ],
      "text/plain": [
       "                        modelName  train_score  train_pre  train_rec  \\\n",
       "0          RandomForestClassifier     0.997435   0.997318   0.999328   \n",
       "1            ExtraTreesClassifier     0.997435   0.999663   0.996977   \n",
       "2      GradientBoostingClassifier     0.891739   0.922593   0.936849   \n",
       "3  HistGradientBoostingClassifier     0.940226   0.963514   0.958011   \n",
       "4                   XGBClassifier     0.959979   0.972213   0.975479   \n",
       "\n",
       "   train_f1  val_score   val_pre   val_rec    val_f1  train_score-val_score  \n",
       "0  0.998322   0.880677  0.922360  0.917611  0.919979               0.116757  \n",
       "1  0.998318   0.888376  0.924025  0.926880  0.925450               0.109059  \n",
       "2  0.929667   0.862972  0.911734  0.904222  0.907963               0.028768  \n",
       "3  0.960755   0.876828  0.928194  0.905252  0.916580               0.063397  \n",
       "4  0.973843   0.872209  0.922350  0.905252  0.913721               0.087770  "
      ]
     },
     "execution_count": 14,
     "metadata": {},
     "output_type": "execute_result"
    }
   ],
   "source": [
    "rs_df"
   ]
  },
  {
   "cell_type": "code",
   "execution_count": 15,
   "id": "84c41ac5-4952-4a7e-ad34-472cd6f8ded6",
   "metadata": {
    "id": "84c41ac5-4952-4a7e-ad34-472cd6f8ded6"
   },
   "outputs": [
    {
     "data": {
      "text/plain": [
       "'\\n(해석)\\n - 가장 일반화가 잘된 모델은 GB모델이며, 그 다음으로 HGB, XGB 순으로 나타남\\n - 재현율의 경우에는 ET모델이 가장 높으나, GB모델과 많은 차이을 보이고 있지 않기에\\n   가장 일반화가 잘 된 GB모델로 선정\\n'"
      ]
     },
     "execution_count": 15,
     "metadata": {},
     "output_type": "execute_result"
    }
   ],
   "source": [
    "\"\"\"\n",
    "(해석)\n",
    " - 가장 일반화가 잘된 모델은 GB모델이며, 그 다음으로 HGB, XGB 순으로 나타남\n",
    " - 재현율의 경우에는 ET모델이 가장 높으나, GB모델과 많은 차이을 보이고 있지 않기에\n",
    "   가장 일반화가 잘 된 GB모델로 선정\n",
    "\"\"\""
   ]
  },
  {
   "cell_type": "code",
   "execution_count": 16,
   "id": "0d0d02e6-6246-4bcd-a468-a514aa657d4e",
   "metadata": {
    "id": "0d0d02e6-6246-4bcd-a468-a514aa657d4e"
   },
   "outputs": [],
   "source": [
    "### ### 하이퍼파라메터 튜닝 후 처리 ........................."
   ]
  },
  {
   "cell_type": "code",
   "execution_count": 17,
   "id": "ffb61b82-05a8-4ca4-8c0c-1b285c8b52f9",
   "metadata": {
    "id": "ffb61b82-05a8-4ca4-8c0c-1b285c8b52f9"
   },
   "outputs": [],
   "source": [
    "### 하이퍼파라메터 튜닝을 위한 함수 생성하기...........................\n",
    "# - 함수 이름 : get_HyperParameter_Tuning()\n",
    "\n",
    "def get_HyperParameter_Tuning(model, gridParam, scoring,\n",
    "                                train_input, train_target, val_input, val_target, cv=5, n_jobs=-1) :\n",
    "    ### 튜닝객체 생성하기\n",
    "    grid_search_model = GridSearchCV(model, gridParams, scoring=scoring,\n",
    "                                     cv=cv, n_jobs=n_jobs)\n",
    "\n",
    "    ### 튜닝객체 훈련시키기 (모델 훈련시키기)\n",
    "    grid_search_model.fit(train_input, train_target)\n",
    "\n",
    "    ### 최적의 모델을 변수로 받아오기\n",
    "    best_model = grid_search_model.best_estimator_\n",
    "\n",
    "    ### 훈련데이터로 예측 및 평가결과 확인하기\n",
    "    # - 훈련 예측하기\n",
    "    train_pred = best_model.predict(train_input)\n",
    "    ### 정확도(accuracy_score)\n",
    "    train_acc = accuracy_score(train_target, train_pred)\n",
    "    ### 정밀도(precision_score)\n",
    "    train_pre = precision_score(train_target, train_pred)\n",
    "    ### 재현율(recall_score)\n",
    "    train_rec = recall_score(train_target, train_pred)\n",
    "    ### F1-score\n",
    "    train_f1 = f1_score(train_target, train_pred)\n",
    "    ### 오차행렬도\n",
    "    # conf_matrix_display(train_target, train_pred, model)\n",
    "\n",
    "    ### 검증데이터로 예측 및 평가결과 확인하기\n",
    "    val_pred = best_model.predict(val_input)\n",
    "    ### 정확도(accuracy_score)\n",
    "    val_acc = accuracy_score(val_target, val_pred)\n",
    "    ### 정밀도(precision_score)\n",
    "    val_pre = precision_score(val_target, val_pred)\n",
    "    ### 재현율(recall_score)\n",
    "    val_rec = recall_score(val_target, val_pred)\n",
    "    ### F1-score\n",
    "    val_f1 = f1_score(val_target, val_pred)\n",
    "    ### 오차행렬도\n",
    "    # conf_matrix_display(val_target, val_pred, model)\n",
    "\n",
    "    return best_model, train_acc, train_pre, train_rec, train_f1, val_acc, val_pre, val_rec, val_f1"
   ]
  },
  {
   "cell_type": "code",
   "execution_count": 18,
   "id": "4c79a7c1-9138-4379-8777-2fddce049bad",
   "metadata": {
    "id": "4c79a7c1-9138-4379-8777-2fddce049bad",
    "outputId": "1915c581-c088-4369-de5e-0bdfd3923656"
   },
   "outputs": [
    {
     "data": {
      "text/plain": [
       "[RandomForestClassifier(),\n",
       " ExtraTreesClassifier(),\n",
       " GradientBoostingClassifier(),\n",
       " HistGradientBoostingClassifier(),\n",
       " XGBClassifier(base_score=None, booster=None, callbacks=None,\n",
       "               colsample_bylevel=None, colsample_bynode=None,\n",
       "               colsample_bytree=None, device=None, early_stopping_rounds=None,\n",
       "               enable_categorical=False, eval_metric=None, feature_types=None,\n",
       "               gamma=None, grow_policy=None, importance_type=None,\n",
       "               interaction_constraints=None, learning_rate=None, max_bin=None,\n",
       "               max_cat_threshold=None, max_cat_to_onehot=None,\n",
       "               max_delta_step=None, max_depth=None, max_leaves=None,\n",
       "               min_child_weight=None, missing=nan, monotone_constraints=None,\n",
       "               multi_strategy=None, n_estimators=None, n_jobs=None,\n",
       "               num_parallel_tree=None, random_state=None, ...)]"
      ]
     },
     "execution_count": 18,
     "metadata": {},
     "output_type": "execute_result"
    }
   ],
   "source": [
    "rf = RandomForestClassifier()\n",
    "et = ExtraTreesClassifier()\n",
    "gb = GradientBoostingClassifier()\n",
    "hgb = HistGradientBoostingClassifier()\n",
    "xgb = XGBClassifier()\n",
    "\n",
    "models = [rf, et, gb, hgb, xgb]\n",
    "models"
   ]
  },
  {
   "cell_type": "code",
   "execution_count": 19,
   "id": "5103b54e-476a-4c41-bf24-095f2d5660fc",
   "metadata": {
    "id": "5103b54e-476a-4c41-bf24-095f2d5660fc",
    "outputId": "e79fd3e9-4be9-4321-953b-992d4fba50d9"
   },
   "outputs": [
    {
     "name": "stdout",
     "output_type": "stream",
     "text": [
      "---------------[RandomForestClassifier]--------------------\n",
      "---------------[ExtraTreesClassifier]--------------------\n",
      "---------------[GradientBoostingClassifier]--------------------\n",
      "---------------[HistGradientBoostingClassifier]--------------------\n",
      "---------------[XGBClassifier]--------------------\n"
     ]
    }
   ],
   "source": [
    "### 튜닝 함수 호출하기\n",
    "# - 각 모델 리턴 결과 저장할 딕셔너리 변수 정의\n",
    "results = {}\n",
    "\n",
    "# - 각 모델의 실행결과를 데이터프레임에 담을 변수 정의\n",
    "rs_df = pd.DataFrame()\n",
    "\n",
    "for m in models :\n",
    "    ### 모델 이름 추출\n",
    "    modelName = m.__class__.__name__\n",
    "    print(f\"---------------[{modelName}]--------------------\")\n",
    "\n",
    "    ### 하이퍼파라메터 속성이름과 값 범위 지정하기\n",
    "    # - 모델마다 속성이름이 다르기에 조건식으로 정의해야함\n",
    "\n",
    "    ### 하이퍼파라메터를 담을 딕셔너리 변수 정의\n",
    "    gridParams = {}\n",
    "\n",
    "    ### HistGradientBoostingClassifier 모델인 경우\n",
    "    if modelName == \"HistGradientBoostingClassifier\" :\n",
    "        # - 트리 갯수 지정(보통 50~1000 사이값 사용)\n",
    "        gridParams[\"max_iter\"] = [50, 100]\n",
    "\n",
    "        # - 트리가 뻗어나가는 최대깊이 지정(None은 제안두지 않음, 보통 3~10 사이값 사용)\n",
    "        gridParams[\"max_depth\"] = [None, 10]\n",
    "\n",
    "        # - 리프노드(결정노드)의 최소한의 샘플 수(보통 1~10 사잇값 사용)\n",
    "        gridParams[\"min_samples_leaf\"] = [1, 2, 4]\n",
    "\n",
    "    ### XGBClassifier인 경우\n",
    "    elif modelName == \"XGBClassifier\" :\n",
    "        # - 트리 갯수 지정(보통 50~1000 사이값 사용)\n",
    "        gridParams[\"n_estimators\"] = [50, 100]\n",
    "\n",
    "        # - 트리가 뻗어나가는 최대깊이 지정(None은 제안두지 않음, 보통 3~10 사이값 사용)\n",
    "        gridParams[\"max_depth\"] = [None, 10]\n",
    "\n",
    "        # - 리프노드(결정노드)의 최소한의 샘플 수(보통 1~10 사잇값 사용)\n",
    "        gridParams[\"min_child_weight\"] = [1, 2, 4]\n",
    "\n",
    "    ### RandomForestClassifier, ExtraTreesClassifier, GradientBoostingClassifier인 경우\n",
    "    else :\n",
    "        # - 트리 갯수 지정(보통 50~1000 사이값 사용)\n",
    "        gridParams[\"n_estimators\"] = [50, 100]\n",
    "\n",
    "        # - 트리가 뻗어나가는 최대깊이 지정(None은 제안두지 않음, 보통 3~10 사이값 사용)\n",
    "        gridParams[\"max_depth\"] = [None, 10]\n",
    "\n",
    "        # - 노드를 분할하기 위한 최소한의 샘플 수(보통 2~10 사잇값 사용)\n",
    "        gridParams[\"min_samples_split\"] = [2, 5]\n",
    "\n",
    "        # - 리프노드(결정노드)의 최소한의 샘플 수(보통 1~10 사잇값 사용)\n",
    "        gridParams[\"min_samples_leaf\"] = [1, 2, 4]\n",
    "\n",
    "    ### 평가방법\n",
    "    scoring = \"accuracy\"\n",
    "\n",
    "    ### 모델선정방법(기준값) 지정\n",
    "    # refit = \"accuracy\"\n",
    "\n",
    "    ### 함수 호출하기 ---------------------------------------------\n",
    "    best_model, train_acc, train_pre, train_rec, train_f1, val_acc, val_pre, val_rec, val_f1 = get_HyperParameter_Tuning(\n",
    "                                                                                                m, gridParams, scoring,\n",
    "                                                                                                X_train, y_train, X_val, y_val)\n",
    "    # print(best_model, train_acc, train_pre, train_rec, train_f1, val_acc, val_pre, val_rec, val_f1)\n",
    "\n",
    "    ### 딕셔너리에 모델 별로 결과값 담기\n",
    "    results[modelName] = [best_model, train_acc, train_pre, train_rec, train_f1, val_acc, val_pre, val_rec, val_f1]\n",
    "\n",
    "    ### 데이터프레임에 모델 별로 결과값 담기\n",
    "    rs_temp = pd.DataFrame([[modelName, train_acc, train_pre, train_rec, train_f1, val_acc, val_pre, val_rec, val_f1, train_acc-val_acc]],\n",
    "                            columns=[\"modelName\", \"train_acc\", \"train_pre\", \"train_rec\", \"train_f1\",\n",
    "                                        \"val_acc\", \"val_pre\", \"val_rec\", \"val_f1\", \"train_acc-val_acc\"])\n",
    "\n",
    "    ### 원본 데이터프레임에 rs_temp 데이터를 행단위로 추가하기\n",
    "    rs_df = pd.concat([rs_df, rs_temp], ignore_index=True)"
   ]
  },
  {
   "cell_type": "code",
   "execution_count": 20,
   "id": "b1475fb6-c8f9-4c79-a658-05e976d750cf",
   "metadata": {
    "id": "b1475fb6-c8f9-4c79-a658-05e976d750cf",
    "outputId": "b885fef2-09f0-49c6-fb17-e3a635450cc7"
   },
   "outputs": [
    {
     "data": {
      "text/plain": [
       "{'RandomForestClassifier': [RandomForestClassifier(),\n",
       "  0.9971780400205233,\n",
       "  0.9979852249832102,\n",
       "  0.9983204568357407,\n",
       "  0.9981528127623845,\n",
       "  0.8806774441878368,\n",
       "  0.922360248447205,\n",
       "  0.917610710607621,\n",
       "  0.9199793495095508],\n",
       " 'ExtraTreesClassifier': [ExtraTreesClassifier(min_samples_split=5, n_estimators=50),\n",
       "  0.9810159055926116,\n",
       "  0.9820657588840916,\n",
       "  0.9932818273429627,\n",
       "  0.9876419505678022,\n",
       "  0.8868360277136259,\n",
       "  0.912,\n",
       "  0.9392378990731205,\n",
       "  0.9254185692541856],\n",
       " 'GradientBoostingClassifier': [GradientBoostingClassifier(max_depth=10, min_samples_split=5),\n",
       "  0.9974345818368394,\n",
       "  0.9979859013091642,\n",
       "  0.9986563654685925,\n",
       "  0.9983210208193418,\n",
       "  0.8814472671285605,\n",
       "  0.9295478443743428,\n",
       "  0.9104016477857878,\n",
       "  0.9198751300728408],\n",
       " 'HistGradientBoostingClassifier': [HistGradientBoostingClassifier(max_depth=10, min_samples_leaf=2),\n",
       "  0.9507439712673166,\n",
       "  0.9747698602113877,\n",
       "  0.96036278132348,\n",
       "  0.9675126903553299,\n",
       "  0.876058506543495,\n",
       "  0.9245283018867925,\n",
       "  0.9083419155509783,\n",
       "  0.9163636363636364],\n",
       " 'XGBClassifier': [XGBClassifier(base_score=None, booster=None, callbacks=None,\n",
       "                colsample_bylevel=None, colsample_bynode=None,\n",
       "                colsample_bytree=None, device=None, early_stopping_rounds=None,\n",
       "                enable_categorical=False, eval_metric=None, feature_types=None,\n",
       "                gamma=None, grow_policy=None, importance_type=None,\n",
       "                interaction_constraints=None, learning_rate=None, max_bin=None,\n",
       "                max_cat_threshold=None, max_cat_to_onehot=None,\n",
       "                max_delta_step=None, max_depth=10, max_leaves=None,\n",
       "                min_child_weight=1, missing=nan, monotone_constraints=None,\n",
       "                multi_strategy=None, n_estimators=50, n_jobs=None,\n",
       "                num_parallel_tree=None, random_state=None, ...),\n",
       "  0.9748589020010262,\n",
       "  0.9822445561139028,\n",
       "  0.9848841115216661,\n",
       "  0.9835625628983563,\n",
       "  0.8745188606620478,\n",
       "  0.9173553719008265,\n",
       "  0.9145211122554068,\n",
       "  0.9159360495100567]}"
      ]
     },
     "execution_count": 20,
     "metadata": {},
     "output_type": "execute_result"
    }
   ],
   "source": [
    "results"
   ]
  },
  {
   "cell_type": "code",
   "execution_count": 21,
   "id": "a770b57e-5820-47d5-be6c-3d280d56f7ae",
   "metadata": {
    "id": "a770b57e-5820-47d5-be6c-3d280d56f7ae",
    "outputId": "9becf1c5-671a-426b-a43e-dc6d4b6044a6"
   },
   "outputs": [
    {
     "data": {
      "text/html": [
       "<div>\n",
       "<style scoped>\n",
       "    .dataframe tbody tr th:only-of-type {\n",
       "        vertical-align: middle;\n",
       "    }\n",
       "\n",
       "    .dataframe tbody tr th {\n",
       "        vertical-align: top;\n",
       "    }\n",
       "\n",
       "    .dataframe thead th {\n",
       "        text-align: right;\n",
       "    }\n",
       "</style>\n",
       "<table border=\"1\" class=\"dataframe\">\n",
       "  <thead>\n",
       "    <tr style=\"text-align: right;\">\n",
       "      <th></th>\n",
       "      <th>modelName</th>\n",
       "      <th>train_acc</th>\n",
       "      <th>train_pre</th>\n",
       "      <th>train_rec</th>\n",
       "      <th>train_f1</th>\n",
       "      <th>val_acc</th>\n",
       "      <th>val_pre</th>\n",
       "      <th>val_rec</th>\n",
       "      <th>val_f1</th>\n",
       "      <th>train_acc-val_acc</th>\n",
       "    </tr>\n",
       "  </thead>\n",
       "  <tbody>\n",
       "    <tr>\n",
       "      <th>0</th>\n",
       "      <td>RandomForestClassifier</td>\n",
       "      <td>0.997178</td>\n",
       "      <td>0.997985</td>\n",
       "      <td>0.998320</td>\n",
       "      <td>0.998153</td>\n",
       "      <td>0.880677</td>\n",
       "      <td>0.922360</td>\n",
       "      <td>0.917611</td>\n",
       "      <td>0.919979</td>\n",
       "      <td>0.116501</td>\n",
       "    </tr>\n",
       "    <tr>\n",
       "      <th>1</th>\n",
       "      <td>ExtraTreesClassifier</td>\n",
       "      <td>0.981016</td>\n",
       "      <td>0.982066</td>\n",
       "      <td>0.993282</td>\n",
       "      <td>0.987642</td>\n",
       "      <td>0.886836</td>\n",
       "      <td>0.912000</td>\n",
       "      <td>0.939238</td>\n",
       "      <td>0.925419</td>\n",
       "      <td>0.094180</td>\n",
       "    </tr>\n",
       "    <tr>\n",
       "      <th>2</th>\n",
       "      <td>GradientBoostingClassifier</td>\n",
       "      <td>0.997435</td>\n",
       "      <td>0.997986</td>\n",
       "      <td>0.998656</td>\n",
       "      <td>0.998321</td>\n",
       "      <td>0.881447</td>\n",
       "      <td>0.929548</td>\n",
       "      <td>0.910402</td>\n",
       "      <td>0.919875</td>\n",
       "      <td>0.115987</td>\n",
       "    </tr>\n",
       "    <tr>\n",
       "      <th>3</th>\n",
       "      <td>HistGradientBoostingClassifier</td>\n",
       "      <td>0.950744</td>\n",
       "      <td>0.974770</td>\n",
       "      <td>0.960363</td>\n",
       "      <td>0.967513</td>\n",
       "      <td>0.876059</td>\n",
       "      <td>0.924528</td>\n",
       "      <td>0.908342</td>\n",
       "      <td>0.916364</td>\n",
       "      <td>0.074685</td>\n",
       "    </tr>\n",
       "    <tr>\n",
       "      <th>4</th>\n",
       "      <td>XGBClassifier</td>\n",
       "      <td>0.974859</td>\n",
       "      <td>0.982245</td>\n",
       "      <td>0.984884</td>\n",
       "      <td>0.983563</td>\n",
       "      <td>0.874519</td>\n",
       "      <td>0.917355</td>\n",
       "      <td>0.914521</td>\n",
       "      <td>0.915936</td>\n",
       "      <td>0.100340</td>\n",
       "    </tr>\n",
       "  </tbody>\n",
       "</table>\n",
       "</div>"
      ],
      "text/plain": [
       "                        modelName  train_acc  train_pre  train_rec  train_f1  \\\n",
       "0          RandomForestClassifier   0.997178   0.997985   0.998320  0.998153   \n",
       "1            ExtraTreesClassifier   0.981016   0.982066   0.993282  0.987642   \n",
       "2      GradientBoostingClassifier   0.997435   0.997986   0.998656  0.998321   \n",
       "3  HistGradientBoostingClassifier   0.950744   0.974770   0.960363  0.967513   \n",
       "4                   XGBClassifier   0.974859   0.982245   0.984884  0.983563   \n",
       "\n",
       "    val_acc   val_pre   val_rec    val_f1  train_acc-val_acc  \n",
       "0  0.880677  0.922360  0.917611  0.919979           0.116501  \n",
       "1  0.886836  0.912000  0.939238  0.925419           0.094180  \n",
       "2  0.881447  0.929548  0.910402  0.919875           0.115987  \n",
       "3  0.876059  0.924528  0.908342  0.916364           0.074685  \n",
       "4  0.874519  0.917355  0.914521  0.915936           0.100340  "
      ]
     },
     "execution_count": 21,
     "metadata": {},
     "output_type": "execute_result"
    }
   ],
   "source": [
    "rs_df"
   ]
  },
  {
   "cell_type": "code",
   "execution_count": 22,
   "id": "7b99525e-fc46-444c-bc3c-7270c859b39b",
   "metadata": {
    "id": "7b99525e-fc46-444c-bc3c-7270c859b39b"
   },
   "outputs": [
    {
     "data": {
      "text/plain": [
       "'\\n(해석)\\n - 기존 하이퍼파라메터 튜닝 전에는 가장 일반화가 잘된 모델은 GB모델이었으나,\\n   튜닝 이후에는 HGB 모델이 가장 일반화 된것으로 분석되었음\\n - 재현율의 경우에는 ET모델이 가장 높으나, HGB모델과 많은 차이을 보이고 있지 않기에\\n   가장 일반화가 잘 된 HGB모델로 선정하였음\\n'"
      ]
     },
     "execution_count": 22,
     "metadata": {},
     "output_type": "execute_result"
    }
   ],
   "source": [
    "\"\"\"\n",
    "(해석)\n",
    " - 기존 하이퍼파라메터 튜닝 전에는 가장 일반화가 잘된 모델은 GB모델이었으나,\n",
    "   튜닝 이후에는 HGB 모델이 가장 일반화 된것으로 분석되었음\n",
    " - 재현율의 경우에는 ET모델이 가장 높으나, HGB모델과 많은 차이을 보이고 있지 않기에\n",
    "   가장 일반화가 잘 된 HGB모델로 선정하였음\n",
    "\"\"\""
   ]
  },
  {
   "cell_type": "code",
   "execution_count": 23,
   "id": "c7acfabe-f169-4380-8a7d-8762dc84bb90",
   "metadata": {
    "id": "c7acfabe-f169-4380-8a7d-8762dc84bb90"
   },
   "outputs": [],
   "source": [
    "### 최종 선정모델로 테스트하기..............................."
   ]
  },
  {
   "cell_type": "code",
   "execution_count": 24,
   "id": "4819536f-9d94-4681-927d-cffc8ce76a40",
   "metadata": {
    "id": "4819536f-9d94-4681-927d-cffc8ce76a40",
    "outputId": "34f6ffa9-c39b-4b24-9c26-b3db196d9437"
   },
   "outputs": [
    {
     "name": "stdout",
     "output_type": "stream",
     "text": [
      "train_acc=0.950744, test_acc=0.8592, train-test=0.0915, test_pre=0.9102, test_rec=0.8958, test_f1=0.9029\n"
     ]
    },
    {
     "data": {
      "image/png": "[encoded data removed]",
      "text/plain": [
       "<Figure size 640x480 with 2 Axes>"
      ]
     },
     "metadata": {},
     "output_type": "display_data"
    }
   ],
   "source": [
    "### 테스트 데이터로 예측 및 평가결과 확인하기\n",
    "# 최종 선정모델 추출하기\n",
    "f_model = results[\"HistGradientBoostingClassifier\"][0]\n",
    "\n",
    "test_pred = f_model.predict(X_test)\n",
    "### 정확도(accuracy_score)\n",
    "test_acc = accuracy_score(y_test, test_pred)\n",
    "### 정밀도(precision_score)\n",
    "test_pre = precision_score(y_test, test_pred)\n",
    "### 재현율(recall_score)\n",
    "test_rec = recall_score(y_test, test_pred)\n",
    "### F1-score\n",
    "test_f1 = f1_score(y_test, test_pred)\n",
    "\n",
    "### 오차행렬도\n",
    "conf_matrix_display(y_test, test_pred, f_model)\n",
    "\n",
    "print(f\"train_acc={0.950744}, test_acc={test_acc:.4f}, train-test={0.950744-test_acc:.4f}, \\\n",
    "test_pre={test_pre:.4f}, test_rec={test_rec:.4f}, test_f1={test_f1:.4f}\")"
   ]
  },
  {
   "cell_type": "code",
   "execution_count": 25,
   "id": "7769438c-404a-4941-9d2a-ebc317cdb15e",
   "metadata": {
    "id": "7769438c-404a-4941-9d2a-ebc317cdb15e"
   },
   "outputs": [
    {
     "data": {
      "text/plain": [
       "'\\n(해석)\\n - 최종 선정한 HGB모델을 이용하여 테스트 데이터로 평가한 결과\\n - 테스트 정확도 0.859, 테스트 재현율 0.896으로 일반화된 모델로\\n - 와인을 분류하는 모델로 사용이 가능함\\n'"
      ]
     },
     "execution_count": 25,
     "metadata": {},
     "output_type": "execute_result"
    }
   ],
   "source": [
    "\"\"\"\n",
    "(해석)\n",
    " - 최종 선정한 HGB모델을 이용하여 테스트 데이터로 평가한 결과\n",
    " - 테스트 정확도 0.859, 테스트 재현율 0.896으로 일반화된 모델로\n",
    " - 와인을 분류하는 모델로 사용이 가능함\n",
    "\"\"\""
   ]
  },
  {
   "cell_type": "code",
   "execution_count": null,
   "id": "4ff49999-72f0-4b27-aa78-f46d553fc624",
   "metadata": {
    "id": "4ff49999-72f0-4b27-aa78-f46d553fc624"
   },
   "outputs": [],
   "source": []
  },
  {
   "cell_type": "code",
   "execution_count": null,
   "id": "06b9f48f-33d5-4aac-a522-5e20b84f3937",
   "metadata": {
    "id": "06b9f48f-33d5-4aac-a522-5e20b84f3937"
   },
   "outputs": [],
   "source": []
  },
  {
   "cell_type": "code",
   "execution_count": null,
   "id": "3dfac7bc-cce6-4b86-95b0-4a88322edb53",
   "metadata": {
    "id": "3dfac7bc-cce6-4b86-95b0-4a88322edb53"
   },
   "outputs": [],
   "source": []
  },
  {
   "cell_type": "code",
   "execution_count": null,
   "id": "66ccaf00-d5ee-491c-886f-73d526f791e8",
   "metadata": {
    "id": "66ccaf00-d5ee-491c-886f-73d526f791e8"
   },
   "outputs": [],
   "source": []
  },
  {
   "cell_type": "code",
   "execution_count": null,
   "id": "cc0ac73f-3782-4017-89e6-0e75baa23957",
   "metadata": {
    "id": "cc0ac73f-3782-4017-89e6-0e75baa23957"
   },
   "outputs": [],
   "source": []
  },
  {
   "cell_type": "code",
   "execution_count": null,
   "id": "e59338e5-bb89-48d7-a8cd-a658fba400fd",
   "metadata": {
    "id": "e59338e5-bb89-48d7-a8cd-a658fba400fd"
   },
   "outputs": [],
   "source": []
  },
  {
   "cell_type": "code",
   "execution_count": null,
   "id": "eafb5910-6558-4010-b81e-a7d5ff7372fe",
   "metadata": {
    "id": "eafb5910-6558-4010-b81e-a7d5ff7372fe"
   },
   "outputs": [],
   "source": []
  }
 ],
 "metadata": {
  "colab": {
   "provenance": []
  },
  "kernelspec": {
   "display_name": "pk_base_kernel",
   "language": "python",
   "name": "pk_base"
  },
  "language_info": {
   "codemirror_mode": {
    "name": "ipython",
    "version": 3
   },
   "file_extension": ".py",
   "mimetype": "text/x-python",
   "name": "python",
   "nbconvert_exporter": "python",
   "pygments_lexer": "ipython3",
   "version": "3.9.18"
  }
 },
 "nbformat": 4,
 "nbformat_minor": 5
}
