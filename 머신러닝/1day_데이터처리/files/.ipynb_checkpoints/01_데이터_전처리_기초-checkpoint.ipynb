{
 "cells": [
  {
   "cell_type": "code",
   "execution_count": null,
   "id": "dbe7080e-dc14-402d-8ab3-63dafbfd73a7",
   "metadata": {},
   "outputs": [],
   "source": [
    "\"\"\"\n",
    "<판다스(pandas)>\n",
    "- 행렬 데이터를 처리하기 위한 다양한 함수가 들어있는 라이브러리\n",
    "- 데이터 처리를 위해 가장 많이 사용되는 라이브러리\n",
    "\n",
    "<넘파이(numpy)>\n",
    "- 수치 데이터를 처리하기 위한 라이브러리\n",
    "- 판다스에서도 문자 수치 모두 처리는 가능하지만, 수치데이터에 대해서는 numpy가 처리 속도가 다고 빠른 장점이 있음\n",
    "\n",
    "<데이터 분석 과정>\n",
    "- 데이터 수집 > 데이터 전처리 > 데이터 정제> 데이터 시각화 > 인사이트 도출\n",
    "- 데이터 수집 > 데이터 전처리 > 데이터 정제> 데이터 분석(머신러닝/딥러닝) > 데이터 시각화\n",
    "- 데이터 수집 > 데이터 전처리 > 데이터 정제> 데이터 분석 > 서비스(어플리케이션 or 웹 서비스)\n",
    "\n",
    "* 데이터 수집 : 파일 다운로드, Open-Api 수집, 웹데이터 수집\n",
    "* 데이터 전처리 + 정제 : 데이터의 이상 유무(결측치, 중복치, 이상치) 확인, 정규화(표준화), 분리(훈령/검증/테스트)\n",
    "\"\"\""
   ]
  },
  {
   "cell_type": "code",
   "execution_count": 1,
   "id": "a9492afe-3cea-4fac-9c7a-fdccc553cae8",
   "metadata": {},
   "outputs": [],
   "source": [
    "import pandas as pd"
   ]
  },
  {
   "cell_type": "code",
   "execution_count": 14,
   "id": "e26f1303-cc17-4e39-8d66-3bec390f0fb5",
   "metadata": {},
   "outputs": [
    {
     "name": "stdout",
     "output_type": "stream",
     "text": [
      "  국적코드  성별    입국객수\n",
      "0  A01  남성  106320\n",
      "1  A01  여성  191436\n",
      "2  A31  남성     319\n",
      "3  A31  여성      42\n",
      "4  A18  남성  158912\n",
      "5  A18  여성  232943\n"
     ]
    }
   ],
   "source": [
    "file_path = \"C:\\\\Users\\\\Administrator\\\\bk_20230314\\\\1day_data\\\\files\\\\sample_1.xlsx\"\n",
    "\n",
    "sample_1 = pd.read_excel(file_path, \n",
    "                         header=1, \n",
    "                         skipfooter=2, \n",
    "                         usecols=\"A:C\")\n",
    "\n",
    "print(sample_1)    "
   ]
  },
  {
   "cell_type": "code",
   "execution_count": null,
   "id": "6948b98d-4dbe-4816-ae72-630444d9585d",
   "metadata": {},
   "outputs": [],
   "source": []
  },
  {
   "cell_type": "code",
   "execution_count": null,
   "id": "26da0aa3-9d06-4cf2-8486-5347d3f9afb6",
   "metadata": {},
   "outputs": [],
   "source": []
  },
  {
   "cell_type": "code",
   "execution_count": null,
   "id": "d3583dec-c5e8-492b-88bd-4b35c6abc768",
   "metadata": {},
   "outputs": [],
   "source": []
  },
  {
   "cell_type": "code",
   "execution_count": null,
   "id": "b9830d13-ae93-4b3e-8b6b-337b3d27a74d",
   "metadata": {},
   "outputs": [],
   "source": [
    "type(sample_1)"
   ]
  },
  {
   "cell_type": "code",
   "execution_count": 15,
   "id": "e548ba06-3437-4067-892b-35f70d48efcc",
   "metadata": {},
   "outputs": [
    {
     "name": "stdout",
     "output_type": "stream",
     "text": [
      "<class 'pandas.core.frame.DataFrame'>\n",
      "RangeIndex: 6 entries, 0 to 5\n",
      "Data columns (total 3 columns):\n",
      " #   Column  Non-Null Count  Dtype \n",
      "---  ------  --------------  ----- \n",
      " 0   국적코드    6 non-null      object\n",
      " 1   성별      6 non-null      object\n",
      " 2   입국객수    6 non-null      int64 \n",
      "dtypes: int64(1), object(2)\n",
      "memory usage: 272.0+ bytes\n"
     ]
    }
   ],
   "source": [
    "### 데이터프레임에 저장된 데이터의 정보 확인하기\n",
    "#info() 함수를 이용해서 데이터의 결측치(NoN값) 확인이 가능함\n",
    "sample_1.info()"
   ]
  },
  {
   "cell_type": "code",
   "execution_count": 16,
   "id": "18cee586-142f-4073-bb09-79c08d99766a",
   "metadata": {},
   "outputs": [
    {
     "data": {
      "text/html": [
       "<div>\n",
       "<style scoped>\n",
       "    .dataframe tbody tr th:only-of-type {\n",
       "        vertical-align: middle;\n",
       "    }\n",
       "\n",
       "    .dataframe tbody tr th {\n",
       "        vertical-align: top;\n",
       "    }\n",
       "\n",
       "    .dataframe thead th {\n",
       "        text-align: right;\n",
       "    }\n",
       "</style>\n",
       "<table border=\"1\" class=\"dataframe\">\n",
       "  <thead>\n",
       "    <tr style=\"text-align: right;\">\n",
       "      <th></th>\n",
       "      <th>국적코드</th>\n",
       "      <th>성별</th>\n",
       "      <th>입국객수</th>\n",
       "    </tr>\n",
       "  </thead>\n",
       "  <tbody>\n",
       "    <tr>\n",
       "      <th>0</th>\n",
       "      <td>A01</td>\n",
       "      <td>남성</td>\n",
       "      <td>106320</td>\n",
       "    </tr>\n",
       "    <tr>\n",
       "      <th>1</th>\n",
       "      <td>A01</td>\n",
       "      <td>여성</td>\n",
       "      <td>191436</td>\n",
       "    </tr>\n",
       "    <tr>\n",
       "      <th>2</th>\n",
       "      <td>A31</td>\n",
       "      <td>남성</td>\n",
       "      <td>319</td>\n",
       "    </tr>\n",
       "    <tr>\n",
       "      <th>3</th>\n",
       "      <td>A31</td>\n",
       "      <td>여성</td>\n",
       "      <td>42</td>\n",
       "    </tr>\n",
       "    <tr>\n",
       "      <th>4</th>\n",
       "      <td>A18</td>\n",
       "      <td>남성</td>\n",
       "      <td>158912</td>\n",
       "    </tr>\n",
       "  </tbody>\n",
       "</table>\n",
       "</div>"
      ],
      "text/plain": [
       "  국적코드  성별    입국객수\n",
       "0  A01  남성  106320\n",
       "1  A01  여성  191436\n",
       "2  A31  남성     319\n",
       "3  A31  여성      42\n",
       "4  A18  남성  158912"
      ]
     },
     "execution_count": 16,
     "metadata": {},
     "output_type": "execute_result"
    }
   ],
   "source": [
    "### 상위 데이터 조회시 사용\n",
    "# 데이터 인사이트 도출 시에 순의 데이터 가져올 떄 사용하면 편리\n",
    "# 예시) 올해의 인기음원 Top10 \n",
    "sample_1.head()"
   ]
  },
  {
   "cell_type": "code",
   "execution_count": 17,
   "id": "f4997e5c-7e99-4ff9-9344-b9b14ba69882",
   "metadata": {},
   "outputs": [
    {
     "data": {
      "text/html": [
       "<div>\n",
       "<style scoped>\n",
       "    .dataframe tbody tr th:only-of-type {\n",
       "        vertical-align: middle;\n",
       "    }\n",
       "\n",
       "    .dataframe tbody tr th {\n",
       "        vertical-align: top;\n",
       "    }\n",
       "\n",
       "    .dataframe thead th {\n",
       "        text-align: right;\n",
       "    }\n",
       "</style>\n",
       "<table border=\"1\" class=\"dataframe\">\n",
       "  <thead>\n",
       "    <tr style=\"text-align: right;\">\n",
       "      <th></th>\n",
       "      <th>국적코드</th>\n",
       "      <th>성별</th>\n",
       "      <th>입국객수</th>\n",
       "    </tr>\n",
       "  </thead>\n",
       "  <tbody>\n",
       "    <tr>\n",
       "      <th>4</th>\n",
       "      <td>A18</td>\n",
       "      <td>남성</td>\n",
       "      <td>158912</td>\n",
       "    </tr>\n",
       "    <tr>\n",
       "      <th>5</th>\n",
       "      <td>A18</td>\n",
       "      <td>여성</td>\n",
       "      <td>232943</td>\n",
       "    </tr>\n",
       "  </tbody>\n",
       "</table>\n",
       "</div>"
      ],
      "text/plain": [
       "  국적코드  성별    입국객수\n",
       "4  A18  남성  158912\n",
       "5  A18  여성  232943"
      ]
     },
     "execution_count": 17,
     "metadata": {},
     "output_type": "execute_result"
    }
   ],
   "source": [
    "sample_1.tail(2)"
   ]
  },
  {
   "cell_type": "code",
   "execution_count": 18,
   "id": "26494fbe-2c96-4d17-920f-c6b1e67d7918",
   "metadata": {},
   "outputs": [
    {
     "data": {
      "text/html": [
       "<div>\n",
       "<style scoped>\n",
       "    .dataframe tbody tr th:only-of-type {\n",
       "        vertical-align: middle;\n",
       "    }\n",
       "\n",
       "    .dataframe tbody tr th {\n",
       "        vertical-align: top;\n",
       "    }\n",
       "\n",
       "    .dataframe thead th {\n",
       "        text-align: right;\n",
       "    }\n",
       "</style>\n",
       "<table border=\"1\" class=\"dataframe\">\n",
       "  <thead>\n",
       "    <tr style=\"text-align: right;\">\n",
       "      <th></th>\n",
       "      <th>입국객수</th>\n",
       "    </tr>\n",
       "  </thead>\n",
       "  <tbody>\n",
       "    <tr>\n",
       "      <th>count</th>\n",
       "      <td>6.000000</td>\n",
       "    </tr>\n",
       "    <tr>\n",
       "      <th>mean</th>\n",
       "      <td>114995.333333</td>\n",
       "    </tr>\n",
       "    <tr>\n",
       "      <th>std</th>\n",
       "      <td>98105.752006</td>\n",
       "    </tr>\n",
       "    <tr>\n",
       "      <th>min</th>\n",
       "      <td>42.000000</td>\n",
       "    </tr>\n",
       "    <tr>\n",
       "      <th>25%</th>\n",
       "      <td>26819.250000</td>\n",
       "    </tr>\n",
       "    <tr>\n",
       "      <th>50%</th>\n",
       "      <td>132616.000000</td>\n",
       "    </tr>\n",
       "    <tr>\n",
       "      <th>75%</th>\n",
       "      <td>183305.000000</td>\n",
       "    </tr>\n",
       "    <tr>\n",
       "      <th>max</th>\n",
       "      <td>232943.000000</td>\n",
       "    </tr>\n",
       "  </tbody>\n",
       "</table>\n",
       "</div>"
      ],
      "text/plain": [
       "                입국객수\n",
       "count       6.000000\n",
       "mean   114995.333333\n",
       "std     98105.752006\n",
       "min        42.000000\n",
       "25%     26819.250000\n",
       "50%    132616.000000\n",
       "75%    183305.000000\n",
       "max    232943.000000"
      ]
     },
     "execution_count": 18,
     "metadata": {},
     "output_type": "execute_result"
    }
   ],
   "source": [
    "### 기초통계 데이터 조회하기\n",
    "# 이상치 데이터 확인 가능\n",
    "sample_1.describe()"
   ]
  },
  {
   "cell_type": "code",
   "execution_count": null,
   "id": "90cacd21-ec0f-4c75-af7f-c3fc5fc8e8d7",
   "metadata": {},
   "outputs": [],
   "source": []
  }
 ],
 "metadata": {
  "kernelspec": {
   "display_name": "pk_base_kernel",
   "language": "python",
   "name": "pk_base"
  },
  "language_info": {
   "codemirror_mode": {
    "name": "ipython",
    "version": 3
   },
   "file_extension": ".py",
   "mimetype": "text/x-python",
   "name": "python",
   "nbconvert_exporter": "python",
   "pygments_lexer": "ipython3",
   "version": "3.9.18"
  }
 },
 "nbformat": 4,
 "nbformat_minor": 5
}
