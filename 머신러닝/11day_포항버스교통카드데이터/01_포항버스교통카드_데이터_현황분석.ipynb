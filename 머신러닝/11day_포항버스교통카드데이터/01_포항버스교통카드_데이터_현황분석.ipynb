{
 "cells": [
  {
   "cell_type": "code",
   "execution_count": 20,
   "id": "9c472282-949c-4590-87a4-920d92da7eed",
   "metadata": {},
   "outputs": [
    {
     "data": {
      "text/plain": [
       "'\\n<데이터 수집 URL>\\n - 데이터수집 기관 : 국가교통 데이터 오픈마켓\\n - URL : https://www.bigdata-transportation.kr\\n - 검색어 : 포항시 BIS 교통카드 사용내역\\n - 회원가입 필요함\\n'"
      ]
     },
     "execution_count": 20,
     "metadata": {},
     "output_type": "execute_result"
    }
   ],
   "source": [
    "\"\"\"\n",
    "<데이터 수집 URL>\n",
    " - 데이터수집 기관 : 국가교통 데이터 오픈마켓\n",
    " - URL : https://www.bigdata-transportation.kr\n",
    " - 검색어 : 포항시 BIS 교통카드 사용내역\n",
    " - 회원가입 필요함\n",
    "\"\"\""
   ]
  },
  {
   "cell_type": "code",
   "execution_count": 21,
   "id": "bbc69ab1-9575-47ea-b981-526ff47f7ba4",
   "metadata": {},
   "outputs": [
    {
     "data": {
      "text/plain": [
       "'\\n<데이터셋 1개만 샘플링 분석하기>\\n - 다운로드한 데이터가 많은 경우에는 한개의 파일을 샘플링 후 -> 향후 반복문을 이용해서 통합하시면 됩니다.\\n - trfcart (0) 폴더 내의 데이터를 읽어들여서 샘플이 분석 진행\\n'"
      ]
     },
     "execution_count": 21,
     "metadata": {},
     "output_type": "execute_result"
    }
   ],
   "source": [
    "\"\"\"\n",
    "<데이터셋 1개만 샘플링 분석하기>\n",
    " - 다운로드한 데이터가 많은 경우에는 한개의 파일을 샘플링 후 -> 향후 반복문을 이용해서 통합하시면 됩니다.\n",
    " - trfcart (0) 폴더 내의 데이터를 읽어들여서 샘플이 분석 진행\n",
    "\"\"\""
   ]
  },
  {
   "cell_type": "code",
   "execution_count": 22,
   "id": "950bfb06-3d27-47b0-833a-0e81021d5db3",
   "metadata": {},
   "outputs": [],
   "source": [
    "import pandas as pd"
   ]
  },
  {
   "cell_type": "code",
   "execution_count": 23,
   "id": "65a48ee2-0ff9-4848-abac-b2841f73e74f",
   "metadata": {},
   "outputs": [
    {
     "data": {
      "text/html": [
       "<div>\n",
       "<style scoped>\n",
       "    .dataframe tbody tr th:only-of-type {\n",
       "        vertical-align: middle;\n",
       "    }\n",
       "\n",
       "    .dataframe tbody tr th {\n",
       "        vertical-align: top;\n",
       "    }\n",
       "\n",
       "    .dataframe thead th {\n",
       "        text-align: right;\n",
       "    }\n",
       "</style>\n",
       "<table border=\"1\" class=\"dataframe\">\n",
       "  <thead>\n",
       "    <tr style=\"text-align: right;\">\n",
       "      <th></th>\n",
       "      <th>on_date</th>\n",
       "      <th>off_date</th>\n",
       "      <th>route_name</th>\n",
       "      <th>descr</th>\n",
       "      <th>age_type</th>\n",
       "      <th>trans_yn</th>\n",
       "      <th>addfee_yn</th>\n",
       "      <th>start_bstop</th>\n",
       "      <th>start_gps_x</th>\n",
       "      <th>start_gps_y</th>\n",
       "      <th>end_bstop</th>\n",
       "      <th>end_gps_x</th>\n",
       "      <th>end_gps_y</th>\n",
       "    </tr>\n",
       "  </thead>\n",
       "  <tbody>\n",
       "    <tr>\n",
       "      <th>0</th>\n",
       "      <td>20200102051049</td>\n",
       "      <td>20200102051844</td>\n",
       "      <td>131</td>\n",
       "      <td>양덕-송도-시청-양학-양덕</td>\n",
       "      <td>일반</td>\n",
       "      <td>N</td>\n",
       "      <td>N</td>\n",
       "      <td>양덕차고지</td>\n",
       "      <td>129.401693</td>\n",
       "      <td>36.077258</td>\n",
       "      <td>동부초등학교</td>\n",
       "      <td>129.380866</td>\n",
       "      <td>36.062209</td>\n",
       "    </tr>\n",
       "  </tbody>\n",
       "</table>\n",
       "</div>"
      ],
      "text/plain": [
       "          on_date        off_date route_name           descr age_type  \\\n",
       "0  20200102051049  20200102051844        131  양덕-송도-시청-양학-양덕       일반   \n",
       "\n",
       "  trans_yn addfee_yn start_bstop  start_gps_x  start_gps_y end_bstop  \\\n",
       "0        N         N       양덕차고지   129.401693    36.077258    동부초등학교   \n",
       "\n",
       "    end_gps_x  end_gps_y  \n",
       "0  129.380866  36.062209  "
      ]
     },
     "execution_count": 23,
     "metadata": {},
     "output_type": "execute_result"
    }
   ],
   "source": [
    "### trfcart (0) 폴더 내에 csv파일 읽어들이기\n",
    "# - 변수명 : df_bus_cart_org\n",
    "\n",
    "file_path = \"./01_data_org/trfcard (0)/trfcard.csv\"\n",
    "df_bus_cart_org = pd.read_csv(file_path)\n",
    "df_bus_cart_org.head(1)"
   ]
  },
  {
   "cell_type": "code",
   "execution_count": 24,
   "id": "99c736f5-c85d-492b-8e9c-8f504c89d3e9",
   "metadata": {},
   "outputs": [
    {
     "name": "stdout",
     "output_type": "stream",
     "text": [
      "<class 'pandas.core.frame.DataFrame'>\n",
      "RangeIndex: 16185 entries, 0 to 16184\n",
      "Data columns (total 13 columns):\n",
      " #   Column       Non-Null Count  Dtype  \n",
      "---  ------       --------------  -----  \n",
      " 0   on_date      16185 non-null  int64  \n",
      " 1   off_date     16185 non-null  int64  \n",
      " 2   route_name   16185 non-null  object \n",
      " 3   descr        16185 non-null  object \n",
      " 4   age_type     16164 non-null  object \n",
      " 5   trans_yn     16185 non-null  object \n",
      " 6   addfee_yn    16185 non-null  object \n",
      " 7   start_bstop  16185 non-null  object \n",
      " 8   start_gps_x  16185 non-null  float64\n",
      " 9   start_gps_y  16185 non-null  float64\n",
      " 10  end_bstop    16185 non-null  object \n",
      " 11  end_gps_x    16185 non-null  float64\n",
      " 12  end_gps_y    16185 non-null  float64\n",
      "dtypes: float64(4), int64(2), object(7)\n",
      "memory usage: 1.6+ MB\n"
     ]
    },
    {
     "data": {
      "text/html": [
       "<div>\n",
       "<style scoped>\n",
       "    .dataframe tbody tr th:only-of-type {\n",
       "        vertical-align: middle;\n",
       "    }\n",
       "\n",
       "    .dataframe tbody tr th {\n",
       "        vertical-align: top;\n",
       "    }\n",
       "\n",
       "    .dataframe thead th {\n",
       "        text-align: right;\n",
       "    }\n",
       "</style>\n",
       "<table border=\"1\" class=\"dataframe\">\n",
       "  <thead>\n",
       "    <tr style=\"text-align: right;\">\n",
       "      <th></th>\n",
       "      <th>on_date</th>\n",
       "      <th>off_date</th>\n",
       "      <th>start_gps_x</th>\n",
       "      <th>start_gps_y</th>\n",
       "      <th>end_gps_x</th>\n",
       "      <th>end_gps_y</th>\n",
       "    </tr>\n",
       "  </thead>\n",
       "  <tbody>\n",
       "    <tr>\n",
       "      <th>count</th>\n",
       "      <td>1.618500e+04</td>\n",
       "      <td>1.618500e+04</td>\n",
       "      <td>16185.000000</td>\n",
       "      <td>16185.000000</td>\n",
       "      <td>16185.000000</td>\n",
       "      <td>16185.000000</td>\n",
       "    </tr>\n",
       "    <tr>\n",
       "      <th>mean</th>\n",
       "      <td>2.020010e+13</td>\n",
       "      <td>2.020010e+13</td>\n",
       "      <td>129.369118</td>\n",
       "      <td>36.034985</td>\n",
       "      <td>129.368939</td>\n",
       "      <td>36.031927</td>\n",
       "    </tr>\n",
       "    <tr>\n",
       "      <th>std</th>\n",
       "      <td>4.127644e+04</td>\n",
       "      <td>4.175148e+04</td>\n",
       "      <td>0.048054</td>\n",
       "      <td>0.043280</td>\n",
       "      <td>0.040777</td>\n",
       "      <td>0.033987</td>\n",
       "    </tr>\n",
       "    <tr>\n",
       "      <th>min</th>\n",
       "      <td>2.020010e+13</td>\n",
       "      <td>2.020010e+13</td>\n",
       "      <td>129.052958</td>\n",
       "      <td>35.804119</td>\n",
       "      <td>129.052958</td>\n",
       "      <td>35.804119</td>\n",
       "    </tr>\n",
       "    <tr>\n",
       "      <th>25%</th>\n",
       "      <td>2.020010e+13</td>\n",
       "      <td>2.020010e+13</td>\n",
       "      <td>129.350290</td>\n",
       "      <td>36.012537</td>\n",
       "      <td>129.353856</td>\n",
       "      <td>36.013250</td>\n",
       "    </tr>\n",
       "    <tr>\n",
       "      <th>50%</th>\n",
       "      <td>2.020010e+13</td>\n",
       "      <td>2.020010e+13</td>\n",
       "      <td>129.365461</td>\n",
       "      <td>36.031720</td>\n",
       "      <td>129.365281</td>\n",
       "      <td>36.034110</td>\n",
       "    </tr>\n",
       "    <tr>\n",
       "      <th>75%</th>\n",
       "      <td>2.020010e+13</td>\n",
       "      <td>2.020010e+13</td>\n",
       "      <td>129.383462</td>\n",
       "      <td>36.064088</td>\n",
       "      <td>129.370823</td>\n",
       "      <td>36.046050</td>\n",
       "    </tr>\n",
       "    <tr>\n",
       "      <th>max</th>\n",
       "      <td>2.020010e+13</td>\n",
       "      <td>2.020010e+13</td>\n",
       "      <td>129.578137</td>\n",
       "      <td>36.254158</td>\n",
       "      <td>129.578137</td>\n",
       "      <td>36.244762</td>\n",
       "    </tr>\n",
       "  </tbody>\n",
       "</table>\n",
       "</div>"
      ],
      "text/plain": [
       "            on_date      off_date   start_gps_x   start_gps_y     end_gps_x  \\\n",
       "count  1.618500e+04  1.618500e+04  16185.000000  16185.000000  16185.000000   \n",
       "mean   2.020010e+13  2.020010e+13    129.369118     36.034985    129.368939   \n",
       "std    4.127644e+04  4.175148e+04      0.048054      0.043280      0.040777   \n",
       "min    2.020010e+13  2.020010e+13    129.052958     35.804119    129.052958   \n",
       "25%    2.020010e+13  2.020010e+13    129.350290     36.012537    129.353856   \n",
       "50%    2.020010e+13  2.020010e+13    129.365461     36.031720    129.365281   \n",
       "75%    2.020010e+13  2.020010e+13    129.383462     36.064088    129.370823   \n",
       "max    2.020010e+13  2.020010e+13    129.578137     36.254158    129.578137   \n",
       "\n",
       "          end_gps_y  \n",
       "count  16185.000000  \n",
       "mean      36.031927  \n",
       "std        0.033987  \n",
       "min       35.804119  \n",
       "25%       36.013250  \n",
       "50%       36.034110  \n",
       "75%       36.046050  \n",
       "max       36.244762  "
      ]
     },
     "execution_count": 24,
     "metadata": {},
     "output_type": "execute_result"
    }
   ],
   "source": [
    "### 데이터 기본정보 및 기초통계 확인하기\n",
    "# - 결측치 및 이상데이터 확인 가능\n",
    "df_bus_cart_org.info()\n",
    "df_bus_cart_org.describe()\n",
    "\n",
    "### \"age_type\" 특성에 결측치가 존재하는 것으로이며,\n",
    "# - 이외 이상치는 확인은 어려움\n",
    "# - 실제 분석 시에는 결측치, 이상치, 중복데이터에 대한 프로그램적 확인은 실시하셔야 합니다."
   ]
  },
  {
   "cell_type": "code",
   "execution_count": 25,
   "id": "ce2e0ff6-41fa-454d-ba31-23c90a7b703f",
   "metadata": {},
   "outputs": [
    {
     "data": {
      "text/plain": [
       "'\\n<특성 이름을 한글명으로 변환하기 -> 변경 순서>\\n 1. 제공된 메타정의서 파일 읽어들이기\\n 2. 영문과 한글명이 있는 특성 부분만 읽어들이면 됩니다.\\n 3. 딕셔너리로 변환하기 : 메타정의서의 영문명을 key로, 한글명을 value로 생성\\n 4. 데이터프레임의 rename()함수를 이용하여 컬럼명 변환하기\\n'"
      ]
     },
     "execution_count": 25,
     "metadata": {},
     "output_type": "execute_result"
    }
   ],
   "source": [
    "\"\"\"\n",
    "<특성 이름을 한글명으로 변환하기 -> 변경 순서>\n",
    " 1. 제공된 메타정의서 파일 읽어들이기\n",
    " 2. 영문과 한글명이 있는 특성 부분만 읽어들이면 됩니다.\n",
    " 3. 딕셔너리로 변환하기 : 메타정의서의 영문명을 key로, 한글명을 value로 생성\n",
    " 4. 데이터프레임의 rename()함수를 이용하여 컬럼명 변환하기\n",
    "\"\"\""
   ]
  },
  {
   "cell_type": "code",
   "execution_count": 26,
   "id": "4d1e00eb-e40e-47ba-8e22-d6a99a0863af",
   "metadata": {},
   "outputs": [
    {
     "data": {
      "text/html": [
       "<div>\n",
       "<style scoped>\n",
       "    .dataframe tbody tr th:only-of-type {\n",
       "        vertical-align: middle;\n",
       "    }\n",
       "\n",
       "    .dataframe tbody tr th {\n",
       "        vertical-align: top;\n",
       "    }\n",
       "\n",
       "    .dataframe thead th {\n",
       "        text-align: right;\n",
       "    }\n",
       "</style>\n",
       "<table border=\"1\" class=\"dataframe\">\n",
       "  <thead>\n",
       "    <tr style=\"text-align: right;\">\n",
       "      <th></th>\n",
       "      <th>컬럼명 (영문)</th>\n",
       "      <th>컬럼명 (한글)</th>\n",
       "    </tr>\n",
       "  </thead>\n",
       "  <tbody>\n",
       "    <tr>\n",
       "      <th>0</th>\n",
       "      <td>on_date</td>\n",
       "      <td>승차시각</td>\n",
       "    </tr>\n",
       "    <tr>\n",
       "      <th>1</th>\n",
       "      <td>off_date</td>\n",
       "      <td>하차시각</td>\n",
       "    </tr>\n",
       "    <tr>\n",
       "      <th>2</th>\n",
       "      <td>route_name</td>\n",
       "      <td>노선명</td>\n",
       "    </tr>\n",
       "    <tr>\n",
       "      <th>3</th>\n",
       "      <td>descr</td>\n",
       "      <td>노선설명</td>\n",
       "    </tr>\n",
       "    <tr>\n",
       "      <th>4</th>\n",
       "      <td>age_type</td>\n",
       "      <td>승객연령</td>\n",
       "    </tr>\n",
       "    <tr>\n",
       "      <th>5</th>\n",
       "      <td>trans_yn</td>\n",
       "      <td>환승여부</td>\n",
       "    </tr>\n",
       "    <tr>\n",
       "      <th>6</th>\n",
       "      <td>addfee_yn</td>\n",
       "      <td>추가운임여부</td>\n",
       "    </tr>\n",
       "    <tr>\n",
       "      <th>7</th>\n",
       "      <td>start_bstop</td>\n",
       "      <td>승차정류장</td>\n",
       "    </tr>\n",
       "    <tr>\n",
       "      <th>8</th>\n",
       "      <td>start_gps_x</td>\n",
       "      <td>승차정류장 GPS X</td>\n",
       "    </tr>\n",
       "    <tr>\n",
       "      <th>9</th>\n",
       "      <td>start_gps_y</td>\n",
       "      <td>승차정류장 GPS Y</td>\n",
       "    </tr>\n",
       "    <tr>\n",
       "      <th>10</th>\n",
       "      <td>end_bstop</td>\n",
       "      <td>하차정류장</td>\n",
       "    </tr>\n",
       "    <tr>\n",
       "      <th>11</th>\n",
       "      <td>end_gps_x</td>\n",
       "      <td>하차정류장 GPS X</td>\n",
       "    </tr>\n",
       "    <tr>\n",
       "      <th>12</th>\n",
       "      <td>end_gps_y</td>\n",
       "      <td>하차정류장 GPS Y</td>\n",
       "    </tr>\n",
       "  </tbody>\n",
       "</table>\n",
       "</div>"
      ],
      "text/plain": [
       "       컬럼명 (영문)     컬럼명 (한글)\n",
       "0       on_date         승차시각\n",
       "1      off_date         하차시각\n",
       "2    route_name          노선명\n",
       "3         descr         노선설명\n",
       "4      age_type         승객연령\n",
       "5      trans_yn         환승여부\n",
       "6     addfee_yn       추가운임여부\n",
       "7   start_bstop        승차정류장\n",
       "8   start_gps_x  승차정류장 GPS X\n",
       "9   start_gps_y  승차정류장 GPS Y\n",
       "10    end_bstop        하차정류장\n",
       "11    end_gps_x  하차정류장 GPS X\n",
       "12    end_gps_y  하차정류장 GPS Y"
      ]
     },
     "execution_count": 26,
     "metadata": {},
     "output_type": "execute_result"
    }
   ],
   "source": [
    "###  1. 제공된 메타정의서 파일 읽어들이기\n",
    "#    2. 영문과 한글명이 있는 특성 부분만 읽어들이면 됩니다.\n",
    "# - 데이터프레임 변수명 : df_bus_card_col_org\n",
    "\n",
    "file_path_col = \"./01_data_org/trfcard (0)/trfcard_columns.xlsx\"\n",
    "df_bus_card_col_org = pd.read_excel(file_path_col, header=2, usecols=\"B:C\")\n",
    "df_bus_card_col_org"
   ]
  },
  {
   "cell_type": "code",
   "execution_count": 27,
   "id": "1a68deee-422f-47a9-862a-8ad26d07a8fa",
   "metadata": {},
   "outputs": [],
   "source": [
    "### 3. 딕셔너리로 변환하기 : 메타정의서의 영문명을 key로, 한글명을 value로 생성\n",
    "# - 딕셔너리 변수명 : df_bus_card_col_dict\n",
    "# - 생성 예시 : {\"on_date\" : \"승차시각\", \"off_date\" : \"하차시각\", ......}"
   ]
  },
  {
   "cell_type": "code",
   "execution_count": 28,
   "id": "891662ba-268a-45a2-b988-969f99fd33b7",
   "metadata": {},
   "outputs": [
    {
     "data": {
      "text/plain": [
       "{'on_date': '승차시각',\n",
       " 'off_date': '하차시각',\n",
       " 'route_name': '노선명',\n",
       " 'descr': '노선설명',\n",
       " 'age_type': '승객연령',\n",
       " 'trans_yn': '환승여부',\n",
       " 'addfee_yn': '추가운임여부',\n",
       " 'start_bstop': '승차정류장',\n",
       " 'start_gps_x': '승차정류장 GPS X',\n",
       " 'start_gps_y': '승차정류장 GPS Y',\n",
       " 'end_bstop': '하차정류장',\n",
       " 'end_gps_x': '하차정류장 GPS X',\n",
       " 'end_gps_y': '하차정류장 GPS Y'}"
      ]
     },
     "execution_count": 28,
     "metadata": {},
     "output_type": "execute_result"
    }
   ],
   "source": [
    "### 딕션너리 생성방법(1)\n",
    "df_bus_card_col_dict = {} \n",
    "\n",
    "for i in range(0, len(df_bus_card_col_org), 1) :\n",
    "    df_bus_card_col_dict[df_bus_card_col_org.iloc[i, 0]] = df_bus_card_col_org.iloc[i, 1]\n",
    "\n",
    "df_bus_card_col_dict"
   ]
  },
  {
   "cell_type": "code",
   "execution_count": 29,
   "id": "2924f28d-cf5c-4335-ada0-4c792cd4087b",
   "metadata": {},
   "outputs": [
    {
     "data": {
      "text/plain": [
       "{'on_date': '승차시각',\n",
       " 'off_date': '하차시각',\n",
       " 'route_name': '노선명',\n",
       " 'descr': '노선설명',\n",
       " 'age_type': '승객연령',\n",
       " 'trans_yn': '환승여부',\n",
       " 'addfee_yn': '추가운임여부',\n",
       " 'start_bstop': '승차정류장',\n",
       " 'start_gps_x': '승차정류장 GPS X',\n",
       " 'start_gps_y': '승차정류장 GPS Y',\n",
       " 'end_bstop': '하차정류장',\n",
       " 'end_gps_x': '하차정류장 GPS X',\n",
       " 'end_gps_y': '하차정류장 GPS Y'}"
      ]
     },
     "execution_count": 29,
     "metadata": {},
     "output_type": "execute_result"
    }
   ],
   "source": [
    "### 딕셔너리 생성방법(2)\n",
    "df_bus_card_col_dict = dict(df_bus_card_col_org.to_numpy())\n",
    "df_bus_card_col_dict"
   ]
  },
  {
   "cell_type": "code",
   "execution_count": 32,
   "id": "346d0ebe-f8c9-424c-bbd4-a84c05d8e854",
   "metadata": {},
   "outputs": [
    {
     "data": {
      "text/html": [
       "<div>\n",
       "<style scoped>\n",
       "    .dataframe tbody tr th:only-of-type {\n",
       "        vertical-align: middle;\n",
       "    }\n",
       "\n",
       "    .dataframe tbody tr th {\n",
       "        vertical-align: top;\n",
       "    }\n",
       "\n",
       "    .dataframe thead th {\n",
       "        text-align: right;\n",
       "    }\n",
       "</style>\n",
       "<table border=\"1\" class=\"dataframe\">\n",
       "  <thead>\n",
       "    <tr style=\"text-align: right;\">\n",
       "      <th></th>\n",
       "      <th>승차시각</th>\n",
       "      <th>하차시각</th>\n",
       "      <th>노선명</th>\n",
       "      <th>노선설명</th>\n",
       "      <th>승객연령</th>\n",
       "      <th>환승여부</th>\n",
       "      <th>추가운임여부</th>\n",
       "      <th>승차정류장</th>\n",
       "      <th>승차정류장 GPS X</th>\n",
       "      <th>승차정류장 GPS Y</th>\n",
       "      <th>하차정류장</th>\n",
       "      <th>하차정류장 GPS X</th>\n",
       "      <th>하차정류장 GPS Y</th>\n",
       "    </tr>\n",
       "  </thead>\n",
       "  <tbody>\n",
       "    <tr>\n",
       "      <th>0</th>\n",
       "      <td>20200102051049</td>\n",
       "      <td>20200102051844</td>\n",
       "      <td>131</td>\n",
       "      <td>양덕-송도-시청-양학-양덕</td>\n",
       "      <td>일반</td>\n",
       "      <td>N</td>\n",
       "      <td>N</td>\n",
       "      <td>양덕차고지</td>\n",
       "      <td>129.401693</td>\n",
       "      <td>36.077258</td>\n",
       "      <td>동부초등학교</td>\n",
       "      <td>129.380866</td>\n",
       "      <td>36.062209</td>\n",
       "    </tr>\n",
       "  </tbody>\n",
       "</table>\n",
       "</div>"
      ],
      "text/plain": [
       "             승차시각            하차시각  노선명            노선설명 승객연령 환승여부 추가운임여부  \\\n",
       "0  20200102051049  20200102051844  131  양덕-송도-시청-양학-양덕   일반    N      N   \n",
       "\n",
       "   승차정류장  승차정류장 GPS X  승차정류장 GPS Y   하차정류장  하차정류장 GPS X  하차정류장 GPS Y  \n",
       "0  양덕차고지   129.401693    36.077258  동부초등학교   129.380866    36.062209  "
      ]
     },
     "execution_count": 32,
     "metadata": {},
     "output_type": "execute_result"
    }
   ],
   "source": [
    "### 4. 데이터프레임의 rename()함수를 이용하여 컬럼명 변환하기\n",
    "df_bus_card_kor = df_bus_cart_org.rename(columns = df_bus_card_col_dict)\n",
    "df_bus_card_kor.head(1)"
   ]
  },
  {
   "cell_type": "code",
   "execution_count": null,
   "id": "40e4aa58-6b53-4c49-a0da-47733fccb4de",
   "metadata": {},
   "outputs": [],
   "source": [
    "\"\"\"\n",
    "<현황분석을 위한 소주제 정하기 : 특성 확인>\n",
    "[버스 이용량 현황 분석]\n",
    " - 기준월 및 기준일자별 버스 이용량 분석 비교\n",
    " - 기준일 및 기준시간별 버스 이용량 분석 비교\n",
    " - 기준시간 및 분별 버스 이용량 분석 비교\n",
    "\n",
    "[버스 내 체류시간 현황 분석]\n",
    "\n",
    "[승/하차 정류장별 버스내 체류시간 현황 분석]\n",
    "\"\"\""
   ]
  },
  {
   "cell_type": "code",
   "execution_count": 34,
   "id": "f98414df-617b-4019-9ab2-899398a14701",
   "metadata": {},
   "outputs": [
    {
     "data": {
      "text/html": [
       "<div>\n",
       "<style scoped>\n",
       "    .dataframe tbody tr th:only-of-type {\n",
       "        vertical-align: middle;\n",
       "    }\n",
       "\n",
       "    .dataframe tbody tr th {\n",
       "        vertical-align: top;\n",
       "    }\n",
       "\n",
       "    .dataframe thead th {\n",
       "        text-align: right;\n",
       "    }\n",
       "</style>\n",
       "<table border=\"1\" class=\"dataframe\">\n",
       "  <thead>\n",
       "    <tr style=\"text-align: right;\">\n",
       "      <th></th>\n",
       "      <th>승차시각</th>\n",
       "      <th>하차시각</th>\n",
       "      <th>노선명</th>\n",
       "      <th>노선설명</th>\n",
       "      <th>승객연령</th>\n",
       "      <th>환승여부</th>\n",
       "      <th>추가운임여부</th>\n",
       "      <th>승차정류장</th>\n",
       "      <th>승차정류장 GPS X</th>\n",
       "      <th>승차정류장 GPS Y</th>\n",
       "      <th>하차정류장</th>\n",
       "      <th>하차정류장 GPS X</th>\n",
       "      <th>하차정류장 GPS Y</th>\n",
       "    </tr>\n",
       "  </thead>\n",
       "  <tbody>\n",
       "    <tr>\n",
       "      <th>0</th>\n",
       "      <td>20200102051049</td>\n",
       "      <td>20200102051844</td>\n",
       "      <td>131</td>\n",
       "      <td>양덕-송도-시청-양학-양덕</td>\n",
       "      <td>일반</td>\n",
       "      <td>N</td>\n",
       "      <td>N</td>\n",
       "      <td>양덕차고지</td>\n",
       "      <td>129.401693</td>\n",
       "      <td>36.077258</td>\n",
       "      <td>동부초등학교</td>\n",
       "      <td>129.380866</td>\n",
       "      <td>36.062209</td>\n",
       "    </tr>\n",
       "  </tbody>\n",
       "</table>\n",
       "</div>"
      ],
      "text/plain": [
       "             승차시각            하차시각  노선명            노선설명 승객연령 환승여부 추가운임여부  \\\n",
       "0  20200102051049  20200102051844  131  양덕-송도-시청-양학-양덕   일반    N      N   \n",
       "\n",
       "   승차정류장  승차정류장 GPS X  승차정류장 GPS Y   하차정류장  하차정류장 GPS X  하차정류장 GPS Y  \n",
       "0  양덕차고지   129.401693    36.077258  동부초등학교   129.380866    36.062209  "
      ]
     },
     "execution_count": 34,
     "metadata": {},
     "output_type": "execute_result"
    }
   ],
   "source": [
    "df_bus_card_kor.head(1)"
   ]
  },
  {
   "cell_type": "code",
   "execution_count": 35,
   "id": "6c00cc66-e6b6-43ce-baef-ef9ecbb8c24a",
   "metadata": {},
   "outputs": [
    {
     "name": "stdout",
     "output_type": "stream",
     "text": [
      "<class 'pandas.core.frame.DataFrame'>\n",
      "RangeIndex: 16185 entries, 0 to 16184\n",
      "Data columns (total 13 columns):\n",
      " #   Column       Non-Null Count  Dtype  \n",
      "---  ------       --------------  -----  \n",
      " 0   승차시각         16185 non-null  int64  \n",
      " 1   하차시각         16185 non-null  int64  \n",
      " 2   노선명          16185 non-null  object \n",
      " 3   노선설명         16185 non-null  object \n",
      " 4   승객연령         16164 non-null  object \n",
      " 5   환승여부         16185 non-null  object \n",
      " 6   추가운임여부       16185 non-null  object \n",
      " 7   승차정류장        16185 non-null  object \n",
      " 8   승차정류장 GPS X  16185 non-null  float64\n",
      " 9   승차정류장 GPS Y  16185 non-null  float64\n",
      " 10  하차정류장        16185 non-null  object \n",
      " 11  하차정류장 GPS X  16185 non-null  float64\n",
      " 12  하차정류장 GPS Y  16185 non-null  float64\n",
      "dtypes: float64(4), int64(2), object(7)\n",
      "memory usage: 1.6+ MB\n"
     ]
    }
   ],
   "source": [
    "df_bus_card_kor.info()"
   ]
  },
  {
   "cell_type": "code",
   "execution_count": null,
   "id": "e1ef2749-604a-4901-aac7-663a1005e635",
   "metadata": {},
   "outputs": [],
   "source": [
    "### 승차시각 및 하차시각에 대한 특성을 통해서 필요한 월/일/시/분을 추출하기 위해서는\n",
    "# - 날짜타입으로 변환하는 것이 좋습니다.\n",
    "# - 최초 데이터 특성의 타입이 정수형 타입인 경우에는 아래 순서로 변환합니다.\n",
    "#   1. 문자열로 먼저 데이터 타입 변환하기\n",
    "#   2. 그 다음 날짜 타입으로 변환하기"
   ]
  },
  {
   "cell_type": "code",
   "execution_count": 38,
   "id": "2c889fd2-ae18-4ca4-b842-9a76a643101e",
   "metadata": {},
   "outputs": [
    {
     "name": "stdout",
     "output_type": "stream",
     "text": [
      "<class 'pandas.core.frame.DataFrame'>\n",
      "RangeIndex: 16185 entries, 0 to 16184\n",
      "Data columns (total 13 columns):\n",
      " #   Column       Non-Null Count  Dtype  \n",
      "---  ------       --------------  -----  \n",
      " 0   승차시각         16185 non-null  object \n",
      " 1   하차시각         16185 non-null  object \n",
      " 2   노선명          16185 non-null  object \n",
      " 3   노선설명         16185 non-null  object \n",
      " 4   승객연령         16164 non-null  object \n",
      " 5   환승여부         16185 non-null  object \n",
      " 6   추가운임여부       16185 non-null  object \n",
      " 7   승차정류장        16185 non-null  object \n",
      " 8   승차정류장 GPS X  16185 non-null  float64\n",
      " 9   승차정류장 GPS Y  16185 non-null  float64\n",
      " 10  하차정류장        16185 non-null  object \n",
      " 11  하차정류장 GPS X  16185 non-null  float64\n",
      " 12  하차정류장 GPS Y  16185 non-null  float64\n",
      "dtypes: float64(4), object(9)\n",
      "memory usage: 1.6+ MB\n"
     ]
    }
   ],
   "source": [
    "### 승차시각과 하차시각의 데이터 타입을 -> 문자열 데이터 타입으로 변환하기\n",
    "df_bus_card_kor = df_bus_card_kor.astype({\"승차시각\" : \"str\"})\n",
    "df_bus_card_kor = df_bus_card_kor.astype({\"하차시각\" : \"str\"})\n",
    "df_bus_card_kor.info()"
   ]
  },
  {
   "cell_type": "code",
   "execution_count": 40,
   "id": "f006283c-418a-499f-b0d2-890314a64614",
   "metadata": {},
   "outputs": [
    {
     "name": "stdout",
     "output_type": "stream",
     "text": [
      "<class 'pandas.core.frame.DataFrame'>\n",
      "RangeIndex: 16185 entries, 0 to 16184\n",
      "Data columns (total 13 columns):\n",
      " #   Column       Non-Null Count  Dtype         \n",
      "---  ------       --------------  -----         \n",
      " 0   승차시각         16185 non-null  datetime64[ns]\n",
      " 1   하차시각         16185 non-null  datetime64[ns]\n",
      " 2   노선명          16185 non-null  object        \n",
      " 3   노선설명         16185 non-null  object        \n",
      " 4   승객연령         16164 non-null  object        \n",
      " 5   환승여부         16185 non-null  object        \n",
      " 6   추가운임여부       16185 non-null  object        \n",
      " 7   승차정류장        16185 non-null  object        \n",
      " 8   승차정류장 GPS X  16185 non-null  float64       \n",
      " 9   승차정류장 GPS Y  16185 non-null  float64       \n",
      " 10  하차정류장        16185 non-null  object        \n",
      " 11  하차정류장 GPS X  16185 non-null  float64       \n",
      " 12  하차정류장 GPS Y  16185 non-null  float64       \n",
      "dtypes: datetime64[ns](2), float64(4), object(7)\n",
      "memory usage: 1.6+ MB\n"
     ]
    }
   ],
   "source": [
    "### 승차시각과 하차시각의 데이터 타입을 -> 날짜 데이터 타입으로 변환하기\n",
    "df_bus_card_kor[\"승차시각\"] = pd.to_datetime(df_bus_card_kor[\"승차시각\"])\n",
    "df_bus_card_kor[\"하차시각\"] = pd.to_datetime(df_bus_card_kor[\"하차시각\"])\n",
    "df_bus_card_kor.info()"
   ]
  },
  {
   "cell_type": "code",
   "execution_count": 44,
   "id": "38b1e625-0928-4978-9346-64768b7463e6",
   "metadata": {},
   "outputs": [
    {
     "data": {
      "text/html": [
       "<div>\n",
       "<style scoped>\n",
       "    .dataframe tbody tr th:only-of-type {\n",
       "        vertical-align: middle;\n",
       "    }\n",
       "\n",
       "    .dataframe tbody tr th {\n",
       "        vertical-align: top;\n",
       "    }\n",
       "\n",
       "    .dataframe thead th {\n",
       "        text-align: right;\n",
       "    }\n",
       "</style>\n",
       "<table border=\"1\" class=\"dataframe\">\n",
       "  <thead>\n",
       "    <tr style=\"text-align: right;\">\n",
       "      <th></th>\n",
       "      <th>승차시각</th>\n",
       "      <th>하차시각</th>\n",
       "      <th>승객연령</th>\n",
       "      <th>승차정류장</th>\n",
       "      <th>하차정류장</th>\n",
       "    </tr>\n",
       "  </thead>\n",
       "  <tbody>\n",
       "    <tr>\n",
       "      <th>0</th>\n",
       "      <td>2020-01-02 05:10:49</td>\n",
       "      <td>2020-01-02 05:18:44</td>\n",
       "      <td>일반</td>\n",
       "      <td>양덕차고지</td>\n",
       "      <td>동부초등학교</td>\n",
       "    </tr>\n",
       "  </tbody>\n",
       "</table>\n",
       "</div>"
      ],
      "text/plain": [
       "                 승차시각                하차시각 승객연령  승차정류장   하차정류장\n",
       "0 2020-01-02 05:10:49 2020-01-02 05:18:44   일반  양덕차고지  동부초등학교"
      ]
     },
     "execution_count": 44,
     "metadata": {},
     "output_type": "execute_result"
    }
   ],
   "source": [
    "\"\"\"\n",
    "<현황분석에 필요한 데이터만 정제하기>\n",
    " - 사용할 특성 : 승차시각, 하차시각, 승객연령, 승차정류장, 하차정류장\n",
    " - 새로운 데이터프레임 변수명 : df_bus_card\n",
    "\"\"\"\n",
    "df_bus_card = df_bus_card_kor[[\"승차시각\", \"하차시각\", \"승객연령\", \"승차정류장\", \"하차정류장\"]].copy()\n",
    "df_bus_card.head(1)"
   ]
  },
  {
   "cell_type": "code",
   "execution_count": 45,
   "id": "a667b0f2-2a14-4cde-b382-4cee7fbff0ef",
   "metadata": {},
   "outputs": [
    {
     "name": "stdout",
     "output_type": "stream",
     "text": [
      "<class 'pandas.core.frame.DataFrame'>\n",
      "RangeIndex: 16185 entries, 0 to 16184\n",
      "Data columns (total 5 columns):\n",
      " #   Column  Non-Null Count  Dtype         \n",
      "---  ------  --------------  -----         \n",
      " 0   승차시각    16185 non-null  datetime64[ns]\n",
      " 1   하차시각    16185 non-null  datetime64[ns]\n",
      " 2   승객연령    16164 non-null  object        \n",
      " 3   승차정류장   16185 non-null  object        \n",
      " 4   하차정류장   16185 non-null  object        \n",
      "dtypes: datetime64[ns](2), object(3)\n",
      "memory usage: 632.4+ KB\n"
     ]
    }
   ],
   "source": [
    "df_bus_card.info()"
   ]
  },
  {
   "cell_type": "code",
   "execution_count": null,
   "id": "6be5ba9d-7090-48b8-afb0-db615a5de83f",
   "metadata": {},
   "outputs": [],
   "source": [
    "\"\"\"\n",
    " - 현황분석에 필요한 특성 생성(추가)하기\n",
    " - 추가할 특성명 : 버스내체류시간(분), 기준년도, 기준월, 기준일, 기준시간, 기준시간(분)\n",
    "\"\"\""
   ]
  },
  {
   "cell_type": "code",
   "execution_count": 50,
   "id": "91c8179c-b4f5-4d61-ad39-e5cbd40efd88",
   "metadata": {},
   "outputs": [
    {
     "data": {
      "text/html": [
       "<div>\n",
       "<style scoped>\n",
       "    .dataframe tbody tr th:only-of-type {\n",
       "        vertical-align: middle;\n",
       "    }\n",
       "\n",
       "    .dataframe tbody tr th {\n",
       "        vertical-align: top;\n",
       "    }\n",
       "\n",
       "    .dataframe thead th {\n",
       "        text-align: right;\n",
       "    }\n",
       "</style>\n",
       "<table border=\"1\" class=\"dataframe\">\n",
       "  <thead>\n",
       "    <tr style=\"text-align: right;\">\n",
       "      <th></th>\n",
       "      <th>승차시각</th>\n",
       "      <th>하차시각</th>\n",
       "      <th>승객연령</th>\n",
       "      <th>승차정류장</th>\n",
       "      <th>하차정류장</th>\n",
       "      <th>버스내체류시간(분)</th>\n",
       "    </tr>\n",
       "  </thead>\n",
       "  <tbody>\n",
       "    <tr>\n",
       "      <th>0</th>\n",
       "      <td>2020-01-02 05:10:49</td>\n",
       "      <td>2020-01-02 05:18:44</td>\n",
       "      <td>일반</td>\n",
       "      <td>양덕차고지</td>\n",
       "      <td>동부초등학교</td>\n",
       "      <td>7.92</td>\n",
       "    </tr>\n",
       "  </tbody>\n",
       "</table>\n",
       "</div>"
      ],
      "text/plain": [
       "                 승차시각                하차시각 승객연령  승차정류장   하차정류장  버스내체류시간(분)\n",
       "0 2020-01-02 05:10:49 2020-01-02 05:18:44   일반  양덕차고지  동부초등학교        7.92"
      ]
     },
     "execution_count": 50,
     "metadata": {},
     "output_type": "execute_result"
    }
   ],
   "source": [
    "### 버스내체류시간(분) 특성 추가하기\n",
    "# - 버스내체류시간(분) = 하차시각 - 승차시각 : 소숫점 2째자리까지 사용\n",
    "\n",
    "df_bus_card[\"버스내체류시간(분)\"] = round((df_bus_card[\"하차시각\"] - df_bus_card[\"승차시각\"]).dt.total_seconds() / 60, 2)\n",
    "df_bus_card.head(1)"
   ]
  },
  {
   "cell_type": "code",
   "execution_count": 51,
   "id": "edc8baff-764e-47d6-83df-cc7482ecb914",
   "metadata": {},
   "outputs": [
    {
     "name": "stdout",
     "output_type": "stream",
     "text": [
      "<class 'pandas.core.frame.DataFrame'>\n",
      "RangeIndex: 16185 entries, 0 to 16184\n",
      "Data columns (total 6 columns):\n",
      " #   Column      Non-Null Count  Dtype         \n",
      "---  ------      --------------  -----         \n",
      " 0   승차시각        16185 non-null  datetime64[ns]\n",
      " 1   하차시각        16185 non-null  datetime64[ns]\n",
      " 2   승객연령        16164 non-null  object        \n",
      " 3   승차정류장       16185 non-null  object        \n",
      " 4   하차정류장       16185 non-null  object        \n",
      " 5   버스내체류시간(분)  16185 non-null  float64       \n",
      "dtypes: datetime64[ns](2), float64(1), object(3)\n",
      "memory usage: 758.8+ KB\n"
     ]
    }
   ],
   "source": [
    "df_bus_card.info()"
   ]
  },
  {
   "cell_type": "code",
   "execution_count": 54,
   "id": "fee64546-9fa5-4f31-9d98-9f7ee14e3ff6",
   "metadata": {},
   "outputs": [
    {
     "data": {
      "text/html": [
       "<div>\n",
       "<style scoped>\n",
       "    .dataframe tbody tr th:only-of-type {\n",
       "        vertical-align: middle;\n",
       "    }\n",
       "\n",
       "    .dataframe tbody tr th {\n",
       "        vertical-align: top;\n",
       "    }\n",
       "\n",
       "    .dataframe thead th {\n",
       "        text-align: right;\n",
       "    }\n",
       "</style>\n",
       "<table border=\"1\" class=\"dataframe\">\n",
       "  <thead>\n",
       "    <tr style=\"text-align: right;\">\n",
       "      <th></th>\n",
       "      <th>승차시각</th>\n",
       "      <th>하차시각</th>\n",
       "      <th>승객연령</th>\n",
       "      <th>승차정류장</th>\n",
       "      <th>하차정류장</th>\n",
       "      <th>버스내체류시간(분)</th>\n",
       "      <th>기준년도</th>\n",
       "      <th>기준월</th>\n",
       "      <th>기준일</th>\n",
       "      <th>기준시간</th>\n",
       "      <th>기준시간(분)</th>\n",
       "    </tr>\n",
       "  </thead>\n",
       "  <tbody>\n",
       "    <tr>\n",
       "      <th>0</th>\n",
       "      <td>2020-01-02 05:10:49</td>\n",
       "      <td>2020-01-02 05:18:44</td>\n",
       "      <td>일반</td>\n",
       "      <td>양덕차고지</td>\n",
       "      <td>동부초등학교</td>\n",
       "      <td>7.92</td>\n",
       "      <td>2020</td>\n",
       "      <td>1</td>\n",
       "      <td>2</td>\n",
       "      <td>5</td>\n",
       "      <td>10</td>\n",
       "    </tr>\n",
       "  </tbody>\n",
       "</table>\n",
       "</div>"
      ],
      "text/plain": [
       "                 승차시각                하차시각 승객연령  승차정류장   하차정류장  버스내체류시간(분)  \\\n",
       "0 2020-01-02 05:10:49 2020-01-02 05:18:44   일반  양덕차고지  동부초등학교        7.92   \n",
       "\n",
       "   기준년도  기준월  기준일  기준시간  기준시간(분)  \n",
       "0  2020    1    2     5       10  "
      ]
     },
     "execution_count": 54,
     "metadata": {},
     "output_type": "execute_result"
    }
   ],
   "source": [
    "### 기준년도, 기준월, 기준일, 기준시간, 기준시간(분) 특성 생성하기\n",
    "df_bus_card[\"기준년도\"] = df_bus_card[\"승차시각\"].dt.year\n",
    "df_bus_card[\"기준월\"] = df_bus_card[\"승차시각\"].dt.month\n",
    "df_bus_card[\"기준일\"] = df_bus_card[\"승차시각\"].dt.day\n",
    "df_bus_card[\"기준시간\"] = df_bus_card[\"승차시각\"].dt.hour\n",
    "df_bus_card[\"기준시간(분)\"] = df_bus_card[\"승차시각\"].dt.minute\n",
    "df_bus_card.head(1)"
   ]
  },
  {
   "cell_type": "code",
   "execution_count": 55,
   "id": "6772f8ec-0fca-4d96-b8e4-a9f94589e8e8",
   "metadata": {},
   "outputs": [
    {
     "name": "stdout",
     "output_type": "stream",
     "text": [
      "<class 'pandas.core.frame.DataFrame'>\n",
      "RangeIndex: 16185 entries, 0 to 16184\n",
      "Data columns (total 11 columns):\n",
      " #   Column      Non-Null Count  Dtype         \n",
      "---  ------      --------------  -----         \n",
      " 0   승차시각        16185 non-null  datetime64[ns]\n",
      " 1   하차시각        16185 non-null  datetime64[ns]\n",
      " 2   승객연령        16164 non-null  object        \n",
      " 3   승차정류장       16185 non-null  object        \n",
      " 4   하차정류장       16185 non-null  object        \n",
      " 5   버스내체류시간(분)  16185 non-null  float64       \n",
      " 6   기준년도        16185 non-null  int32         \n",
      " 7   기준월         16185 non-null  int32         \n",
      " 8   기준일         16185 non-null  int32         \n",
      " 9   기준시간        16185 non-null  int32         \n",
      " 10  기준시간(분)     16185 non-null  int32         \n",
      "dtypes: datetime64[ns](2), float64(1), int32(5), object(3)\n",
      "memory usage: 1.0+ MB\n"
     ]
    }
   ],
   "source": [
    "df_bus_card.info()"
   ]
  },
  {
   "cell_type": "code",
   "execution_count": null,
   "id": "55fc3e58-6d2b-4798-bd27-72c790051d69",
   "metadata": {},
   "outputs": [],
   "source": [
    "\"\"\"\n",
    "<다운로드 받은 모든 폴더의 데이터셋을 하나의 데이터프레임으로 통합하기>\n",
    " - 위에서 샘플로 처리한 순서대로 처리 후에 최종 통합 합니다.\n",
    " - trfcard (0) ~ trfcart(79) 전체를 반복하면서 통합합니다.\n",
    " - 최종 통합할 데이터프레임 변수명 : df_bus_card_tot\n",
    " - 통합 데이터 row 건수 : 842,608건\n",
    "\"\"\""
   ]
  },
  {
   "cell_type": "code",
   "execution_count": 57,
   "id": "8ba17637-f63e-4a1b-a2ca-e133978cb2c5",
   "metadata": {},
   "outputs": [
    {
     "data": {
      "text/html": [
       "<div>\n",
       "<style scoped>\n",
       "    .dataframe tbody tr th:only-of-type {\n",
       "        vertical-align: middle;\n",
       "    }\n",
       "\n",
       "    .dataframe tbody tr th {\n",
       "        vertical-align: top;\n",
       "    }\n",
       "\n",
       "    .dataframe thead th {\n",
       "        text-align: right;\n",
       "    }\n",
       "</style>\n",
       "<table border=\"1\" class=\"dataframe\">\n",
       "  <thead>\n",
       "    <tr style=\"text-align: right;\">\n",
       "      <th></th>\n",
       "      <th>컬럼명 (영문)</th>\n",
       "      <th>컬럼명 (한글)</th>\n",
       "    </tr>\n",
       "  </thead>\n",
       "  <tbody>\n",
       "    <tr>\n",
       "      <th>0</th>\n",
       "      <td>on_date</td>\n",
       "      <td>승차시각</td>\n",
       "    </tr>\n",
       "  </tbody>\n",
       "</table>\n",
       "</div>"
      ],
      "text/plain": [
       "  컬럼명 (영문) 컬럼명 (한글)\n",
       "0  on_date     승차시각"
      ]
     },
     "execution_count": 57,
     "metadata": {},
     "output_type": "execute_result"
    }
   ],
   "source": [
    "df_bus_card_col_org.head(1)"
   ]
  },
  {
   "cell_type": "code",
   "execution_count": 60,
   "id": "9bd9e0ba-479a-47d9-95e1-b0a48942eb6a",
   "metadata": {},
   "outputs": [],
   "source": [
    "### 날짜 라이브러리\n",
    "from datetime import datetime"
   ]
  },
  {
   "cell_type": "code",
   "execution_count": 61,
   "id": "e7ba12e3-2f21-4589-833c-3c1adbcb4d56",
   "metadata": {},
   "outputs": [
    {
     "name": "stdout",
     "output_type": "stream",
     "text": [
      "전체 실행 시간 : 2024-03-29 13:46:42 - 2024-03-29 13:46:53\n"
     ]
    },
    {
     "data": {
      "text/plain": [
       "842608"
      ]
     },
     "execution_count": 61,
     "metadata": {},
     "output_type": "execute_result"
    }
   ],
   "source": [
    "### 다운로드 받은 모든 폴더의 데이터셋을 하나의 데이터프레임으로 통합하기\n",
    "\n",
    "### 반복시간 확인하기 : 시작 시간\n",
    "start_date = datetime.today().strftime(\"%Y-%m-%d %H:%M:%S\")\n",
    "\n",
    "df_bus_card_tot = pd.DataFrame()\n",
    "\n",
    "for i in range(0, 80, 1) : \n",
    "    ### trfcart (0) 폴더 내에 csv파일 읽어들이기\n",
    "    file_path = f\"./01_data_org/trfcard ({i})/trfcard.csv\"\n",
    "    df_bus_cart_org = pd.read_csv(file_path)\n",
    "\n",
    "    ### 딕셔너리 생성방법(2)\n",
    "    df_bus_card_col_dict = dict(df_bus_card_col_org.to_numpy())\n",
    "\n",
    "    ### 4. 데이터프레임의 rename()함수를 이용하여 컬럼명 변환하기\n",
    "    df_bus_card_kor = df_bus_cart_org.rename(columns = df_bus_card_col_dict)\n",
    "\n",
    "    ### 승차시각과 하차시각의 데이터 타입을 -> 문자열 데이터 타입으로 변환하기\n",
    "    df_bus_card_kor = df_bus_card_kor.astype({\"승차시각\" : \"str\"})\n",
    "    df_bus_card_kor = df_bus_card_kor.astype({\"하차시각\" : \"str\"})\n",
    "    \n",
    "    ### 승차시각과 하차시각의 데이터 타입을 -> 날짜 데이터 타입으로 변환하기\n",
    "    df_bus_card_kor[\"승차시각\"] = pd.to_datetime(df_bus_card_kor[\"승차시각\"])\n",
    "    df_bus_card_kor[\"하차시각\"] = pd.to_datetime(df_bus_card_kor[\"하차시각\"])\n",
    "    \n",
    "    ### 사용할 특성 : 승차시각, 하차시각, 승객연령, 승차정류장, 하차정류장\n",
    "    df_bus_card = df_bus_card_kor[[\"승차시각\", \"하차시각\", \"승객연령\", \"승차정류장\", \"하차정류장\"]].copy()\n",
    "    \n",
    "    ### 버스내체류시간(분) 특성 추가하기\n",
    "    # - 버스내체류시간(분) = 하차시각 - 승차시각 : 소숫점 2째자리까지 사용\n",
    "    df_bus_card[\"버스내체류시간(분)\"] = round((df_bus_card[\"하차시각\"] - df_bus_card[\"승차시각\"]).dt.total_seconds() / 60, 2)\n",
    "    \n",
    "    ### 기준년도, 기준월, 기준일, 기준시간, 기준시간(분) 특성 생성하기\n",
    "    df_bus_card[\"기준년도\"] = df_bus_card[\"승차시각\"].dt.year\n",
    "    df_bus_card[\"기준월\"] = df_bus_card[\"승차시각\"].dt.month\n",
    "    df_bus_card[\"기준일\"] = df_bus_card[\"승차시각\"].dt.day\n",
    "    df_bus_card[\"기준시간\"] = df_bus_card[\"승차시각\"].dt.hour\n",
    "    df_bus_card[\"기준시간(분)\"] = df_bus_card[\"승차시각\"].dt.minute\n",
    "\n",
    "    ### 통합하기\n",
    "    df_bus_card_tot = pd.concat([df_bus_card_tot, df_bus_card], ignore_index=True)\n",
    "\n",
    "### 반복시간 확인하기 : 종료 시간\n",
    "end_date = datetime.today().strftime(\"%Y-%m-%d %H:%M:%S\")\n",
    "\n",
    "print(f\"전체 실행 시간 : {start_date} - {end_date}\")\n",
    "len(df_bus_card_tot)"
   ]
  },
  {
   "cell_type": "code",
   "execution_count": 59,
   "id": "ddd7c9b8-a068-4cf4-bcf1-56514fe0c32a",
   "metadata": {},
   "outputs": [
    {
     "name": "stdout",
     "output_type": "stream",
     "text": [
      "<class 'pandas.core.frame.DataFrame'>\n",
      "RangeIndex: 842608 entries, 0 to 842607\n",
      "Data columns (total 11 columns):\n",
      " #   Column      Non-Null Count   Dtype         \n",
      "---  ------      --------------   -----         \n",
      " 0   승차시각        842608 non-null  datetime64[ns]\n",
      " 1   하차시각        842608 non-null  datetime64[ns]\n",
      " 2   승객연령        841683 non-null  object        \n",
      " 3   승차정류장       842608 non-null  object        \n",
      " 4   하차정류장       842608 non-null  object        \n",
      " 5   버스내체류시간(분)  842608 non-null  float64       \n",
      " 6   기준년도        842608 non-null  int32         \n",
      " 7   기준월         842608 non-null  int32         \n",
      " 8   기준일         842608 non-null  int32         \n",
      " 9   기준시간        842608 non-null  int32         \n",
      " 10  기준시간(분)     842608 non-null  int32         \n",
      "dtypes: datetime64[ns](2), float64(1), int32(5), object(3)\n",
      "memory usage: 54.6+ MB\n"
     ]
    }
   ],
   "source": [
    "df_bus_card_tot.info()"
   ]
  },
  {
   "cell_type": "code",
   "execution_count": 62,
   "id": "fccc1d4f-224a-419a-80f8-aee3497613ba",
   "metadata": {},
   "outputs": [],
   "source": [
    "\"\"\"\n",
    "통합된 파일은 항상 저장해서 사용합니다.\n",
    " - 저장파일명 : df_bus_card_tot.csv\n",
    " - 저장위치 : 02_data_all 폴더\n",
    "\"\"\"\n",
    "save_file = \"./02_data_all/df_bus_card_tot.csv\"\n",
    "\n",
    "### index=False : False로 안하면\n",
    "#    -> 데이터프레임의 인데스 번호가 컬럼으로 저장됩니다.\n",
    "df_bus_card_tot.to_csv(save_file, index=False)"
   ]
  },
  {
   "cell_type": "code",
   "execution_count": 63,
   "id": "59a10d53-dc6f-438a-9b6b-43011c8ef233",
   "metadata": {},
   "outputs": [
    {
     "data": {
      "text/html": [
       "<div>\n",
       "<style scoped>\n",
       "    .dataframe tbody tr th:only-of-type {\n",
       "        vertical-align: middle;\n",
       "    }\n",
       "\n",
       "    .dataframe tbody tr th {\n",
       "        vertical-align: top;\n",
       "    }\n",
       "\n",
       "    .dataframe thead th {\n",
       "        text-align: right;\n",
       "    }\n",
       "</style>\n",
       "<table border=\"1\" class=\"dataframe\">\n",
       "  <thead>\n",
       "    <tr style=\"text-align: right;\">\n",
       "      <th></th>\n",
       "      <th>승차시각</th>\n",
       "      <th>하차시각</th>\n",
       "      <th>승객연령</th>\n",
       "      <th>승차정류장</th>\n",
       "      <th>하차정류장</th>\n",
       "      <th>버스내체류시간(분)</th>\n",
       "      <th>기준년도</th>\n",
       "      <th>기준월</th>\n",
       "      <th>기준일</th>\n",
       "      <th>기준시간</th>\n",
       "      <th>기준시간(분)</th>\n",
       "    </tr>\n",
       "  </thead>\n",
       "  <tbody>\n",
       "    <tr>\n",
       "      <th>0</th>\n",
       "      <td>2020-01-02 05:10:49</td>\n",
       "      <td>2020-01-02 05:18:44</td>\n",
       "      <td>일반</td>\n",
       "      <td>양덕차고지</td>\n",
       "      <td>동부초등학교</td>\n",
       "      <td>7.92</td>\n",
       "      <td>2020</td>\n",
       "      <td>1</td>\n",
       "      <td>2</td>\n",
       "      <td>5</td>\n",
       "      <td>10</td>\n",
       "    </tr>\n",
       "    <tr>\n",
       "      <th>1</th>\n",
       "      <td>2020-01-02 05:13:38</td>\n",
       "      <td>2020-01-02 05:45:49</td>\n",
       "      <td>일반</td>\n",
       "      <td>문덕사거리</td>\n",
       "      <td>새마을금고해도지점</td>\n",
       "      <td>32.18</td>\n",
       "      <td>2020</td>\n",
       "      <td>1</td>\n",
       "      <td>2</td>\n",
       "      <td>5</td>\n",
       "      <td>13</td>\n",
       "    </tr>\n",
       "    <tr>\n",
       "      <th>2</th>\n",
       "      <td>2020-01-02 05:15:49</td>\n",
       "      <td>2020-01-02 05:19:30</td>\n",
       "      <td>일반</td>\n",
       "      <td>문덕사거리</td>\n",
       "      <td>성우오토모티브</td>\n",
       "      <td>3.68</td>\n",
       "      <td>2020</td>\n",
       "      <td>1</td>\n",
       "      <td>2</td>\n",
       "      <td>5</td>\n",
       "      <td>15</td>\n",
       "    </tr>\n",
       "    <tr>\n",
       "      <th>3</th>\n",
       "      <td>2020-01-02 05:16:17</td>\n",
       "      <td>2020-01-02 05:50:46</td>\n",
       "      <td>일반</td>\n",
       "      <td>부영사랑3차</td>\n",
       "      <td>오거리</td>\n",
       "      <td>34.48</td>\n",
       "      <td>2020</td>\n",
       "      <td>1</td>\n",
       "      <td>2</td>\n",
       "      <td>5</td>\n",
       "      <td>16</td>\n",
       "    </tr>\n",
       "    <tr>\n",
       "      <th>4</th>\n",
       "      <td>2020-01-02 05:18:41</td>\n",
       "      <td>2020-01-02 05:23:10</td>\n",
       "      <td>일반</td>\n",
       "      <td>문덕온천</td>\n",
       "      <td>용덕사거리</td>\n",
       "      <td>4.48</td>\n",
       "      <td>2020</td>\n",
       "      <td>1</td>\n",
       "      <td>2</td>\n",
       "      <td>5</td>\n",
       "      <td>18</td>\n",
       "    </tr>\n",
       "    <tr>\n",
       "      <th>...</th>\n",
       "      <td>...</td>\n",
       "      <td>...</td>\n",
       "      <td>...</td>\n",
       "      <td>...</td>\n",
       "      <td>...</td>\n",
       "      <td>...</td>\n",
       "      <td>...</td>\n",
       "      <td>...</td>\n",
       "      <td>...</td>\n",
       "      <td>...</td>\n",
       "      <td>...</td>\n",
       "    </tr>\n",
       "    <tr>\n",
       "      <th>842603</th>\n",
       "      <td>2020-03-31 23:15:29</td>\n",
       "      <td>2020-03-31 23:20:33</td>\n",
       "      <td>일반</td>\n",
       "      <td>법원사거리</td>\n",
       "      <td>농협하나로클럽</td>\n",
       "      <td>5.07</td>\n",
       "      <td>2020</td>\n",
       "      <td>3</td>\n",
       "      <td>31</td>\n",
       "      <td>23</td>\n",
       "      <td>15</td>\n",
       "    </tr>\n",
       "    <tr>\n",
       "      <th>842604</th>\n",
       "      <td>2020-03-31 23:16:51</td>\n",
       "      <td>2020-03-31 23:20:54</td>\n",
       "      <td>일반</td>\n",
       "      <td>LG빌라입구</td>\n",
       "      <td>대잠중앙하이츠</td>\n",
       "      <td>4.05</td>\n",
       "      <td>2020</td>\n",
       "      <td>3</td>\n",
       "      <td>31</td>\n",
       "      <td>23</td>\n",
       "      <td>16</td>\n",
       "    </tr>\n",
       "    <tr>\n",
       "      <th>842605</th>\n",
       "      <td>2020-03-31 23:38:06</td>\n",
       "      <td>2020-03-31 23:45:46</td>\n",
       "      <td>일반</td>\n",
       "      <td>대동우방아파트</td>\n",
       "      <td>상대시장</td>\n",
       "      <td>7.67</td>\n",
       "      <td>2020</td>\n",
       "      <td>3</td>\n",
       "      <td>31</td>\n",
       "      <td>23</td>\n",
       "      <td>38</td>\n",
       "    </tr>\n",
       "    <tr>\n",
       "      <th>842606</th>\n",
       "      <td>2020-03-31 23:48:33</td>\n",
       "      <td>2020-03-31 23:59:54</td>\n",
       "      <td>일반</td>\n",
       "      <td>해병대서문</td>\n",
       "      <td>부영사랑3차</td>\n",
       "      <td>11.35</td>\n",
       "      <td>2020</td>\n",
       "      <td>3</td>\n",
       "      <td>31</td>\n",
       "      <td>23</td>\n",
       "      <td>48</td>\n",
       "    </tr>\n",
       "    <tr>\n",
       "      <th>842607</th>\n",
       "      <td>2020-03-31 23:56:43</td>\n",
       "      <td>2020-04-01 00:04:08</td>\n",
       "      <td>일반</td>\n",
       "      <td>해병대서문</td>\n",
       "      <td>문덕사거리</td>\n",
       "      <td>7.42</td>\n",
       "      <td>2020</td>\n",
       "      <td>3</td>\n",
       "      <td>31</td>\n",
       "      <td>23</td>\n",
       "      <td>56</td>\n",
       "    </tr>\n",
       "  </tbody>\n",
       "</table>\n",
       "<p>842608 rows × 11 columns</p>\n",
       "</div>"
      ],
      "text/plain": [
       "                       승차시각                 하차시각 승객연령    승차정류장      하차정류장  \\\n",
       "0       2020-01-02 05:10:49  2020-01-02 05:18:44   일반    양덕차고지     동부초등학교   \n",
       "1       2020-01-02 05:13:38  2020-01-02 05:45:49   일반    문덕사거리  새마을금고해도지점   \n",
       "2       2020-01-02 05:15:49  2020-01-02 05:19:30   일반    문덕사거리    성우오토모티브   \n",
       "3       2020-01-02 05:16:17  2020-01-02 05:50:46   일반   부영사랑3차        오거리   \n",
       "4       2020-01-02 05:18:41  2020-01-02 05:23:10   일반     문덕온천      용덕사거리   \n",
       "...                     ...                  ...  ...      ...        ...   \n",
       "842603  2020-03-31 23:15:29  2020-03-31 23:20:33   일반    법원사거리    농협하나로클럽   \n",
       "842604  2020-03-31 23:16:51  2020-03-31 23:20:54   일반   LG빌라입구    대잠중앙하이츠   \n",
       "842605  2020-03-31 23:38:06  2020-03-31 23:45:46   일반  대동우방아파트       상대시장   \n",
       "842606  2020-03-31 23:48:33  2020-03-31 23:59:54   일반    해병대서문     부영사랑3차   \n",
       "842607  2020-03-31 23:56:43  2020-04-01 00:04:08   일반    해병대서문      문덕사거리   \n",
       "\n",
       "        버스내체류시간(분)  기준년도  기준월  기준일  기준시간  기준시간(분)  \n",
       "0             7.92  2020    1    2     5       10  \n",
       "1            32.18  2020    1    2     5       13  \n",
       "2             3.68  2020    1    2     5       15  \n",
       "3            34.48  2020    1    2     5       16  \n",
       "4             4.48  2020    1    2     5       18  \n",
       "...            ...   ...  ...  ...   ...      ...  \n",
       "842603        5.07  2020    3   31    23       15  \n",
       "842604        4.05  2020    3   31    23       16  \n",
       "842605        7.67  2020    3   31    23       38  \n",
       "842606       11.35  2020    3   31    23       48  \n",
       "842607        7.42  2020    3   31    23       56  \n",
       "\n",
       "[842608 rows x 11 columns]"
      ]
     },
     "execution_count": 63,
     "metadata": {},
     "output_type": "execute_result"
    }
   ],
   "source": [
    "### 저장 잘 됐는지 확인\n",
    "pd.read_csv(save_file)"
   ]
  },
  {
   "cell_type": "code",
   "execution_count": null,
   "id": "f62c482b-f467-43ed-8fad-98004aa0465b",
   "metadata": {},
   "outputs": [],
   "source": []
  },
  {
   "cell_type": "code",
   "execution_count": null,
   "id": "2e66bb6c-35c8-49a1-a94c-a414be251ddb",
   "metadata": {},
   "outputs": [],
   "source": []
  },
  {
   "cell_type": "code",
   "execution_count": null,
   "id": "51928712-9267-4494-a9c5-2c296740363d",
   "metadata": {},
   "outputs": [],
   "source": []
  },
  {
   "cell_type": "code",
   "execution_count": null,
   "id": "c4ec9193-c19d-4026-85eb-aa7c4b21aa6c",
   "metadata": {},
   "outputs": [],
   "source": []
  },
  {
   "cell_type": "code",
   "execution_count": null,
   "id": "617a7d89-2a98-4d9a-814a-621dfa051f44",
   "metadata": {},
   "outputs": [],
   "source": []
  },
  {
   "cell_type": "code",
   "execution_count": null,
   "id": "4f9fa3d0-de8e-4665-9a55-407e0323d938",
   "metadata": {},
   "outputs": [],
   "source": []
  },
  {
   "cell_type": "code",
   "execution_count": null,
   "id": "abc8f7a5-8bfd-4fe7-a7c8-ed994eef84b4",
   "metadata": {},
   "outputs": [],
   "source": []
  }
 ],
 "metadata": {
  "kernelspec": {
   "display_name": "pk_base_kernel",
   "language": "python",
   "name": "pk_base"
  },
  "language_info": {
   "codemirror_mode": {
    "name": "ipython",
    "version": 3
   },
   "file_extension": ".py",
   "mimetype": "text/x-python",
   "name": "python",
   "nbconvert_exporter": "python",
   "pygments_lexer": "ipython3",
   "version": "3.9.18"
  }
 },
 "nbformat": 4,
 "nbformat_minor": 5
}
