{
 "cells": [
  {
   "cell_type": "markdown",
   "metadata": {},
   "source": [
    "### 함수"
   ]
  },
  {
   "cell_type": "markdown",
   "metadata": {},
   "source": [
    "<함수(function, method, def)>\n",
    "- 자주 반복해서 사용되는 프로그램(특정기능)을 미리 정의해 놓고 호출해서 사용(재사용성)\n",
    "- 값을 전달 받을 수도 있고 반환할 수도 있습니다,\n",
    "- 함수는 함수명, 매개변수들, 반환값으로 정의합니다.\n",
    "\n",
    "<함수를 생성하는 순서>\n",
    "- 절차적 프로그램으로 사전에 테스트\n",
    "- 테스트 시 오류가 없는 경우\n",
    "- 정의된 함수에 프로그램 코드를 가급적 copy하여 넣기\n",
    "- 최종 호출하여 테스트"
   ]
  },
  {
   "cell_type": "code",
   "execution_count": 38,
   "metadata": {},
   "outputs": [
    {
     "name": "stdout",
     "output_type": "stream",
     "text": [
      "test test\n"
     ]
    }
   ],
   "source": [
    "print(\"test\", \"test\")"
   ]
  },
  {
   "cell_type": "code",
   "execution_count": 39,
   "metadata": {},
   "outputs": [
    {
     "data": {
      "text/plain": [
       "1"
      ]
     },
     "execution_count": 39,
     "metadata": {},
     "output_type": "execute_result"
    }
   ],
   "source": [
    "a = int(input(\"번호를 입력하세요 : \")) #숫자로 받기\n",
    "a"
   ]
  },
  {
   "cell_type": "code",
   "execution_count": 40,
   "metadata": {},
   "outputs": [
    {
     "data": {
      "text/plain": [
       "4"
      ]
     },
     "execution_count": 40,
     "metadata": {},
     "output_type": "execute_result"
    }
   ],
   "source": [
    "### 두개의 값을 각각 입력 받아서 더한 값을 출력\n",
    "a = int(input(\"첫번째 숫자 : \"))\n",
    "b = int(input(\"두번째 숫자 : \"))\n",
    "a+b"
   ]
  },
  {
   "cell_type": "code",
   "execution_count": 52,
   "metadata": {},
   "outputs": [],
   "source": [
    "### 함수로 만들기\n",
    "# 두개의 함수를 만듭니다\n",
    "# 첫번째 함수는 두개의 정수값을 각각 입력반는 함수\n",
    "# 두번째 함수는 두개의 정수값을 합산하는 함수 \n",
    "# 세번째 함수를 만들어서 위 두개의 함수를 각각 호출해서 최종 합산 결과를 출력 해주세요.\n",
    "\n",
    "def setInput():\n",
    "    a = int(input(\"첫번째 숫자 : \"))\n",
    "    b = int(input(\"두번째 숫자 : \"))\n",
    "    return a, b"
   ]
  },
  {
   "cell_type": "code",
   "execution_count": 53,
   "metadata": {},
   "outputs": [],
   "source": [
    "def getPlus(a1, b1):\n",
    "    return a1+b1"
   ]
  },
  {
   "cell_type": "code",
   "execution_count": 56,
   "metadata": {},
   "outputs": [],
   "source": [
    "def processMain():\n",
    "    a, b = setInput()\n",
    "    sum = getPlus(a, b)\n",
    "    print(f\"a + b = sum : {a} + {b} = {sum}\")"
   ]
  },
  {
   "cell_type": "code",
   "execution_count": 57,
   "metadata": {},
   "outputs": [
    {
     "name": "stdout",
     "output_type": "stream",
     "text": [
      "a + b = sum : 3 + 4 = 7\n"
     ]
    }
   ],
   "source": [
    "processMain()"
   ]
  },
  {
   "cell_type": "code",
   "execution_count": 59,
   "metadata": {},
   "outputs": [],
   "source": [
    "### 두 개의 값을 전달 받아서 더하는 함수 생성하기\n",
    "# 단, 두번째 매개변수의 값은 디폴트값 2를 사용합니다.\n",
    "# 호출 시 인자(전달하는 값)은 1개만 사용"
   ]
  },
  {
   "cell_type": "code",
   "execution_count": 61,
   "metadata": {},
   "outputs": [],
   "source": [
    "def getPlus2(a, b=2):\n",
    "    return a+b"
   ]
  },
  {
   "cell_type": "code",
   "execution_count": 62,
   "metadata": {},
   "outputs": [
    {
     "data": {
      "text/plain": [
       "12"
      ]
     },
     "execution_count": 62,
     "metadata": {},
     "output_type": "execute_result"
    }
   ],
   "source": [
    "getPlus2(10)"
   ]
  },
  {
   "cell_type": "code",
   "execution_count": 2,
   "metadata": {},
   "outputs": [],
   "source": [
    "### 함수를 생성\n",
    "# 매개변수가 몇 개 들어올지 모름니다.\n",
    "# 전달 받은 매개 변수들을 모두 출력해 주시면 됩니다.\n",
    "# 함수 내에서 print하시면 됩니다.\n",
    "\n",
    "def printMethod(*arge):\n",
    "    print(arge)"
   ]
  },
  {
   "cell_type": "code",
   "execution_count": 4,
   "metadata": {},
   "outputs": [
    {
     "name": "stdout",
     "output_type": "stream",
     "text": [
      "(1, 2, 3, 4, 5)\n"
     ]
    }
   ],
   "source": [
    "printMethod(1, 2, 3, 4, 5)"
   ]
  },
  {
   "cell_type": "markdown",
   "metadata": {},
   "source": [
    "<클래스>\n",
    "- 여러 기능 또는 여러 변수들을 정의해서 사용하는 객체\n",
    "- 하나의 클래스는 여러 기능을 대표할 수 있는 형태들의 모음이라고 생각하시면 됩니다.\n",
    "- 클래스 이름은 대문자로 시작합니다.\n",
    "- 클래스 내에서 정의하는 모든 함수의 매개변수는 self가 필수(첫번째 매개변수에 무조건)\n",
    "- self : 클래스 내에 있는 모든 멤버에 접근할 수 있는 객체를 의미합니다.\n",
    "- 클래스 내에서 함수를 호출할 때에는 self를 이용해서 함수를 호출해야합니다.(함수는 자동으로 멤버가 됩니다.)"
   ]
  },
  {
   "cell_type": "markdown",
   "metadata": {},
   "source": [
    "<클래스 생성자>\n",
    "- 클래스 생성시 초기화 할 값이나, 함수 호출 시 사용합니다.\n",
    "- 최초에 초기화할 값이 없거나 호출할 함수가 없으면 생략 가능합니다.\n",
    "- 생략하는 경우 -> 외부에서 클래스 생성시, default 생성자가 자동으로 호출됩니다.\n",
    "- 생성자의 역할 : 클래스를 메모리에 올리는 작업을 수행합니다.(메모리 주소를 발급합니다.)"
   ]
  },
  {
   "cell_type": "code",
   "execution_count": 20,
   "metadata": {},
   "outputs": [],
   "source": [
    "class Math:\n",
    "    def __init__(self, a, b):\n",
    "        self.a = a\n",
    "        self.b = b\n",
    "        self.getPlus()\n",
    "\n",
    "    def setData(self, a, b):\n",
    "        self.a = a\n",
    "        self.b = b\n",
    "    \n",
    "    def getPlus(self):\n",
    "        self.sum = self.a + self.b\n",
    "        return self.sum"
   ]
  },
  {
   "cell_type": "code",
   "execution_count": 13,
   "metadata": {},
   "outputs": [
    {
     "data": {
      "text/plain": [
       "30"
      ]
     },
     "execution_count": 13,
     "metadata": {},
     "output_type": "execute_result"
    }
   ],
   "source": [
    "### 클래스 생성 후 > 두 개의 데이터를 전달하여 > 더한값을 출력해주세요.\n",
    "math = Math()\n",
    "math.setData(10, 20)\n",
    "math.sum\n",
    "math.getPlus()"
   ]
  },
  {
   "cell_type": "code",
   "execution_count": 21,
   "metadata": {},
   "outputs": [
    {
     "data": {
      "text/plain": [
       "30"
      ]
     },
     "execution_count": 21,
     "metadata": {},
     "output_type": "execute_result"
    }
   ],
   "source": [
    "math = Math(10, 20)\n",
    "math.sum"
   ]
  },
  {
   "cell_type": "code",
   "execution_count": null,
   "metadata": {},
   "outputs": [],
   "source": [
    "\"\"\"\n",
    "구구단 출력 클래스 생성하기\n",
    "- 단과 숫자 두개의 값을 입력 받아서, 입력된 단과 숫자 만큼만 구구단을 출력하도록 합니다. \n",
    "\"\"\""
   ]
  },
  {
   "cell_type": "code",
   "execution_count": 45,
   "metadata": {},
   "outputs": [],
   "source": [
    "class Gugudon:\n",
    "    def __init__(self):\n",
    "        self.a = int(input(\"단을 입력하시오 : \"))\n",
    "        self.b = int(input(\"숫자를 입력하시오 : \"))\n",
    "        self.getPlus()\n",
    "    \n",
    "    def getPlus(self):\n",
    "        for i in range(1, self.b+1, 1):\n",
    "            self.sum = self.a * i\n",
    "            print(f\"{self.a} X {i} = {self.sum}\")\n",
    "            i += 1"
   ]
  },
  {
   "cell_type": "code",
   "execution_count": 46,
   "metadata": {},
   "outputs": [
    {
     "name": "stdout",
     "output_type": "stream",
     "text": [
      "6 X 1 = 6\n",
      "6 X 2 = 12\n",
      "6 X 3 = 18\n",
      "6 X 4 = 24\n",
      "6 X 5 = 30\n",
      "6 X 6 = 36\n"
     ]
    },
    {
     "data": {
      "text/plain": [
       "<__main__.Gugudon at 0x23d07f6e750>"
      ]
     },
     "execution_count": 46,
     "metadata": {},
     "output_type": "execute_result"
    }
   ],
   "source": [
    "Gugudon()"
   ]
  },
  {
   "cell_type": "code",
   "execution_count": null,
   "metadata": {},
   "outputs": [],
   "source": []
  }
 ],
 "metadata": {
  "kernelspec": {
   "display_name": "Python 3",
   "language": "python",
   "name": "python3"
  },
  "language_info": {
   "codemirror_mode": {
    "name": "ipython",
    "version": 3
   },
   "file_extension": ".py",
   "mimetype": "text/x-python",
   "name": "python",
   "nbconvert_exporter": "python",
   "pygments_lexer": "ipython3",
   "version": "3.11.5"
  }
 },
 "nbformat": 4,
 "nbformat_minor": 2
}
