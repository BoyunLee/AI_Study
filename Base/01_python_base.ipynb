{
 "cells": [
  {
   "cell_type": "code",
   "execution_count": null,
   "metadata": {},
   "outputs": [],
   "source": [
    "a = 5"
   ]
  },
  {
   "cell_type": "markdown",
   "metadata": {},
   "source": [
    "## 변수 정의"
   ]
  },
  {
   "cell_type": "code",
   "execution_count": null,
   "metadata": {},
   "outputs": [
    {
     "data": {
      "text/plain": [
       "'\\n데이터 타입의 구분(python 기준)\\n\\n< 한 개의 값을 저장하는 타입>\\n - 일반변수\\n - int, str, float, bool\\n\\n< 여러 개의 값을 저장하는 타입>\\n - List, Dict, Tuple, DataFrame\\n'"
      ]
     },
     "execution_count": 2,
     "metadata": {},
     "output_type": "execute_result"
    }
   ],
   "source": [
    "'''\n",
    "데이터 타입의 구분(python 기준)\n",
    "\n",
    "< 한 개의 값을 저장하는 타입>\n",
    " - 일반변수\n",
    " - int, str, float, bool\n",
    "\n",
    "< 여러 개의 값을 저장하는 타입>\n",
    " - List, Dict, Tuple, DataFrame\n",
    "'''"
   ]
  },
  {
   "cell_type": "code",
   "execution_count": 6,
   "metadata": {},
   "outputs": [
    {
     "name": "stdout",
     "output_type": "stream",
     "text": [
      "10\n"
     ]
    }
   ],
   "source": [
    "### < 한 개의 값을 저장하는 타입>\n",
    "# - 타입이 정해지는 시점 : 값이 정의될 때\n",
    "# - 하나의 변수에 여러 타입을 수정해서 넣을 수 있다\n",
    "\n",
    "### a라는 변수에 10이라는 정수값을 넣어라\n",
    "# - 하나의 메모리 공간에 10이라는 값을 넣어서, 메모리 주소를 a라는 변수에 넣어줌\n",
    "a = 10\n",
    "print(a)\n",
    "\n",
    "a = 'aaa'\n",
    "a = 10.5\n",
    "a = True"
   ]
  },
  {
   "cell_type": "code",
   "execution_count": 8,
   "metadata": {},
   "outputs": [
    {
     "data": {
      "text/plain": [
       "[10, 'aaa', 10.5, True]"
      ]
     },
     "execution_count": 8,
     "metadata": {},
     "output_type": "execute_result"
    }
   ],
   "source": [
    "### < 여러 개의 값을 저장하는 타입>\n",
    "# - List, Dict, Tuple, DataFrame\n",
    "# 사용하는 기호에 따른 구분\n",
    "# - List : [] -> 여러 자료형의 데이터를 담을 수 있음(순서=index o)\n",
    "# - Dict : {} -> 여러 자료형의 데이터를 key:value 형태로 담을 수 있음(순서x)\n",
    "# - Tuple : () -> 리스트와 동일하게 사용되며, 다만 수정을 못한다는 차이점만 있음\n",
    "\n",
    "a_list = [10, \"aaa\", 10.5, True]\n",
    "a_list"
   ]
  },
  {
   "cell_type": "code",
   "execution_count": 28,
   "metadata": {},
   "outputs": [
    {
     "data": {
      "text/plain": [
       "'aaa'"
      ]
     },
     "execution_count": 28,
     "metadata": {},
     "output_type": "execute_result"
    }
   ],
   "source": [
    "a= 20\n",
    "\n",
    "b_list = [a, a_list]\n",
    "b_list[1][1]"
   ]
  },
  {
   "cell_type": "code",
   "execution_count": 14,
   "metadata": {},
   "outputs": [
    {
     "data": {
      "text/plain": [
       "('a', 'b')"
      ]
     },
     "execution_count": 14,
     "metadata": {},
     "output_type": "execute_result"
    }
   ],
   "source": [
    "a_str = 'abcde'\n",
    "a_str[0], a_str[1]"
   ]
  },
  {
   "cell_type": "code",
   "execution_count": 23,
   "metadata": {},
   "outputs": [
    {
     "data": {
      "text/plain": [
       "{'name': '홍길동2', 'age': 50, 'area': '부산'}"
      ]
     },
     "execution_count": 23,
     "metadata": {},
     "output_type": "execute_result"
    }
   ],
   "source": [
    "dict_data = {'name' : '홍길동', 'age' : 50, 'area' : '부산'} # 메모리 공간 10개\n",
    "dict_data['name']\n",
    "dict_data['name'] = '홍길동2'\n",
    "dict_data"
   ]
  },
  {
   "cell_type": "code",
   "execution_count": 30,
   "metadata": {},
   "outputs": [
    {
     "data": {
      "text/plain": [
       "[20, [10, 'aaa', 10.5, True], '홍길동']"
      ]
     },
     "execution_count": 30,
     "metadata": {},
     "output_type": "execute_result"
    }
   ],
   "source": [
    "b_list.append('홍길동')\n",
    "b_list"
   ]
  },
  {
   "cell_type": "code",
   "execution_count": 31,
   "metadata": {},
   "outputs": [
    {
     "data": {
      "text/plain": [
       "dict_keys(['name', 'age', 'area'])"
      ]
     },
     "execution_count": 31,
     "metadata": {},
     "output_type": "execute_result"
    }
   ],
   "source": [
    "### 딕셔너리 -> key값 조회하기\n",
    "dict_data.keys()"
   ]
  },
  {
   "cell_type": "code",
   "execution_count": 33,
   "metadata": {},
   "outputs": [
    {
     "data": {
      "text/plain": [
       "dict_values(['홍길동2', 50, '부산'])"
      ]
     },
     "execution_count": 33,
     "metadata": {},
     "output_type": "execute_result"
    }
   ],
   "source": [
    "dict_data.values()"
   ]
  },
  {
   "cell_type": "code",
   "execution_count": 34,
   "metadata": {},
   "outputs": [
    {
     "data": {
      "text/plain": [
       "dict_items([('name', '홍길동2'), ('age', 50), ('area', '부산')])"
      ]
     },
     "execution_count": 34,
     "metadata": {},
     "output_type": "execute_result"
    }
   ],
   "source": [
    "dict_data.items()"
   ]
  },
  {
   "cell_type": "code",
   "execution_count": 58,
   "metadata": {},
   "outputs": [
    {
     "data": {
      "text/plain": [
       "4"
      ]
     },
     "execution_count": 58,
     "metadata": {},
     "output_type": "execute_result"
    }
   ],
   "source": [
    "a_list\n",
    "len(a_list)"
   ]
  },
  {
   "cell_type": "code",
   "execution_count": 59,
   "metadata": {},
   "outputs": [
    {
     "name": "stdout",
     "output_type": "stream",
     "text": [
      "10\n",
      "aaa\n",
      "10.5\n",
      "True\n"
     ]
    }
   ],
   "source": [
    "### a_list의 값들을 for 반복문을 이용해서 출력\n",
    "# 반복문 사용 방법 1: 인덱스 번호 이용\n",
    "# for(i=0; i<10; i++){}\n",
    "for i in range(0, len(a_list), 1):\n",
    "    print(a_list[i])"
   ]
  },
  {
   "cell_type": "code",
   "execution_count": 62,
   "metadata": {},
   "outputs": [
    {
     "name": "stdout",
     "output_type": "stream",
     "text": [
      "10\n",
      "aaa\n",
      "10.5\n",
      "True\n"
     ]
    }
   ],
   "source": [
    "# 반복문 사용 방법 2: 값을 이용\n",
    "for v in a_list:\n",
    "    print(v)"
   ]
  },
  {
   "cell_type": "code",
   "execution_count": 78,
   "metadata": {},
   "outputs": [
    {
     "name": "stdout",
     "output_type": "stream",
     "text": [
      "name 홍길동2\n",
      "age 50\n",
      "area 부산\n"
     ]
    }
   ],
   "source": [
    "for i in dict_data.keys():\n",
    "    print(i, dict_data[i])"
   ]
  },
  {
   "cell_type": "code",
   "execution_count": 70,
   "metadata": {},
   "outputs": [
    {
     "name": "stdout",
     "output_type": "stream",
     "text": [
      "홍길동2\n",
      "50\n",
      "부산\n"
     ]
    }
   ],
   "source": [
    "for v in dict_data.values():\n",
    "    print(v)"
   ]
  },
  {
   "cell_type": "code",
   "execution_count": 79,
   "metadata": {},
   "outputs": [
    {
     "data": {
      "text/plain": [
       "dict_items([('name', '홍길동2'), ('age', 50), ('area', '부산')])"
      ]
     },
     "execution_count": 79,
     "metadata": {},
     "output_type": "execute_result"
    }
   ],
   "source": [
    "dict_data.items()"
   ]
  },
  {
   "cell_type": "code",
   "execution_count": 81,
   "metadata": {},
   "outputs": [
    {
     "name": "stdout",
     "output_type": "stream",
     "text": [
      "name 홍길동2\n",
      "age 50\n",
      "area 부산\n"
     ]
    }
   ],
   "source": [
    "for k, v in dict_data.items():\n",
    "    print(k, v)"
   ]
  }
 ],
 "metadata": {
  "kernelspec": {
   "display_name": "Python 3",
   "language": "python",
   "name": "python3"
  },
  "language_info": {
   "codemirror_mode": {
    "name": "ipython",
    "version": 3
   },
   "file_extension": ".py",
   "mimetype": "text/x-python",
   "name": "python",
   "nbconvert_exporter": "python",
   "pygments_lexer": "ipython3",
   "version": "3.11.5"
  }
 },
 "nbformat": 4,
 "nbformat_minor": 2
}
